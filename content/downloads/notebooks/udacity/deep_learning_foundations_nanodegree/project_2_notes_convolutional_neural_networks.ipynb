{
 "cells": [
  {
   "cell_type": "markdown",
   "metadata": {
    "toc": "true"
   },
   "source": [
    "# Table of Contents\n",
    " <p><div class=\"lev1 toc-item\"><a href=\"#Summary\" data-toc-modified-id=\"Summary-1\"><span class=\"toc-item-num\">1&nbsp;&nbsp;</span>Summary</a></div><div class=\"lev1 toc-item\"><a href=\"#Version-Control\" data-toc-modified-id=\"Version-Control-2\"><span class=\"toc-item-num\">2&nbsp;&nbsp;</span>Version Control</a></div><div class=\"lev1 toc-item\"><a href=\"#Change-Log\" data-toc-modified-id=\"Change-Log-3\"><span class=\"toc-item-num\">3&nbsp;&nbsp;</span>Change Log</a></div><div class=\"lev1 toc-item\"><a href=\"#Setup\" data-toc-modified-id=\"Setup-4\"><span class=\"toc-item-num\">4&nbsp;&nbsp;</span>Setup</a></div><div class=\"lev1 toc-item\"><a href=\"#Convolutional-Neural-Networks\" data-toc-modified-id=\"Convolutional-Neural-Networks-5\"><span class=\"toc-item-num\">5&nbsp;&nbsp;</span>Convolutional Neural Networks</a></div><div class=\"lev2 toc-item\"><a href=\"#CS231n-Winter-2016:-Lecture-7:-Convolutional-Neural-Networks-for-Visual-Recognition\" data-toc-modified-id=\"CS231n-Winter-2016:-Lecture-7:-Convolutional-Neural-Networks-for-Visual-Recognition-51\"><span class=\"toc-item-num\">5.1&nbsp;&nbsp;</span>CS231n Winter 2016: Lecture 7: Convolutional Neural Networks for Visual Recognition</a></div><div class=\"lev1 toc-item\"><a href=\"#Key-Terms\" data-toc-modified-id=\"Key-Terms-6\"><span class=\"toc-item-num\">6&nbsp;&nbsp;</span>Key Terms</a></div><div class=\"lev2 toc-item\"><a href=\"#Architecture\" data-toc-modified-id=\"Architecture-61\"><span class=\"toc-item-num\">6.1&nbsp;&nbsp;</span>Architecture</a></div><div class=\"lev2 toc-item\"><a href=\"#Hubel-and-Wesiel\" data-toc-modified-id=\"Hubel-and-Wesiel-62\"><span class=\"toc-item-num\">6.2&nbsp;&nbsp;</span>Hubel and Wesiel</a></div><div class=\"lev2 toc-item\"><a href=\"#Additional-Reading\" data-toc-modified-id=\"Additional-Reading-63\"><span class=\"toc-item-num\">6.3&nbsp;&nbsp;</span>Additional Reading</a></div><div class=\"lev2 toc-item\"><a href=\"#Addional-Videos\" data-toc-modified-id=\"Addional-Videos-64\"><span class=\"toc-item-num\">6.4&nbsp;&nbsp;</span>Addional Videos</a></div><div class=\"lev3 toc-item\"><a href=\"#CS231n-Winter-2016:-Lecture-6:-Neural-Networks-Part-3-/-Intro-to-ConvNets\" data-toc-modified-id=\"CS231n-Winter-2016:-Lecture-6:-Neural-Networks-Part-3-/-Intro-to-ConvNets-641\"><span class=\"toc-item-num\">6.4.1&nbsp;&nbsp;</span>CS231n Winter 2016: Lecture 6: Neural Networks Part 3 / Intro to ConvNets</a></div><div class=\"lev2 toc-item\"><a href=\"#Other-resources\" data-toc-modified-id=\"Other-resources-65\"><span class=\"toc-item-num\">6.5&nbsp;&nbsp;</span>Other resources</a></div><div class=\"lev3 toc-item\"><a href=\"#CIFAR-10-ConvNet-Demo---very-good!\" data-toc-modified-id=\"CIFAR-10-ConvNet-Demo---very-good!-651\"><span class=\"toc-item-num\">6.5.1&nbsp;&nbsp;</span>CIFAR-10 ConvNet Demo - very good!</a></div>"
   ]
  },
  {
   "cell_type": "markdown",
   "metadata": {},
   "source": [
    "# Summary"
   ]
  },
  {
   "cell_type": "markdown",
   "metadata": {},
   "source": [
    "Notes taken to help for the second project, image recognition, for the [Deep Learning Foundations Nanodegree](https://www.udacity.com/course/deep-learning-nanodegree-foundation--nd101) course delivered by Udacity. \n",
    "\n",
    "My Github repo for this project can be found here: [adriantorrie/udacity_dlfnd_project_2](https://github.com/adriantorrie/udacity_dlfnd_project_1)"
   ]
  },
  {
   "cell_type": "markdown",
   "metadata": {},
   "source": [
    "# Version Control"
   ]
  },
  {
   "cell_type": "code",
   "execution_count": 17,
   "metadata": {
    "ExecuteTime": {
     "end_time": "2017-03-23T14:21:58.642390Z",
     "start_time": "2017-03-24T01:21:58.067541+11:00"
    },
    "collapsed": false
   },
   "outputs": [
    {
     "name": "stdout",
     "output_type": "stream",
     "text": [
      "Python: 3.5.3 |Continuum Analytics, Inc.| (default, Feb 22 2017, 21:13:27) \n",
      "[GCC 4.4.7 20120313 (Red Hat 4.4.7-1)]\n",
      "\n",
      "matplotlib:\t2.0.0\n",
      "numpy:\t\t1.12.0\n",
      "pandas:\t\t0.19.2\n",
      "quandl:\t\t3.0.1\n",
      "sklearn:\t0.18.1\n",
      "scipy:\t\t0.18.1\n",
      "statsmodels:\t0.8.0\n",
      "tensorflow:\t1.0.1\n"
     ]
    }
   ],
   "source": [
    "%run ../../../code/version_check.py"
   ]
  },
  {
   "cell_type": "markdown",
   "metadata": {},
   "source": [
    "# Change Log"
   ]
  },
  {
   "cell_type": "markdown",
   "metadata": {},
   "source": [
    "    Date Created: 2017-03-24\n",
    "    \n",
    "    Date of Change    Change Notes\n",
    "    --------------    ----------------------------------------------------------------\n",
    "    2017-03-24       Initial draft"
   ]
  },
  {
   "cell_type": "markdown",
   "metadata": {},
   "source": [
    "# Setup"
   ]
  },
  {
   "cell_type": "code",
   "execution_count": 1,
   "metadata": {
    "ExecuteTime": {
     "end_time": "2017-03-23T13:21:46.672424Z",
     "start_time": "2017-03-24T00:21:45.303169+11:00"
    },
    "collapsed": false
   },
   "outputs": [],
   "source": [
    "%matplotlib inline\n",
    "\n",
    "import matplotlib\n",
    "import matplotlib.pyplot as plt\n",
    "import numpy as np\n",
    "import tensorflow as tf\n",
    "\n",
    "from IPython.display import YouTubeVideo\n",
    "\n",
    "plt.style.use('bmh')\n",
    "matplotlib.rcParams['figure.figsize'] = (15, 4)"
   ]
  },
  {
   "cell_type": "markdown",
   "metadata": {},
   "source": [
    "[[Top]](#Table-of-Contents)"
   ]
  },
  {
   "cell_type": "markdown",
   "metadata": {},
   "source": [
    "# Convolutional Neural Networks"
   ]
  },
  {
   "cell_type": "markdown",
   "metadata": {},
   "source": [
    "## CS231n Winter 2016: Lecture 7: Convolutional Neural Networks for Visual Recognition\n",
    " * Andrej Karpathy\n",
    " * Published 27 Jan 2016\n",
    " * Reddit /r/cs231n\n",
    " * Standard YouTube Licence\n",
    " \n",
    "[Supporting notes](https://cs231n.github.io/convolutional-networks/#overview)"
   ]
  },
  {
   "cell_type": "code",
   "execution_count": 16,
   "metadata": {
    "ExecuteTime": {
     "end_time": "2017-03-23T14:19:46.674992Z",
     "start_time": "2017-03-24T01:19:46.438044+11:00"
    },
    "collapsed": false
   },
   "outputs": [
    {
     "data": {
      "image/jpeg": "[encoded data removed]",
      "text/html": [
       "\n",
       "        <iframe\n",
       "            width=\"650\"\n",
       "            height=\"365\"\n",
       "            src=\"https://www.youtube.com/embed/LxfUGhug-iQ?autoplay=1\"\n",
       "            frameborder=\"0\"\n",
       "            allowfullscreen\n",
       "        ></iframe>\n",
       "        "
      ],
      "text/plain": [
       "<IPython.lib.display.YouTubeVideo at 0x7f7479ec89b0>"
      ]
     },
     "execution_count": 16,
     "metadata": {},
     "output_type": "execute_result"
    }
   ],
   "source": [
    "YouTubeVideo(\"LxfUGhug-iQ\", height=365, width=650)"
   ]
  },
  {
   "cell_type": "markdown",
   "metadata": {
    "ExecuteTime": {
     "end_time": "2017-03-23T13:23:32.726604Z",
     "start_time": "2017-03-24T00:23:32.714298+11:00"
    }
   },
   "source": [
    " # Key Terms"
   ]
  },
  {
   "cell_type": "markdown",
   "metadata": {},
   "source": [
    " * Filter = Kernel => The filter \"slides\" over the input image\n",
    " * Slide = Number of pixels the filter moves\n",
    " * Padding = The padding around the image to allow the filter output to be the same dimensions as the input"
   ]
  },
  {
   "cell_type": "markdown",
   "metadata": {},
   "source": [
    "[[Top]](#Table-of-Contents)"
   ]
  },
  {
   "cell_type": "markdown",
   "metadata": {
    "collapsed": true
   },
   "source": [
    "## Architecture\n",
    "\n",
    "The general architecture of a covnet is seen below. It has been influenced by the Hubel and Weseil studies (below).\n",
    "\n",
    "<img src=\"https://cs231n.github.io/assets/cnn/cnn.jpeg\",width=450,height=200>"
   ]
  },
  {
   "cell_type": "markdown",
   "metadata": {},
   "source": [
    " ## Hubel and Wesiel\n",
    " Hubel and Wesiel did studies in 1959, 1962, 1968, using cats to determine how the visual cortex worked.\n",
    " \n",
    " * <span style=\"color:red\">Input</span>\n",
    " * <span style=\"color:blue\">1st filter bank with multiple activation maps</span>\n",
    " * 2nd Dotted layer</span> is another filter bank\n",
    " * <span style=\"color:gray\">3rd filter bank with multiple activation maps</span>\n",
    " \n",
    "All layers are 3-dimensional, with the 3 filter layers above progressing from (left to right) fine detail to large object recognition, the image below shows the same feature hierarchy for object recognition, oriented from bottom to top.\n",
    " * 1st <span style=\"color:blue\">blue</span> layer is the simple cell / <span style=\"background-color: #e6e6e6\">low level layer</span> in the image below\n",
    " * 2nd Dotted layer is the complex cell / <span style=\"background-color: #e6e6e6\">mid level layer</span> in the image below\n",
    " * 3rd <span style=\"color:gray\">gray</span> layer is the hyper-complex cell / <span style=\"background-color: #e6e6e6\">high level layer</span> in the image below\n",
    " \n",
    " <img src=\"http://cns-alumni.bu.edu/~slehar/webstuff/pcave/hubel.jpg\" />"
   ]
  },
  {
   "cell_type": "markdown",
   "metadata": {},
   "source": [
    "Directly quoted from [here](https://cs231n.github.io/convolutional-networks/#conv)\n",
    "\n",
    "> **To summarize, the Conv Layer:**\n",
    ">    \n",
    "> * Accepts a volume of size $W_1 \\times H_1 \\times D_1$\n",
    "> * Requires four hyperparameters:\n",
    ">  * the number of filters $K$\n",
    ">  * their spatial extent $F$\n",
    ">  * the stride $S$\n",
    ">  * the amount of zero padding $P$\n",
    "> * Produces a volume of size $W_2 \\times H_2 \\times D_2$ where:\n",
    ">  * $W_2 = (W_1 − F + 2_P) / S + 1$\n",
    ">  * $H_2 = (H_1 − F + 2_P) / S + 1$ (i.e. width and height are computed equally by symmetry)\n",
    ">  * $D_2 = K$\n",
    "> * With parameter sharing, it introduces:\n",
    ">  * $F \\times F \\times D_1$ weights per filter\n",
    ">  * for a total of $F \\times F \\times D_1 \\times K$ weights\n",
    ">  * and $K$ biases\n",
    "> * In the output volume, the $d$-th depth slice (of size $W_2 \\times H_2$) is the result of performing:\n",
    ">  * a valid convolution of the $d$-th filter over the input volume\n",
    ">  * with a stride of $S$, and then \n",
    ">  * offset by $d$-th bias\n",
    "> * A common setting of the hyperparameters is:\n",
    ">  * $F = 3$\n",
    ">  * $S = 1$\n",
    ">  * $P = 1$\n",
    ">\n",
    "> However, there are common conventions and rules of thumb that motivate these hyperparameters. See the [ConvNet architectures section](https://cs231n.github.io/convolutional-networks/#architectures) ..."
   ]
  },
  {
   "cell_type": "markdown",
   "metadata": {},
   "source": [
    "[[Top]](#Table-of-Contents)"
   ]
  },
  {
   "cell_type": "code",
   "execution_count": 5,
   "metadata": {
    "collapsed": false
   },
   "outputs": [
    {
     "data": {
      "image/png": "[encoded data removed]",
      "text/plain": [
       "<matplotlib.figure.Figure at 0x7fd2de7e12e8>"
      ]
     },
     "metadata": {},
     "output_type": "display_data"
    }
   ],
   "source": [
    "x = np.linspace(start=-10, stop=11, num=100)\n",
    "y = sigmoid(x)\n",
    "\n",
    "upper_bound = np.repeat([1.0,], len(x))\n",
    "success_threshold = np.repeat([0.5,], len(x))\n",
    "lower_bound = np.repeat([0.0,], len(x))\n",
    "\n",
    "plt.plot(\n",
    "    # upper bound\n",
    "    x, upper_bound, 'w--',\n",
    "    \n",
    "    # success threshold\n",
    "    x, success_threshold, 'w--',\n",
    "    \n",
    "    # lower bound\n",
    "    x, lower_bound, 'w--',\n",
    "    \n",
    "    # sigmoid\n",
    "    x, y\n",
    ")\n",
    "\n",
    "plt.grid(False)\n",
    "plt.xlabel(r'$x$')\n",
    "plt.ylabel(r'Probability of success')\n",
    "plt.title('Sigmoid Function Example')\n",
    "plt.show()"
   ]
  },
  {
   "cell_type": "markdown",
   "metadata": {},
   "source": [
    "[[Top]](#Table-of-Contents)"
   ]
  },
  {
   "cell_type": "markdown",
   "metadata": {},
   "source": [
    "## Additional Reading\n",
    "\n",
    " * [CS231n Convolutional Neural Networks for Visual Recognition](https://cs231n.github.io/)\n",
    " * [Deep Learning Book - Chapter 9: Convolutional Networks](http://www.deeplearningbook.org/contents/convnets.html)\n",
    " "
   ]
  },
  {
   "cell_type": "markdown",
   "metadata": {},
   "source": [
    "[[Top]](#Table-of-Contents)"
   ]
  },
  {
   "cell_type": "markdown",
   "metadata": {
    "collapsed": true
   },
   "source": [
    "## Addional Videos\n",
    "\n",
    "### CS231n Winter 2016: Lecture 6: Neural Networks Part 3 / Intro to ConvNets\n",
    " * Andrej Karpathy\n",
    " * Published 27 Jan 2016\n",
    " * Reddit /r/cs231n\n",
    " * Standard YouTube Licence"
   ]
  },
  {
   "cell_type": "code",
   "execution_count": 19,
   "metadata": {
    "ExecuteTime": {
     "end_time": "2017-03-23T14:26:45.614593Z",
     "start_time": "2017-03-24T01:26:45.258819+11:00"
    },
    "collapsed": false
   },
   "outputs": [
    {
     "data": {
      "text/html": [
       "\n",
       "        <iframe\n",
       "            width=\"650\"\n",
       "            height=\"365\"\n",
       "            src=\"https://www.youtube.com/embed/v=hd_KFJ5ktUc\"\n",
       "            frameborder=\"0\"\n",
       "            allowfullscreen\n",
       "        ></iframe>\n",
       "        "
      ],
      "text/plain": [
       "<IPython.lib.display.YouTubeVideo at 0x7f74702bb550>"
      ]
     },
     "execution_count": 19,
     "metadata": {},
     "output_type": "execute_result"
    }
   ],
   "source": [
    "YouTubeVideo(\"v=hd_KFJ5ktUc\", height=365, width=650)"
   ]
  },
  {
   "cell_type": "markdown",
   "metadata": {},
   "source": [
    "[[Top]](#Table-of-Contents)"
   ]
  },
  {
   "cell_type": "code",
   "execution_count": 20,
   "metadata": {
    "ExecuteTime": {
     "end_time": "2017-03-23T14:51:13.338656Z",
     "start_time": "2017-03-24T01:51:12.848944+11:00"
    },
    "collapsed": false,
    "scrolled": false
   },
   "outputs": [
    {
     "data": {
      "text/html": [
       "\n",
       "        <iframe\n",
       "            width=\"650\"\n",
       "            height=\"365\"\n",
       "            src=\"https://www.youtube.com/embed/v=u6aEYuemt0M\"\n",
       "            frameborder=\"0\"\n",
       "            allowfullscreen\n",
       "        ></iframe>\n",
       "        "
      ],
      "text/plain": [
       "<IPython.lib.display.YouTubeVideo at 0x7f74702bbc50>"
      ]
     },
     "execution_count": 20,
     "metadata": {},
     "output_type": "execute_result"
    }
   ],
   "source": [
    "YouTubeVideo(\"v=u6aEYuemt0M\", height=365, width=650)"
   ]
  },
  {
   "cell_type": "markdown",
   "metadata": {},
   "source": [
    "[[Top]](#Table-of-Contents)"
   ]
  },
  {
   "cell_type": "markdown",
   "metadata": {},
   "source": [
    "## Other resources\n",
    "\n",
    "### CIFAR-10 ConvNet Demo - very good!\n",
    "[CIFAR-10 ConvNet Demo](https://cs.stanford.edu/people/karpathy/convnetjs/demo/cifar10.html) "
   ]
  },
  {
   "cell_type": "markdown",
   "metadata": {},
   "source": [
    "[[Top]](#Table-of-Contents)"
   ]
  }
 ],
 "metadata": {
  "kernelspec": {
   "display_name": "Python [default]",
   "language": "python",
   "name": "python3"
  },
  "language_info": {
   "codemirror_mode": {
    "name": "ipython",
    "version": 3
   },
   "file_extension": ".py",
   "mimetype": "text/x-python",
   "name": "python",
   "nbconvert_exporter": "python",
   "pygments_lexer": "ipython3",
   "version": "3.5.3"
  },
  "toc": {
   "colors": {
    "hover_highlight": "#DAA520",
    "running_highlight": "#FF0000",
    "selected_highlight": "#FFD700"
   },
   "moveMenuLeft": true,
   "nav_menu": {
    "height": "297px",
    "width": "252px"
   },
   "navigate_menu": true,
   "number_sections": true,
   "sideBar": true,
   "threshold": 4,
   "toc_cell": true,
   "toc_section_display": "block",
   "toc_window_display": true
  }
 },
 "nbformat": 4,
 "nbformat_minor": 2
}
