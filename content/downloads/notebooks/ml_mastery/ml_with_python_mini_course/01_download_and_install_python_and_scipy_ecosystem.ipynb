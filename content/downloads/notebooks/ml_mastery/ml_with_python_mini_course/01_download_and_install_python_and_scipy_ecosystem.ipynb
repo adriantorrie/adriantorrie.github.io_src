{
 "cells": [
  {
   "cell_type": "code",
   "execution_count": 1,
   "metadata": {
    "collapsed": false
   },
   "outputs": [
    {
     "name": "stdout",
     "output_type": "stream",
     "text": [
      "Python: 3.5.2 |Continuum Analytics, Inc.| (default, Jul  2 2016, 17:53:06) \n",
      "[GCC 4.4.7 20120313 (Red Hat 4.4.7-1)]\n",
      "\n",
      "scipy:\t\t0.18.1\n",
      "numpy:\t\t1.11.2\n",
      "matplotlib:\t1.5.3\n",
      "pandas:\t\t0.19.0\n",
      "sklearn:\t0.18\n"
     ]
    }
   ],
   "source": [
    "# Python version\n",
    "import sys\n",
    "print('Python: {}\\n'.format(sys.version))\n",
    "\n",
    "# scipy\n",
    "import scipy\n",
    "print('scipy:\\t\\t{}'.format(scipy.__version__))\n",
    "\n",
    "# numpy\n",
    "import numpy\n",
    "print('numpy:\\t\\t{}'.format(numpy.__version__))\n",
    "\n",
    "# matplotlib\n",
    "import matplotlib\n",
    "print('matplotlib:\\t{}'.format(matplotlib.__version__))\n",
    "\n",
    "# pandas\n",
    "import pandas\n",
    "print('pandas:\\t\\t{}'.format(pandas.__version__))\n",
    "\n",
    "# scikit-learn\n",
    "import sklearn\n",
    "print('sklearn:\\t{}'.format(sklearn.__version__))"
   ]
  },
  {
   "cell_type": "code",
   "execution_count": 2,
   "metadata": {
    "collapsed": false
   },
   "outputs": [
    {
     "name": "stdout",
     "output_type": "stream",
     "text": [
      "Python: 3.5.2 |Continuum Analytics, Inc.| (default, Jul  2 2016, 17:53:06) \n",
      "[GCC 4.4.7 20120313 (Red Hat 4.4.7-1)]\n",
      "\n",
      "scipy:\t\t0.18.1\n",
      "numpy:\t\t1.11.2\n",
      "matplotlib:\t1.5.3\n",
      "pandas:\t\t0.19.0\n",
      "sklearn:\t0.18\n"
     ]
    }
   ],
   "source": [
    "%run ../../../code/version_check.py"
   ]
  }
 ],
 "metadata": {
  "anaconda-cloud": {},
  "kernelspec": {
   "display_name": "Python [default]",
   "language": "python",
   "name": "python3"
  },
  "language_info": {
   "codemirror_mode": {
    "name": "ipython",
    "version": 3
   },
   "file_extension": ".py",
   "mimetype": "text/x-python",
   "name": "python",
   "nbconvert_exporter": "python",
   "pygments_lexer": "ipython3",
   "version": "3.5.2"
  }
 },
 "nbformat": 4,
 "nbformat_minor": 1
}
