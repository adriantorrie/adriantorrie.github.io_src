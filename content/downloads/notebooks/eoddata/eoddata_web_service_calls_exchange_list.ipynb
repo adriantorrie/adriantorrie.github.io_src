{
 "cells": [
  {
   "cell_type": "markdown",
   "metadata": {},
   "source": [
    "## Summary"
   ]
  },
  {
   "cell_type": "markdown",
   "metadata": {},
   "source": [
    "## Setup"
   ]
  },
  {
   "cell_type": "code",
   "execution_count": 222,
   "metadata": {
    "collapsed": false
   },
   "outputs": [],
   "source": [
    "%run ../../code/eoddata.py\n",
    "\n",
    "from getpass import getpass"
   ]
  },
  {
   "cell_type": "code",
   "execution_count": 35,
   "metadata": {
    "collapsed": false
   },
   "outputs": [
    {
     "name": "stdout",
     "output_type": "stream",
     "text": [
      "········\n"
     ]
    }
   ],
   "source": [
    "username = getpass()"
   ]
  },
  {
   "cell_type": "code",
   "execution_count": 9,
   "metadata": {
    "collapsed": false
   },
   "outputs": [
    {
     "name": "stdout",
     "output_type": "stream",
     "text": [
      "········\n"
     ]
    }
   ],
   "source": [
    "password = getpass()"
   ]
  },
  {
   "cell_type": "code",
   "execution_count": 187,
   "metadata": {
    "collapsed": false
   },
   "outputs": [],
   "source": [
    "eoddata = Client(username, password)\n",
    "token = eoddata.get_token()\n",
    "ws = eoddata.get_web_service()\n",
    "ns = eoddata.get_namespace()\n",
    "session = eoddata.get_session()"
   ]
  },
  {
   "cell_type": "markdown",
   "metadata": {},
   "source": [
    "## ExchangeList()"
   ]
  },
  {
   "cell_type": "code",
   "execution_count": 189,
   "metadata": {
    "collapsed": false
   },
   "outputs": [],
   "source": [
    "call = 'ExchangeList'\n",
    "kwargs = {'Token': token,}\n",
    "pattern = \".//{%s}EXCHANGE\"\n",
    "\n",
    "url = '/'.join((ws, call))\n",
    "response = session.get(url, params=kwargs, stream=True)\n",
    "\n",
    "if response.status_code == 200:\n",
    "    root = etree.parse(response.raw).getroot()"
   ]
  },
  {
   "cell_type": "markdown",
   "metadata": {},
   "source": [
    "### Gather elements"
   ]
  },
  {
   "cell_type": "code",
   "execution_count": 190,
   "metadata": {
    "collapsed": false
   },
   "outputs": [],
   "source": [
    "elements = root.findall(pattern %(ns))"
   ]
  },
  {
   "cell_type": "markdown",
   "metadata": {},
   "source": [
    "### Get data"
   ]
  },
  {
   "cell_type": "code",
   "execution_count": 193,
   "metadata": {
    "collapsed": false
   },
   "outputs": [
    {
     "data": {
      "text/plain": [
       "['AMEX',\n",
       " 'AMS',\n",
       " 'ASX',\n",
       " 'BRU',\n",
       " 'BSE',\n",
       " 'CBOT',\n",
       " 'CFE',\n",
       " 'CME',\n",
       " 'COMEX',\n",
       " 'EUREX',\n",
       " 'FOREX',\n",
       " 'HKEX',\n",
       " 'INDEX',\n",
       " 'KCBT',\n",
       " 'LIFFE',\n",
       " 'LIS',\n",
       " 'LSE',\n",
       " 'MGEX',\n",
       " 'MLSE',\n",
       " 'NASDAQ',\n",
       " 'NSE',\n",
       " 'NYBOT',\n",
       " 'NYMEX',\n",
       " 'NYSE',\n",
       " 'NZX',\n",
       " 'OTCBB',\n",
       " 'PAR',\n",
       " 'SGX',\n",
       " 'TSX',\n",
       " 'TSXV',\n",
       " 'USMF',\n",
       " 'WCE']"
      ]
     },
     "execution_count": 193,
     "metadata": {},
     "output_type": "execute_result"
    }
   ],
   "source": [
    "exchanges = sorted(element.get('Code') for element in elements)\n",
    "exchanges"
   ]
  },
  {
   "cell_type": "markdown",
   "metadata": {},
   "source": [
    "### Save to file"
   ]
  },
  {
   "cell_type": "code",
   "execution_count": null,
   "metadata": {
    "collapsed": true
   },
   "outputs": [],
   "source": [
    "with open('./data/exchanges.csv', 'w') as f:\n",
    "    for element in elements:\n",
    "        f.write('\"%s\"\\n' % '\",\"'.join(element.attrib.values()))"
   ]
  },
  {
   "cell_type": "markdown",
   "metadata": {},
   "source": [
    "### Data inspection"
   ]
  },
  {
   "cell_type": "code",
   "execution_count": 192,
   "metadata": {
    "collapsed": false
   },
   "outputs": [
    {
     "name": "stdout",
     "output_type": "stream",
     "text": [
      "('Message', 'Success')\n",
      "('Source', 'Data.ExchangeList')\n",
      "('Date', '2017-02-23T10:11:07.1065547-06:00')\n"
     ]
    }
   ],
   "source": [
    "for item in root.items():\n",
    "    print (item)"
   ]
  },
  {
   "cell_type": "code",
   "execution_count": 211,
   "metadata": {
    "collapsed": false
   },
   "outputs": [
    {
     "name": "stdout",
     "output_type": "stream",
     "text": [
      "{'Message': 'Success', 'Source': 'Data.ExchangeList', 'Date': '2017-02-23T10:11:07.1065547-06:00'}\n",
      "{}\n",
      "{'Suffix': '', 'Country': 'US', 'Declines': '897', 'TimeZone': 'Eastern Standard Time', 'Code': 'AMEX', 'Currency': 'USD', 'Advances': '3265', 'IsIntraday': 'true', 'HasIntradayProduct': 'true', 'LastTradeDateTime': '2017-02-23T10:53:06', 'Name': 'American Stock Exchange', 'IntradayStartDate': '2008-01-01T00:00:00'}\n",
      "{'Suffix': 'AX', 'Country': 'AU', 'Declines': '494', 'TimeZone': 'AUS Eastern Standard Time', 'Code': 'ASX', 'Currency': 'AUD', 'Advances': '14701', 'IsIntraday': 'false', 'HasIntradayProduct': 'false', 'LastTradeDateTime': '2017-02-23T00:00:00', 'Name': 'Australian Securities Exchange', 'IntradayStartDate': '0001-01-01T00:00:00'}\n",
      "{'Suffix': 'I', 'Country': 'IN', 'Declines': '0', 'TimeZone': 'India Standard Time', 'Code': 'BSE', 'Currency': 'INR', 'Advances': '4189', 'IsIntraday': 'false', 'HasIntradayProduct': 'false', 'LastTradeDateTime': '2017-02-23T00:00:00', 'Name': 'Bombay Stock Exchange', 'IntradayStartDate': '0001-01-01T00:00:00'}\n",
      "{'Suffix': '', 'Country': 'US', 'Declines': '234', 'TimeZone': 'Central Standard Time', 'Code': 'CBOT', 'Currency': 'USD', 'Advances': '101859', 'IsIntraday': 'true', 'HasIntradayProduct': 'true', 'LastTradeDateTime': '2017-02-22T00:00:00', 'Name': 'Chicago Board of Trade', 'IntradayStartDate': '2009-01-01T00:00:00'}\n",
      "{'Suffix': '', 'Country': 'US', 'Declines': '0', 'TimeZone': 'Central Standard Time', 'Code': 'CFE', 'Currency': 'USD', 'Advances': '206', 'IsIntraday': 'true', 'HasIntradayProduct': 'true', 'LastTradeDateTime': '2017-02-22T00:00:00', 'Name': 'Chicago Futures Exchange', 'IntradayStartDate': '2009-01-01T00:00:00'}\n",
      "{'Suffix': '', 'Country': 'US', 'Declines': '569', 'TimeZone': 'Eastern Standard Time', 'Code': 'CME', 'Currency': 'USD', 'Advances': '211493', 'IsIntraday': 'true', 'HasIntradayProduct': 'true', 'LastTradeDateTime': '2017-02-22T00:00:00', 'Name': 'Chicago Merchantile Exchange', 'IntradayStartDate': '2009-01-01T00:00:00'}\n",
      "{'Suffix': '', 'Country': 'CH', 'Declines': '0', 'TimeZone': 'GMT Standard Time', 'Code': 'EUREX', 'Currency': 'EUR', 'Advances': '1747', 'IsIntraday': 'false', 'HasIntradayProduct': 'false', 'LastTradeDateTime': '2017-02-22T00:00:00', 'Name': 'EUREX Futures Exchange', 'IntradayStartDate': '0001-01-01T00:00:00'}\n",
      "{'Suffix': 'AS', 'Country': 'NL', 'Declines': '0', 'TimeZone': 'GMT Standard Time', 'Code': 'AMS', 'Currency': 'EUR', 'Advances': '161', 'IsIntraday': 'false', 'HasIntradayProduct': 'false', 'LastTradeDateTime': '2017-02-23T00:00:00', 'Name': 'Euronext Amsterdam', 'IntradayStartDate': '0001-01-01T00:00:00'}\n",
      "{'Suffix': 'BR', 'Country': 'BE', 'Declines': '0', 'TimeZone': 'GMT Standard Time', 'Code': 'BRU', 'Currency': 'EUR', 'Advances': '195', 'IsIntraday': 'false', 'HasIntradayProduct': 'false', 'LastTradeDateTime': '2017-02-23T00:00:00', 'Name': 'Euronext Brussels', 'IntradayStartDate': '0001-01-01T00:00:00'}\n",
      "{'Suffix': 'LS', 'Country': 'PT', 'Declines': '0', 'TimeZone': 'GMT Standard Time', 'Code': 'LIS', 'Currency': 'EUR', 'Advances': '49', 'IsIntraday': 'false', 'HasIntradayProduct': 'false', 'LastTradeDateTime': '2017-02-22T00:00:00', 'Name': 'Euronext Lisbon', 'IntradayStartDate': '0001-01-01T00:00:00'}\n",
      "{'Suffix': 'PA', 'Country': 'FR', 'Declines': '0', 'TimeZone': 'GMT Standard Time', 'Code': 'PAR', 'Currency': 'EUR', 'Advances': '1800', 'IsIntraday': 'false', 'HasIntradayProduct': 'false', 'LastTradeDateTime': '2017-02-23T09:01:00', 'Name': 'Euronext Paris', 'IntradayStartDate': '0001-01-01T00:00:00'}\n",
      "{'Suffix': '', 'Country': 'US', 'Declines': '57', 'TimeZone': 'Eastern Standard Time', 'Code': 'FOREX', 'Currency': '', 'Advances': '956', 'IsIntraday': 'false', 'HasIntradayProduct': 'false', 'LastTradeDateTime': '2017-02-23T15:58:10', 'Name': 'Foreign Exchange', 'IntradayStartDate': '0001-01-01T00:00:00'}\n",
      "{'Suffix': 'IDX', 'Country': 'US', 'Declines': '4', 'TimeZone': 'Eastern Standard Time', 'Code': 'INDEX', 'Currency': '', 'Advances': '2312', 'IsIntraday': 'false', 'HasIntradayProduct': 'false', 'LastTradeDateTime': '2017-02-23T10:53:10', 'Name': 'Global Indices', 'IntradayStartDate': '0001-01-01T00:00:00'}\n",
      "{'Suffix': 'HK', 'Country': 'HK', 'Declines': '700', 'TimeZone': 'Singapore Standard Time', 'Code': 'HKEX', 'Currency': 'HKD', 'Advances': '2119', 'IsIntraday': 'false', 'HasIntradayProduct': 'false', 'LastTradeDateTime': '2017-02-23T00:00:00', 'Name': 'Hong Kong Stock Exchange', 'IntradayStartDate': '0001-01-01T00:00:00'}\n",
      "{'Suffix': '', 'Country': 'US', 'Declines': '21', 'TimeZone': 'Central Standard Time', 'Code': 'KCBT', 'Currency': 'USD', 'Advances': '2094', 'IsIntraday': 'true', 'HasIntradayProduct': 'true', 'LastTradeDateTime': '2017-02-22T00:00:00', 'Name': 'Kansas City Board of Trade', 'IntradayStartDate': '2009-01-01T00:00:00'}\n",
      "{'Suffix': '', 'Country': 'US', 'Declines': '0', 'TimeZone': 'GMT Standard Time', 'Code': 'LIFFE', 'Currency': 'USD', 'Advances': '2140', 'IsIntraday': 'false', 'HasIntradayProduct': 'false', 'LastTradeDateTime': '2017-02-22T00:00:00', 'Name': 'LIFFE Futures and Options', 'IntradayStartDate': '0001-01-01T00:00:00'}\n",
      "{'Suffix': 'L', 'Country': 'UK', 'Declines': '2622', 'TimeZone': 'GMT Standard Time', 'Code': 'LSE', 'Currency': 'GBP', 'Advances': '38289', 'IsIntraday': 'false', 'HasIntradayProduct': 'false', 'LastTradeDateTime': '2017-02-22T00:00:00', 'Name': 'London Stock Exchange', 'IntradayStartDate': '0001-01-01T00:00:00'}\n",
      "{'Suffix': 'MI', 'Country': 'IT', 'Declines': '112', 'TimeZone': 'Central European Standard Time', 'Code': 'MLSE', 'Currency': 'EUR', 'Advances': '166', 'IsIntraday': 'false', 'HasIntradayProduct': 'false', 'LastTradeDateTime': '2017-02-23T00:00:00', 'Name': 'Milan Stock Exchange', 'IntradayStartDate': '0001-01-01T00:00:00'}\n",
      "{'Suffix': '', 'Country': 'US', 'Declines': '96', 'TimeZone': 'Central Standard Time', 'Code': 'MGEX', 'Currency': 'USD', 'Advances': '14996', 'IsIntraday': 'true', 'HasIntradayProduct': 'true', 'LastTradeDateTime': '2017-02-22T00:00:00', 'Name': 'Minneapolis Grain Exchange', 'IntradayStartDate': '2009-01-01T00:00:00'}\n",
      "{'Suffix': '', 'Country': 'US', 'Declines': '16958', 'TimeZone': 'Eastern Standard Time', 'Code': 'USMF', 'Currency': 'USD', 'Advances': '37169', 'IsIntraday': 'false', 'HasIntradayProduct': 'false', 'LastTradeDateTime': '2017-02-21T00:00:00', 'Name': 'Mutual Funds', 'IntradayStartDate': '0001-01-01T00:00:00'}\n",
      "{'Suffix': '', 'Country': 'US', 'Declines': '1837', 'TimeZone': 'Eastern Standard Time', 'Code': 'NASDAQ', 'Currency': 'USD', 'Advances': '5105', 'IsIntraday': 'true', 'HasIntradayProduct': 'true', 'LastTradeDateTime': '2017-02-23T10:52:43', 'Name': 'NASDAQ Stock Exchange', 'IntradayStartDate': '2008-01-01T00:00:00'}\n",
      "{'Suffix': 'I', 'Country': 'IN', 'Declines': '0', 'TimeZone': 'GMT Standard Time', 'Code': 'NSE', 'Currency': 'INR', 'Advances': '1114', 'IsIntraday': 'false', 'HasIntradayProduct': 'false', 'LastTradeDateTime': '2017-02-23T09:11:00', 'Name': 'National Stock Exchange of India', 'IntradayStartDate': '0001-01-01T00:00:00'}\n",
      "{'Suffix': '', 'Country': 'US', 'Declines': '207', 'TimeZone': 'Eastern Standard Time', 'Code': 'NYBOT', 'Currency': 'USD', 'Advances': '88090', 'IsIntraday': 'true', 'HasIntradayProduct': 'true', 'LastTradeDateTime': '2017-02-22T00:00:00', 'Name': 'New York Board of Trade', 'IntradayStartDate': '2009-01-01T00:00:00'}\n",
      "{'Suffix': '', 'Country': 'US', 'Declines': '150', 'TimeZone': 'Eastern Standard Time', 'Code': 'COMEX', 'Currency': 'USD', 'Advances': '33342', 'IsIntraday': 'true', 'HasIntradayProduct': 'true', 'LastTradeDateTime': '2017-02-22T00:00:00', 'Name': 'New York Commodity Exchange', 'IntradayStartDate': '2009-01-01T00:00:00'}\n",
      "{'Suffix': '', 'Country': 'US', 'Declines': '237', 'TimeZone': 'Eastern Standard Time', 'Code': 'NYMEX', 'Currency': 'USD', 'Advances': '16694', 'IsIntraday': 'true', 'HasIntradayProduct': 'true', 'LastTradeDateTime': '2017-02-22T00:00:00', 'Name': 'New York Merchantile Exchange', 'IntradayStartDate': '2009-01-01T00:00:00'}\n",
      "{'Suffix': '', 'Country': 'US', 'Declines': '1880', 'TimeZone': 'Eastern Standard Time', 'Code': 'NYSE', 'Currency': 'USD', 'Advances': '4800', 'IsIntraday': 'true', 'HasIntradayProduct': 'true', 'LastTradeDateTime': '2017-02-23T10:53:09', 'Name': 'New York Stock Exchange', 'IntradayStartDate': '2008-01-01T00:00:00'}\n",
      "{'Suffix': 'NZ', 'Country': 'NZ', 'Declines': '44', 'TimeZone': 'New Zealand Standard Time', 'Code': 'NZX', 'Currency': 'NZD', 'Advances': '1062', 'IsIntraday': 'false', 'HasIntradayProduct': 'false', 'LastTradeDateTime': '2017-02-23T00:00:00', 'Name': 'New Zealand Exchange', 'IntradayStartDate': '0001-01-01T00:00:00'}\n",
      "{'Suffix': 'OB', 'Country': 'US', 'Declines': '2112', 'TimeZone': 'Eastern Standard Time', 'Code': 'OTCBB', 'Currency': 'USD', 'Advances': '34792', 'IsIntraday': 'true', 'HasIntradayProduct': 'true', 'LastTradeDateTime': '2017-02-23T10:53:10', 'Name': 'OTC Bulletin Board', 'IntradayStartDate': '2009-01-01T00:00:00'}\n",
      "{'Suffix': 'SI', 'Country': 'SG', 'Declines': '499', 'TimeZone': 'Singapore Standard Time', 'Code': 'SGX', 'Currency': 'SGD', 'Advances': '12405', 'IsIntraday': 'false', 'HasIntradayProduct': 'false', 'LastTradeDateTime': '2017-02-23T00:00:00', 'Name': 'Singapore Stock Exchange', 'IntradayStartDate': '0001-01-01T00:00:00'}\n",
      "{'Suffix': 'TO', 'Country': 'CA', 'Declines': '882', 'TimeZone': 'Mountain Standard Time', 'Code': 'TSX', 'Currency': 'CAD', 'Advances': '5697', 'IsIntraday': 'false', 'HasIntradayProduct': 'false', 'LastTradeDateTime': '2017-02-22T00:00:00', 'Name': 'Toronto Stock Exchange', 'IntradayStartDate': '0001-01-01T00:00:00'}\n",
      "{'Suffix': 'V', 'Country': 'CA', 'Declines': '562', 'TimeZone': 'Mountain Standard Time', 'Code': 'TSXV', 'Currency': 'CAD', 'Advances': '4886', 'IsIntraday': 'false', 'HasIntradayProduct': 'false', 'LastTradeDateTime': '2017-02-22T00:00:00', 'Name': 'Toronto Venture Exchange', 'IntradayStartDate': '0001-01-01T00:00:00'}\n",
      "{'Suffix': '', 'Country': 'US', 'Declines': '1', 'TimeZone': 'Central Standard Time', 'Code': 'WCE', 'Currency': 'USD', 'Advances': '10002', 'IsIntraday': 'true', 'HasIntradayProduct': 'true', 'LastTradeDateTime': '2017-02-22T00:00:00', 'Name': 'Winnipeg Commodity Exchange', 'IntradayStartDate': '2009-01-01T00:00:00'}\n"
     ]
    }
   ],
   "source": [
    "for element in root.iter():\n",
    "    print(element.attrib)"
   ]
  },
  {
   "cell_type": "markdown",
   "metadata": {},
   "source": [
    "## Helper function"
   ]
  },
  {
   "cell_type": "code",
   "execution_count": 212,
   "metadata": {
    "collapsed": true
   },
   "outputs": [],
   "source": [
    "def ExchangeList(session, token):\n",
    "    call = 'ExchangeList'\n",
    "    kwargs = {'Token': token,}\n",
    "    pattern = \".//{%s}EXCHANGE\"\n",
    "\n",
    "    url = '/'.join((ws, call))\n",
    "    response = session.get(url, params=kwargs, stream=True)\n",
    "\n",
    "    if response.status_code == 200:\n",
    "        root = etree.parse(response.raw).getroot()\n",
    "        \n",
    "    return sorted(element.get('Code') for element in elements)"
   ]
  },
  {
   "cell_type": "markdown",
   "metadata": {},
   "source": [
    "### Usage"
   ]
  },
  {
   "cell_type": "code",
   "execution_count": 214,
   "metadata": {
    "collapsed": false
   },
   "outputs": [
    {
     "data": {
      "text/plain": [
       "['AMEX',\n",
       " 'AMS',\n",
       " 'ASX',\n",
       " 'BRU',\n",
       " 'BSE',\n",
       " 'CBOT',\n",
       " 'CFE',\n",
       " 'CME',\n",
       " 'COMEX',\n",
       " 'EUREX',\n",
       " 'FOREX',\n",
       " 'HKEX',\n",
       " 'INDEX',\n",
       " 'KCBT',\n",
       " 'LIFFE',\n",
       " 'LIS',\n",
       " 'LSE',\n",
       " 'MGEX',\n",
       " 'MLSE',\n",
       " 'NASDAQ',\n",
       " 'NSE',\n",
       " 'NYBOT',\n",
       " 'NYMEX',\n",
       " 'NYSE',\n",
       " 'NZX',\n",
       " 'OTCBB',\n",
       " 'PAR',\n",
       " 'SGX',\n",
       " 'TSX',\n",
       " 'TSXV',\n",
       " 'USMF',\n",
       " 'WCE']"
      ]
     },
     "execution_count": 214,
     "metadata": {},
     "output_type": "execute_result"
    }
   ],
   "source": [
    "exchanges = ExchangeList(session, token)\n",
    "exchanges"
   ]
  },
  {
   "cell_type": "markdown",
   "metadata": {},
   "source": [
    "## Class function(s)"
   ]
  },
  {
   "cell_type": "code",
   "execution_count": 223,
   "metadata": {
    "collapsed": false
   },
   "outputs": [
    {
     "data": {
      "text/html": [
       "<div>\n",
       "<table border=\"1\" class=\"dataframe\">\n",
       "  <thead>\n",
       "    <tr style=\"text-align: right;\">\n",
       "      <th></th>\n",
       "      <th>Advances</th>\n",
       "      <th>Code</th>\n",
       "      <th>Country</th>\n",
       "      <th>Currency</th>\n",
       "      <th>Declines</th>\n",
       "      <th>HasIntradayProduct</th>\n",
       "      <th>IntradayStartDate</th>\n",
       "      <th>IsIntraday</th>\n",
       "      <th>LastTradeDateTime</th>\n",
       "      <th>Name</th>\n",
       "      <th>Suffix</th>\n",
       "      <th>TimeZone</th>\n",
       "    </tr>\n",
       "  </thead>\n",
       "  <tbody>\n",
       "    <tr>\n",
       "      <th>0</th>\n",
       "      <td>3265</td>\n",
       "      <td>AMEX</td>\n",
       "      <td>US</td>\n",
       "      <td>USD</td>\n",
       "      <td>897</td>\n",
       "      <td>true</td>\n",
       "      <td>2008-01-01T00:00:00</td>\n",
       "      <td>true</td>\n",
       "      <td>2017-02-23T11:10:09</td>\n",
       "      <td>American Stock Exchange</td>\n",
       "      <td></td>\n",
       "      <td>Eastern Standard Time</td>\n",
       "    </tr>\n",
       "    <tr>\n",
       "      <th>1</th>\n",
       "      <td>14701</td>\n",
       "      <td>ASX</td>\n",
       "      <td>AU</td>\n",
       "      <td>AUD</td>\n",
       "      <td>494</td>\n",
       "      <td>false</td>\n",
       "      <td>0001-01-01T00:00:00</td>\n",
       "      <td>false</td>\n",
       "      <td>2017-02-23T00:00:00</td>\n",
       "      <td>Australian Securities Exchange</td>\n",
       "      <td>AX</td>\n",
       "      <td>AUS Eastern Standard Time</td>\n",
       "    </tr>\n",
       "    <tr>\n",
       "      <th>2</th>\n",
       "      <td>4189</td>\n",
       "      <td>BSE</td>\n",
       "      <td>IN</td>\n",
       "      <td>INR</td>\n",
       "      <td>0</td>\n",
       "      <td>false</td>\n",
       "      <td>0001-01-01T00:00:00</td>\n",
       "      <td>false</td>\n",
       "      <td>2017-02-23T00:00:00</td>\n",
       "      <td>Bombay Stock Exchange</td>\n",
       "      <td>I</td>\n",
       "      <td>India Standard Time</td>\n",
       "    </tr>\n",
       "    <tr>\n",
       "      <th>3</th>\n",
       "      <td>101859</td>\n",
       "      <td>CBOT</td>\n",
       "      <td>US</td>\n",
       "      <td>USD</td>\n",
       "      <td>234</td>\n",
       "      <td>true</td>\n",
       "      <td>2009-01-01T00:00:00</td>\n",
       "      <td>true</td>\n",
       "      <td>2017-02-22T00:00:00</td>\n",
       "      <td>Chicago Board of Trade</td>\n",
       "      <td></td>\n",
       "      <td>Central Standard Time</td>\n",
       "    </tr>\n",
       "    <tr>\n",
       "      <th>4</th>\n",
       "      <td>206</td>\n",
       "      <td>CFE</td>\n",
       "      <td>US</td>\n",
       "      <td>USD</td>\n",
       "      <td>0</td>\n",
       "      <td>true</td>\n",
       "      <td>2009-01-01T00:00:00</td>\n",
       "      <td>true</td>\n",
       "      <td>2017-02-22T00:00:00</td>\n",
       "      <td>Chicago Futures Exchange</td>\n",
       "      <td></td>\n",
       "      <td>Central Standard Time</td>\n",
       "    </tr>\n",
       "  </tbody>\n",
       "</table>\n",
       "</div>"
      ],
      "text/plain": [
       "  Advances  Code Country Currency Declines HasIntradayProduct  \\\n",
       "0     3265  AMEX      US      USD      897               true   \n",
       "1    14701   ASX      AU      AUD      494              false   \n",
       "2     4189   BSE      IN      INR        0              false   \n",
       "3   101859  CBOT      US      USD      234               true   \n",
       "4      206   CFE      US      USD        0               true   \n",
       "\n",
       "     IntradayStartDate IsIntraday    LastTradeDateTime  \\\n",
       "0  2008-01-01T00:00:00       true  2017-02-23T11:10:09   \n",
       "1  0001-01-01T00:00:00      false  2017-02-23T00:00:00   \n",
       "2  0001-01-01T00:00:00      false  2017-02-23T00:00:00   \n",
       "3  2009-01-01T00:00:00       true  2017-02-22T00:00:00   \n",
       "4  2009-01-01T00:00:00       true  2017-02-22T00:00:00   \n",
       "\n",
       "                             Name Suffix                   TimeZone  \n",
       "0         American Stock Exchange             Eastern Standard Time  \n",
       "1  Australian Securities Exchange     AX  AUS Eastern Standard Time  \n",
       "2           Bombay Stock Exchange      I        India Standard Time  \n",
       "3          Chicago Board of Trade             Central Standard Time  \n",
       "4        Chicago Futures Exchange             Central Standard Time  "
      ]
     },
     "execution_count": 223,
     "metadata": {},
     "output_type": "execute_result"
    }
   ],
   "source": [
    "eoddata = Client(username, password)\n",
    "df = eoddata.get_exchange_list()\n",
    "df.head()"
   ]
  },
  {
   "cell_type": "code",
   "execution_count": 224,
   "metadata": {
    "collapsed": false
   },
   "outputs": [
    {
     "data": {
      "text/plain": [
       "['AMEX',\n",
       " 'ASX',\n",
       " 'BSE',\n",
       " 'CBOT',\n",
       " 'CFE',\n",
       " 'CME',\n",
       " 'EUREX',\n",
       " 'AMS',\n",
       " 'BRU',\n",
       " 'LIS',\n",
       " 'PAR',\n",
       " 'FOREX',\n",
       " 'INDEX',\n",
       " 'HKEX',\n",
       " 'KCBT',\n",
       " 'LIFFE',\n",
       " 'LSE',\n",
       " 'MLSE',\n",
       " 'MGEX',\n",
       " 'USMF',\n",
       " 'NASDAQ',\n",
       " 'NSE',\n",
       " 'NYBOT',\n",
       " 'COMEX',\n",
       " 'NYMEX',\n",
       " 'NYSE',\n",
       " 'NZX',\n",
       " 'OTCBB',\n",
       " 'SGX',\n",
       " 'TSX',\n",
       " 'TSXV',\n",
       " 'WCE']"
      ]
     },
     "execution_count": 224,
     "metadata": {},
     "output_type": "execute_result"
    }
   ],
   "source": [
    "exchange_codes = eoddata.get_exchange_codes()\n",
    "exchange_codes"
   ]
  },
  {
   "cell_type": "code",
   "execution_count": 203,
   "metadata": {
    "collapsed": false
   },
   "outputs": [],
   "source": [
    "session.close()"
   ]
  }
 ],
 "metadata": {
  "anaconda-cloud": {},
  "kernelspec": {
   "display_name": "Python [default]",
   "language": "python",
   "name": "python3"
  },
  "language_info": {
   "codemirror_mode": {
    "name": "ipython",
    "version": 3
   },
   "file_extension": ".py",
   "mimetype": "text/x-python",
   "name": "python",
   "nbconvert_exporter": "python",
   "pygments_lexer": "ipython3",
   "version": "3.5.2"
  }
 },
 "nbformat": 4,
 "nbformat_minor": 0
}
