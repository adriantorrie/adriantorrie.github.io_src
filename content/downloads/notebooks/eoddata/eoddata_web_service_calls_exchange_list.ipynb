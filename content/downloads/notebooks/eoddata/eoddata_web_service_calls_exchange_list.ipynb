{
 "cells": [
  {
   "cell_type": "markdown",
   "metadata": {
    "toc": "true"
   },
   "source": [
    "# Table of Contents\n",
    " <p><div class=\"lev1 toc-item\"><a href=\"#Summary\" data-toc-modified-id=\"Summary-1\"><span class=\"toc-item-num\">1&nbsp;&nbsp;</span>Summary</a></div><div class=\"lev1 toc-item\"><a href=\"#Version-Control\" data-toc-modified-id=\"Version-Control-2\"><span class=\"toc-item-num\">2&nbsp;&nbsp;</span>Version Control</a></div><div class=\"lev1 toc-item\"><a href=\"#Change-Log\" data-toc-modified-id=\"Change-Log-3\"><span class=\"toc-item-num\">3&nbsp;&nbsp;</span>Change Log</a></div><div class=\"lev1 toc-item\"><a href=\"#Setup\" data-toc-modified-id=\"Setup-4\"><span class=\"toc-item-num\">4&nbsp;&nbsp;</span>Setup</a></div><div class=\"lev1 toc-item\"><a href=\"#ExchangeList()\" data-toc-modified-id=\"ExchangeList()-5\"><span class=\"toc-item-num\">5&nbsp;&nbsp;</span>ExchangeList()</a></div><div class=\"lev2 toc-item\"><a href=\"#Web-service-call\" data-toc-modified-id=\"Web-service-call-51\"><span class=\"toc-item-num\">5.1&nbsp;&nbsp;</span>Web service call</a></div><div class=\"lev3 toc-item\"><a href=\"#Gather-elements\" data-toc-modified-id=\"Gather-elements-511\"><span class=\"toc-item-num\">5.1.1&nbsp;&nbsp;</span>Gather elements</a></div><div class=\"lev3 toc-item\"><a href=\"#Get-data\" data-toc-modified-id=\"Get-data-512\"><span class=\"toc-item-num\">5.1.2&nbsp;&nbsp;</span>Get data</a></div><div class=\"lev3 toc-item\"><a href=\"#Save-to-file\" data-toc-modified-id=\"Save-to-file-513\"><span class=\"toc-item-num\">5.1.3&nbsp;&nbsp;</span>Save to file</a></div><div class=\"lev3 toc-item\"><a href=\"#Data-inspection\" data-toc-modified-id=\"Data-inspection-514\"><span class=\"toc-item-num\">5.1.4&nbsp;&nbsp;</span>Data inspection</a></div><div class=\"lev2 toc-item\"><a href=\"#Helper-function\" data-toc-modified-id=\"Helper-function-52\"><span class=\"toc-item-num\">5.2&nbsp;&nbsp;</span>Helper function</a></div><div class=\"lev3 toc-item\"><a href=\"#Usage\" data-toc-modified-id=\"Usage-521\"><span class=\"toc-item-num\">5.2.1&nbsp;&nbsp;</span>Usage</a></div><div class=\"lev2 toc-item\"><a href=\"#Client-function\" data-toc-modified-id=\"Client-function-53\"><span class=\"toc-item-num\">5.3&nbsp;&nbsp;</span>Client function</a></div>"
   ]
  },
  {
   "cell_type": "markdown",
   "metadata": {},
   "source": [
    "# Summary\n",
    "\n",
    "Part of the blog series related to making web service calls to Eoddata.com. Overview of the web service can be found [here](http://ws.eoddata.com/data.asmx).\n",
    "\n",
    " * ** View the master post of this series to build a secure credentials file.** It is used in all posts related to this series.\n",
    " * Download the [class definition file](https://adriantorrie.github.io/downloads/code/eoddata.py) for an easy to use client, which is demonstrated below\n",
    " * This post covers the `ExchangeList` call: http://ws.eoddata.com/data.asmx?op=ExchangeList"
   ]
  },
  {
   "cell_type": "markdown",
   "metadata": {},
   "source": [
    "# Version Control"
   ]
  },
  {
   "cell_type": "code",
   "execution_count": 1,
   "metadata": {
    "ExecuteTime": {
     "end_time": "2017-04-02T06:26:52.565429Z",
     "start_time": "2017-04-02T16:26:50.861869+10:00"
    },
    "collapsed": false
   },
   "outputs": [
    {
     "name": "stdout",
     "output_type": "stream",
     "text": [
      "Python: 3.5.3 |Continuum Analytics, Inc.| (default, Feb 22 2017, 21:13:27) \n",
      "[GCC 4.4.7 20120313 (Red Hat 4.4.7-1)]\n",
      "\n",
      "matplotlib:\t2.0.0\n",
      "numpy:\t\t1.12.0\n",
      "pandas:\t\t0.19.2\n",
      "quandl:\t\t3.0.1\n",
      "sklearn:\t0.18.1\n",
      "scipy:\t\t0.18.1\n",
      "statsmodels:\t0.8.0\n",
      "tensorflow:\t1.0.1\n"
     ]
    }
   ],
   "source": [
    "%run ../../code/version_check.py"
   ]
  },
  {
   "cell_type": "markdown",
   "metadata": {},
   "source": [
    "# Change Log"
   ]
  },
  {
   "cell_type": "markdown",
   "metadata": {
    "ExecuteTime": {
     "end_time": "2017-03-25T01:44:55.931699Z",
     "start_time": "2017-03-25T12:44:55.922319+11:00"
    }
   },
   "source": [
    "    Date Created: 2017-03-25\n",
    "    \n",
    "    Date of Change    Change Notes\n",
    "    --------------    ----------------------------------------------------------------\n",
    "    2017-03-25        Initial draft\n",
    "    2017-04-02        - Changed any references for `get_exchange_list()` to `exchange_list()`\n",
    "                      - Client class function returns data in fixed order now"
   ]
  },
  {
   "cell_type": "markdown",
   "metadata": {},
   "source": [
    "# Setup"
   ]
  },
  {
   "cell_type": "code",
   "execution_count": 10,
   "metadata": {
    "ExecuteTime": {
     "end_time": "2017-04-02T11:55:40.989169Z",
     "start_time": "2017-04-02T21:55:39.559613+10:00"
    },
    "collapsed": false
   },
   "outputs": [],
   "source": [
    "%run ../../code/eoddata.py\n",
    "\n",
    "import pandas as pd\n",
    "import requests as r\n",
    "\n",
    "ws = 'http://ws.eoddata.com/data.asmx'\n",
    "ns='http://ws.eoddata.com/Data'\n",
    "\n",
    "with (Client()) as eoddata:\n",
    "    token = eoddata.get_token()"
   ]
  },
  {
   "cell_type": "markdown",
   "metadata": {},
   "source": [
    "# ExchangeList()"
   ]
  },
  {
   "cell_type": "markdown",
   "metadata": {
    "ExecuteTime": {
     "end_time": "2017-03-25T01:31:06.071998Z",
     "start_time": "2017-03-25T12:31:06.069508+11:00"
    }
   },
   "source": [
    "## Web service call"
   ]
  },
  {
   "cell_type": "code",
   "execution_count": 3,
   "metadata": {
    "ExecuteTime": {
     "end_time": "2017-04-02T06:26:55.217987Z",
     "start_time": "2017-04-02T16:26:54.097625+10:00"
    },
    "collapsed": false
   },
   "outputs": [],
   "source": [
    "session = r.Session()\n",
    "\n",
    "call = 'ExchangeList'\n",
    "kwargs = {'Token': token,}\n",
    "pattern = \".//{%s}EXCHANGE\"\n",
    "\n",
    "url = '/'.join((ws, call))\n",
    "response = session.get(url, params=kwargs, stream=True)\n",
    "\n",
    "if response.status_code == 200:\n",
    "    root = etree.parse(response.raw).getroot()\n",
    "    \n",
    "session.close()"
   ]
  },
  {
   "cell_type": "markdown",
   "metadata": {},
   "source": [
    "### Gather elements"
   ]
  },
  {
   "cell_type": "code",
   "execution_count": 4,
   "metadata": {
    "ExecuteTime": {
     "end_time": "2017-04-02T06:26:55.222195Z",
     "start_time": "2017-04-02T16:26:55.219682+10:00"
    },
    "collapsed": false
   },
   "outputs": [],
   "source": [
    "elements = root.findall(pattern %(ns))"
   ]
  },
  {
   "cell_type": "markdown",
   "metadata": {},
   "source": [
    "### Get data"
   ]
  },
  {
   "cell_type": "code",
   "execution_count": 5,
   "metadata": {
    "ExecuteTime": {
     "end_time": "2017-04-02T06:26:55.389159Z",
     "start_time": "2017-04-02T16:26:55.223783+10:00"
    },
    "collapsed": false
   },
   "outputs": [
    {
     "data": {
      "text/plain": [
       "['AMEX',\n",
       " 'AMS',\n",
       " 'ASX',\n",
       " 'BRU',\n",
       " 'BSE',\n",
       " 'CBOT',\n",
       " 'CFE',\n",
       " 'CME',\n",
       " 'COMEX',\n",
       " 'EUREX',\n",
       " 'FOREX',\n",
       " 'HKEX',\n",
       " 'INDEX',\n",
       " 'KCBT',\n",
       " 'LIFFE',\n",
       " 'LIS',\n",
       " 'LSE',\n",
       " 'MGEX',\n",
       " 'MLSE',\n",
       " 'NASDAQ',\n",
       " 'NSE',\n",
       " 'NYBOT',\n",
       " 'NYMEX',\n",
       " 'NYSE',\n",
       " 'NZX',\n",
       " 'OTCBB',\n",
       " 'PAR',\n",
       " 'SGX',\n",
       " 'TSX',\n",
       " 'TSXV',\n",
       " 'USMF',\n",
       " 'WCE']"
      ]
     },
     "execution_count": 5,
     "metadata": {},
     "output_type": "execute_result"
    }
   ],
   "source": [
    "exchanges = sorted(element.get('Code') for element in elements)\n",
    "exchanges"
   ]
  },
  {
   "cell_type": "markdown",
   "metadata": {},
   "source": [
    "### Save to file"
   ]
  },
  {
   "cell_type": "code",
   "execution_count": 6,
   "metadata": {
    "ExecuteTime": {
     "end_time": "2017-04-02T06:26:55.535270Z",
     "start_time": "2017-04-02T16:26:55.390822+10:00"
    },
    "collapsed": true
   },
   "outputs": [],
   "source": [
    "with open('../../data/exchanges.csv', 'w') as f:\n",
    "    for element in elements:\n",
    "        f.write('\"%s\"\\n' % '\",\"'.join(element.attrib.values()))"
   ]
  },
  {
   "cell_type": "markdown",
   "metadata": {},
   "source": [
    "### Data inspection"
   ]
  },
  {
   "cell_type": "code",
   "execution_count": 7,
   "metadata": {
    "ExecuteTime": {
     "end_time": "2017-04-02T06:26:55.712594Z",
     "start_time": "2017-04-02T16:26:55.536950+10:00"
    },
    "collapsed": false
   },
   "outputs": [
    {
     "name": "stdout",
     "output_type": "stream",
     "text": [
      "('Message', 'Success')\n",
      "('Source', 'Data.ExchangeList')\n",
      "('Date', '2017-04-02T01:24:40.658625-05:00')\n"
     ]
    }
   ],
   "source": [
    "for item in root.items():\n",
    "    print (item)"
   ]
  },
  {
   "cell_type": "code",
   "execution_count": 8,
   "metadata": {
    "ExecuteTime": {
     "end_time": "2017-04-02T06:26:55.817895Z",
     "start_time": "2017-04-02T16:26:55.714551+10:00"
    },
    "collapsed": false,
    "scrolled": true
   },
   "outputs": [
    {
     "name": "stdout",
     "output_type": "stream",
     "text": [
      "{'Message': 'Success', 'Source': 'Data.ExchangeList', 'Date': '2017-04-02T01:24:40.658625-05:00'}\n",
      "{}\n",
      "{'Currency': 'USD', 'IsIntraday': 'true', 'Declines': '897', 'Name': 'American Stock Exchange', 'Suffix': '', 'LastTradeDateTime': '2017-03-31T16:59:58', 'Advances': '3196', 'IntradayStartDate': '2008-01-01T00:00:00', 'HasIntradayProduct': 'true', 'Code': 'AMEX', 'Country': 'US', 'TimeZone': 'Eastern Standard Time'}\n",
      "{'Currency': 'AUD', 'IsIntraday': 'false', 'Declines': '494', 'Name': 'Australian Securities Exchange', 'Suffix': 'AX', 'LastTradeDateTime': '2017-03-31T00:00:00', 'Advances': '14867', 'IntradayStartDate': '0001-01-01T00:00:00', 'HasIntradayProduct': 'false', 'Code': 'ASX', 'Country': 'AU', 'TimeZone': 'AUS Eastern Standard Time'}\n",
      "{'Currency': 'INR', 'IsIntraday': 'false', 'Declines': '0', 'Name': 'Bombay Stock Exchange', 'Suffix': 'I', 'LastTradeDateTime': '2017-03-31T00:00:00', 'Advances': '4673', 'IntradayStartDate': '0001-01-01T00:00:00', 'HasIntradayProduct': 'false', 'Code': 'BSE', 'Country': 'IN', 'TimeZone': 'India Standard Time'}\n",
      "{'Currency': 'USD', 'IsIntraday': 'true', 'Declines': '234', 'Name': 'Chicago Board of Trade', 'Suffix': '', 'LastTradeDateTime': '2017-03-31T00:00:00', 'Advances': '101766', 'IntradayStartDate': '2009-01-01T00:00:00', 'HasIntradayProduct': 'true', 'Code': 'CBOT', 'Country': 'US', 'TimeZone': 'Central Standard Time'}\n",
      "{'Currency': 'USD', 'IsIntraday': 'true', 'Declines': '0', 'Name': 'Chicago Futures Exchange', 'Suffix': '', 'LastTradeDateTime': '2017-03-31T00:00:00', 'Advances': '207', 'IntradayStartDate': '2009-01-01T00:00:00', 'HasIntradayProduct': 'true', 'Code': 'CFE', 'Country': 'US', 'TimeZone': 'Central Standard Time'}\n",
      "{'Currency': 'USD', 'IsIntraday': 'true', 'Declines': '569', 'Name': 'Chicago Merchantile Exchange', 'Suffix': '', 'LastTradeDateTime': '2017-03-31T00:00:00', 'Advances': '211381', 'IntradayStartDate': '2009-01-01T00:00:00', 'HasIntradayProduct': 'true', 'Code': 'CME', 'Country': 'US', 'TimeZone': 'Eastern Standard Time'}\n",
      "{'Currency': 'EUR', 'IsIntraday': 'false', 'Declines': '0', 'Name': 'EUREX Futures Exchange', 'Suffix': '', 'LastTradeDateTime': '2017-03-31T00:00:00', 'Advances': '1754', 'IntradayStartDate': '0001-01-01T00:00:00', 'HasIntradayProduct': 'false', 'Code': 'EUREX', 'Country': 'CH', 'TimeZone': 'GMT Standard Time'}\n",
      "{'Currency': 'EUR', 'IsIntraday': 'false', 'Declines': '0', 'Name': 'Euronext Amsterdam', 'Suffix': 'AS', 'LastTradeDateTime': '2017-03-31T00:00:00', 'Advances': '151', 'IntradayStartDate': '0001-01-01T00:00:00', 'HasIntradayProduct': 'false', 'Code': 'AMS', 'Country': 'NL', 'TimeZone': 'GMT Standard Time'}\n",
      "{'Currency': 'EUR', 'IsIntraday': 'false', 'Declines': '0', 'Name': 'Euronext Brussels', 'Suffix': 'BR', 'LastTradeDateTime': '2017-03-31T00:00:00', 'Advances': '217', 'IntradayStartDate': '0001-01-01T00:00:00', 'HasIntradayProduct': 'false', 'Code': 'BRU', 'Country': 'BE', 'TimeZone': 'GMT Standard Time'}\n",
      "{'Currency': 'EUR', 'IsIntraday': 'false', 'Declines': '0', 'Name': 'Euronext Lisbon', 'Suffix': 'LS', 'LastTradeDateTime': '2017-03-31T00:00:00', 'Advances': '48', 'IntradayStartDate': '0001-01-01T00:00:00', 'HasIntradayProduct': 'false', 'Code': 'LIS', 'Country': 'PT', 'TimeZone': 'GMT Standard Time'}\n",
      "{'Currency': 'EUR', 'IsIntraday': 'false', 'Declines': '0', 'Name': 'Euronext Paris', 'Suffix': 'PA', 'LastTradeDateTime': '2017-03-31T09:04:00', 'Advances': '1865', 'IntradayStartDate': '0001-01-01T00:00:00', 'HasIntradayProduct': 'false', 'Code': 'PAR', 'Country': 'FR', 'TimeZone': 'GMT Standard Time'}\n",
      "{'Currency': '', 'IsIntraday': 'false', 'Declines': '57', 'Name': 'Foreign Exchange', 'Suffix': '', 'LastTradeDateTime': '2017-04-01T04:58:59', 'Advances': '1345', 'IntradayStartDate': '0001-01-01T00:00:00', 'HasIntradayProduct': 'false', 'Code': 'FOREX', 'Country': 'US', 'TimeZone': 'Eastern Standard Time'}\n",
      "{'Currency': '', 'IsIntraday': 'false', 'Declines': '4', 'Name': 'Global Indices', 'Suffix': 'IDX', 'LastTradeDateTime': '2017-03-31T16:54:00', 'Advances': '2790', 'IntradayStartDate': '0001-01-01T00:00:00', 'HasIntradayProduct': 'false', 'Code': 'INDEX', 'Country': 'US', 'TimeZone': 'Eastern Standard Time'}\n",
      "{'Currency': 'HKD', 'IsIntraday': 'false', 'Declines': '700', 'Name': 'Hong Kong Stock Exchange', 'Suffix': 'HK', 'LastTradeDateTime': '2017-03-31T00:00:00', 'Advances': '2107', 'IntradayStartDate': '0001-01-01T00:00:00', 'HasIntradayProduct': 'false', 'Code': 'HKEX', 'Country': 'HK', 'TimeZone': 'Singapore Standard Time'}\n",
      "{'Currency': 'USD', 'IsIntraday': 'true', 'Declines': '21', 'Name': 'Kansas City Board of Trade', 'Suffix': '', 'LastTradeDateTime': '2017-03-31T00:00:00', 'Advances': '2095', 'IntradayStartDate': '2009-01-01T00:00:00', 'HasIntradayProduct': 'true', 'Code': 'KCBT', 'Country': 'US', 'TimeZone': 'Central Standard Time'}\n",
      "{'Currency': 'USD', 'IsIntraday': 'false', 'Declines': '0', 'Name': 'LIFFE Futures and Options', 'Suffix': '', 'LastTradeDateTime': '2017-03-31T00:00:00', 'Advances': '2087', 'IntradayStartDate': '0001-01-01T00:00:00', 'HasIntradayProduct': 'false', 'Code': 'LIFFE', 'Country': 'US', 'TimeZone': 'GMT Standard Time'}\n",
      "{'Currency': 'GBP', 'IsIntraday': 'false', 'Declines': '2622', 'Name': 'London Stock Exchange', 'Suffix': 'L', 'LastTradeDateTime': '2017-03-31T00:00:00', 'Advances': '37832', 'IntradayStartDate': '0001-01-01T00:00:00', 'HasIntradayProduct': 'false', 'Code': 'LSE', 'Country': 'UK', 'TimeZone': 'GMT Standard Time'}\n",
      "{'Currency': 'EUR', 'IsIntraday': 'false', 'Declines': '112', 'Name': 'Milan Stock Exchange', 'Suffix': 'MI', 'LastTradeDateTime': '2017-03-31T00:00:00', 'Advances': '176', 'IntradayStartDate': '0001-01-01T00:00:00', 'HasIntradayProduct': 'false', 'Code': 'MLSE', 'Country': 'IT', 'TimeZone': 'Central European Standard Time'}\n",
      "{'Currency': 'USD', 'IsIntraday': 'true', 'Declines': '96', 'Name': 'Minneapolis Grain Exchange', 'Suffix': '', 'LastTradeDateTime': '2017-03-31T00:00:00', 'Advances': '14990', 'IntradayStartDate': '2009-01-01T00:00:00', 'HasIntradayProduct': 'true', 'Code': 'MGEX', 'Country': 'US', 'TimeZone': 'Central Standard Time'}\n",
      "{'Currency': 'USD', 'IsIntraday': 'false', 'Declines': '16958', 'Name': 'Mutual Funds', 'Suffix': '', 'LastTradeDateTime': '2017-03-30T00:00:00', 'Advances': '30240', 'IntradayStartDate': '0001-01-01T00:00:00', 'HasIntradayProduct': 'false', 'Code': 'USMF', 'Country': 'US', 'TimeZone': 'Eastern Standard Time'}\n",
      "{'Currency': 'USD', 'IsIntraday': 'true', 'Declines': '1837', 'Name': 'NASDAQ Stock Exchange', 'Suffix': '', 'LastTradeDateTime': '2017-03-31T16:59:59', 'Advances': '5519', 'IntradayStartDate': '2008-01-01T00:00:00', 'HasIntradayProduct': 'true', 'Code': 'NASDAQ', 'Country': 'US', 'TimeZone': 'Eastern Standard Time'}\n",
      "{'Currency': 'INR', 'IsIntraday': 'false', 'Declines': '0', 'Name': 'National Stock Exchange of India', 'Suffix': 'I', 'LastTradeDateTime': '2017-03-31T09:23:00', 'Advances': '1391', 'IntradayStartDate': '0001-01-01T00:00:00', 'HasIntradayProduct': 'false', 'Code': 'NSE', 'Country': 'IN', 'TimeZone': 'GMT Standard Time'}\n",
      "{'Currency': 'USD', 'IsIntraday': 'true', 'Declines': '207', 'Name': 'New York Board of Trade', 'Suffix': '', 'LastTradeDateTime': '2017-03-31T00:00:00', 'Advances': '88214', 'IntradayStartDate': '2009-01-01T00:00:00', 'HasIntradayProduct': 'true', 'Code': 'NYBOT', 'Country': 'US', 'TimeZone': 'Eastern Standard Time'}\n",
      "{'Currency': 'USD', 'IsIntraday': 'true', 'Declines': '150', 'Name': 'New York Commodity Exchange', 'Suffix': '', 'LastTradeDateTime': '2017-03-31T00:00:00', 'Advances': '33435', 'IntradayStartDate': '2009-01-01T00:00:00', 'HasIntradayProduct': 'true', 'Code': 'COMEX', 'Country': 'US', 'TimeZone': 'Eastern Standard Time'}\n",
      "{'Currency': 'USD', 'IsIntraday': 'true', 'Declines': '237', 'Name': 'New York Merchantile Exchange', 'Suffix': '', 'LastTradeDateTime': '2017-03-31T00:00:00', 'Advances': '17081', 'IntradayStartDate': '2009-01-01T00:00:00', 'HasIntradayProduct': 'true', 'Code': 'NYMEX', 'Country': 'US', 'TimeZone': 'Eastern Standard Time'}\n",
      "{'Currency': 'USD', 'IsIntraday': 'true', 'Declines': '1880', 'Name': 'New York Stock Exchange', 'Suffix': '', 'LastTradeDateTime': '2017-03-31T16:46:31', 'Advances': '4895', 'IntradayStartDate': '2008-01-01T00:00:00', 'HasIntradayProduct': 'true', 'Code': 'NYSE', 'Country': 'US', 'TimeZone': 'Eastern Standard Time'}\n",
      "{'Currency': 'NZD', 'IsIntraday': 'false', 'Declines': '44', 'Name': 'New Zealand Exchange', 'Suffix': 'NZ', 'LastTradeDateTime': '2017-03-31T00:00:00', 'Advances': '1077', 'IntradayStartDate': '0001-01-01T00:00:00', 'HasIntradayProduct': 'false', 'Code': 'NZX', 'Country': 'NZ', 'TimeZone': 'New Zealand Standard Time'}\n",
      "{'Currency': 'USD', 'IsIntraday': 'true', 'Declines': '2112', 'Name': 'OTC Bulletin Board', 'Suffix': 'OB', 'LastTradeDateTime': '2017-03-31T16:59:59', 'Advances': '34732', 'IntradayStartDate': '2009-01-01T00:00:00', 'HasIntradayProduct': 'true', 'Code': 'OTCBB', 'Country': 'US', 'TimeZone': 'Eastern Standard Time'}\n",
      "{'Currency': 'SGD', 'IsIntraday': 'false', 'Declines': '499', 'Name': 'Singapore Stock Exchange', 'Suffix': 'SI', 'LastTradeDateTime': '2017-03-31T00:00:00', 'Advances': '12390', 'IntradayStartDate': '0001-01-01T00:00:00', 'HasIntradayProduct': 'false', 'Code': 'SGX', 'Country': 'SG', 'TimeZone': 'Singapore Standard Time'}\n",
      "{'Currency': 'CAD', 'IsIntraday': 'false', 'Declines': '882', 'Name': 'Toronto Stock Exchange', 'Suffix': 'TO', 'LastTradeDateTime': '2017-03-31T00:00:00', 'Advances': '5710', 'IntradayStartDate': '0001-01-01T00:00:00', 'HasIntradayProduct': 'false', 'Code': 'TSX', 'Country': 'CA', 'TimeZone': 'Mountain Standard Time'}\n",
      "{'Currency': 'CAD', 'IsIntraday': 'false', 'Declines': '562', 'Name': 'Toronto Venture Exchange', 'Suffix': 'V', 'LastTradeDateTime': '2017-03-31T00:00:00', 'Advances': '5056', 'IntradayStartDate': '0001-01-01T00:00:00', 'HasIntradayProduct': 'false', 'Code': 'TSXV', 'Country': 'CA', 'TimeZone': 'Mountain Standard Time'}\n",
      "{'Currency': 'USD', 'IsIntraday': 'true', 'Declines': '1', 'Name': 'Winnipeg Commodity Exchange', 'Suffix': '', 'LastTradeDateTime': '2017-03-31T00:00:00', 'Advances': '9968', 'IntradayStartDate': '2009-01-01T00:00:00', 'HasIntradayProduct': 'true', 'Code': 'WCE', 'Country': 'US', 'TimeZone': 'Central Standard Time'}\n"
     ]
    }
   ],
   "source": [
    "for element in root.iter():\n",
    "    print(element.attrib)"
   ]
  },
  {
   "cell_type": "markdown",
   "metadata": {},
   "source": [
    "## Helper function"
   ]
  },
  {
   "cell_type": "code",
   "execution_count": 9,
   "metadata": {
    "ExecuteTime": {
     "end_time": "2017-04-02T06:26:55.902588Z",
     "start_time": "2017-04-02T16:26:55.819728+10:00"
    },
    "collapsed": true
   },
   "outputs": [],
   "source": [
    "def ExchangeList(session, token):\n",
    "    call = 'ExchangeList'\n",
    "    kwargs = {'Token': token,}\n",
    "    pattern = \".//{%s}EXCHANGE\"\n",
    "\n",
    "    url = '/'.join((ws, call))\n",
    "    response = session.get(url, params=kwargs, stream=True)\n",
    "\n",
    "    if response.status_code == 200:\n",
    "        root = etree.parse(response.raw).getroot()\n",
    "        \n",
    "    return sorted(element.get('Code') for element in elements)"
   ]
  },
  {
   "cell_type": "markdown",
   "metadata": {},
   "source": [
    "### Usage"
   ]
  },
  {
   "cell_type": "code",
   "execution_count": 10,
   "metadata": {
    "ExecuteTime": {
     "end_time": "2017-04-02T06:26:57.300668Z",
     "start_time": "2017-04-02T16:26:55.905868+10:00"
    },
    "collapsed": false
   },
   "outputs": [],
   "source": [
    "session = r.session()\n",
    "\n",
    "exchanges = ExchangeList(session, token)\n",
    "exchanges\n",
    "\n",
    "session.close()"
   ]
  },
  {
   "cell_type": "markdown",
   "metadata": {},
   "source": [
    "## Client function"
   ]
  },
  {
   "cell_type": "code",
   "execution_count": 11,
   "metadata": {
    "ExecuteTime": {
     "end_time": "2017-04-02T11:56:13.850388Z",
     "start_time": "2017-04-02T21:56:12.510794+10:00"
    },
    "collapsed": false
   },
   "outputs": [
    {
     "data": {
      "text/html": [
       "<div>\n",
       "<table border=\"1\" class=\"dataframe\">\n",
       "  <thead>\n",
       "    <tr style=\"text-align: right;\">\n",
       "      <th></th>\n",
       "      <th>Code</th>\n",
       "      <th>Name</th>\n",
       "      <th>LastTradeDateTime</th>\n",
       "      <th>Country</th>\n",
       "      <th>Currency</th>\n",
       "      <th>Advances</th>\n",
       "      <th>Declines</th>\n",
       "      <th>Suffix</th>\n",
       "      <th>TimeZone</th>\n",
       "      <th>IsIntraday</th>\n",
       "      <th>cntradayStartDate</th>\n",
       "      <th>HasIntradayProduct</th>\n",
       "    </tr>\n",
       "  </thead>\n",
       "  <tbody>\n",
       "    <tr>\n",
       "      <th>0</th>\n",
       "      <td>AMEX</td>\n",
       "      <td>American Stock Exchange</td>\n",
       "      <td>2017-03-31T16:59:58</td>\n",
       "      <td>US</td>\n",
       "      <td>USD</td>\n",
       "      <td>3196</td>\n",
       "      <td>897</td>\n",
       "      <td></td>\n",
       "      <td>Eastern Standard Time</td>\n",
       "      <td>true</td>\n",
       "      <td>NaN</td>\n",
       "      <td>true</td>\n",
       "    </tr>\n",
       "    <tr>\n",
       "      <th>1</th>\n",
       "      <td>ASX</td>\n",
       "      <td>Australian Securities Exchange</td>\n",
       "      <td>2017-03-31T00:00:00</td>\n",
       "      <td>AU</td>\n",
       "      <td>AUD</td>\n",
       "      <td>14867</td>\n",
       "      <td>494</td>\n",
       "      <td>AX</td>\n",
       "      <td>AUS Eastern Standard Time</td>\n",
       "      <td>false</td>\n",
       "      <td>NaN</td>\n",
       "      <td>false</td>\n",
       "    </tr>\n",
       "    <tr>\n",
       "      <th>2</th>\n",
       "      <td>BSE</td>\n",
       "      <td>Bombay Stock Exchange</td>\n",
       "      <td>2017-03-31T00:00:00</td>\n",
       "      <td>IN</td>\n",
       "      <td>INR</td>\n",
       "      <td>4673</td>\n",
       "      <td>0</td>\n",
       "      <td>I</td>\n",
       "      <td>India Standard Time</td>\n",
       "      <td>false</td>\n",
       "      <td>NaN</td>\n",
       "      <td>false</td>\n",
       "    </tr>\n",
       "    <tr>\n",
       "      <th>3</th>\n",
       "      <td>CBOT</td>\n",
       "      <td>Chicago Board of Trade</td>\n",
       "      <td>2017-03-31T00:00:00</td>\n",
       "      <td>US</td>\n",
       "      <td>USD</td>\n",
       "      <td>101766</td>\n",
       "      <td>234</td>\n",
       "      <td></td>\n",
       "      <td>Central Standard Time</td>\n",
       "      <td>true</td>\n",
       "      <td>NaN</td>\n",
       "      <td>true</td>\n",
       "    </tr>\n",
       "    <tr>\n",
       "      <th>4</th>\n",
       "      <td>CFE</td>\n",
       "      <td>Chicago Futures Exchange</td>\n",
       "      <td>2017-03-31T00:00:00</td>\n",
       "      <td>US</td>\n",
       "      <td>USD</td>\n",
       "      <td>207</td>\n",
       "      <td>0</td>\n",
       "      <td></td>\n",
       "      <td>Central Standard Time</td>\n",
       "      <td>true</td>\n",
       "      <td>NaN</td>\n",
       "      <td>true</td>\n",
       "    </tr>\n",
       "  </tbody>\n",
       "</table>\n",
       "</div>"
      ],
      "text/plain": [
       "   Code                            Name    LastTradeDateTime Country Currency  \\\n",
       "0  AMEX         American Stock Exchange  2017-03-31T16:59:58      US      USD   \n",
       "1   ASX  Australian Securities Exchange  2017-03-31T00:00:00      AU      AUD   \n",
       "2   BSE           Bombay Stock Exchange  2017-03-31T00:00:00      IN      INR   \n",
       "3  CBOT          Chicago Board of Trade  2017-03-31T00:00:00      US      USD   \n",
       "4   CFE        Chicago Futures Exchange  2017-03-31T00:00:00      US      USD   \n",
       "\n",
       "  Advances Declines Suffix                   TimeZone IsIntraday  \\\n",
       "0     3196      897             Eastern Standard Time       true   \n",
       "1    14867      494     AX  AUS Eastern Standard Time      false   \n",
       "2     4673        0      I        India Standard Time      false   \n",
       "3   101766      234             Central Standard Time       true   \n",
       "4      207        0             Central Standard Time       true   \n",
       "\n",
       "   cntradayStartDate HasIntradayProduct  \n",
       "0                NaN               true  \n",
       "1                NaN              false  \n",
       "2                NaN              false  \n",
       "3                NaN               true  \n",
       "4                NaN               true  "
      ]
     },
     "execution_count": 11,
     "metadata": {},
     "output_type": "execute_result"
    }
   ],
   "source": [
    "# pandas dataframe is returned\n",
    "df = eoddata.exchange_list()\n",
    "\n",
    "df.head()"
   ]
  }
 ],
 "metadata": {
  "anaconda-cloud": {},
  "kernelspec": {
   "display_name": "Python [default]",
   "language": "python",
   "name": "python3"
  },
  "language_info": {
   "codemirror_mode": {
    "name": "ipython",
    "version": 3
   },
   "file_extension": ".py",
   "mimetype": "text/x-python",
   "name": "python",
   "nbconvert_exporter": "python",
   "pygments_lexer": "ipython3",
   "version": "3.5.3"
  },
  "toc": {
   "colors": {
    "hover_highlight": "#DAA520",
    "running_highlight": "#FF0000",
    "selected_highlight": "#FFD700"
   },
   "moveMenuLeft": true,
   "nav_menu": {
    "height": "264px",
    "width": "252px"
   },
   "navigate_menu": true,
   "number_sections": true,
   "sideBar": true,
   "threshold": 4,
   "toc_cell": true,
   "toc_section_display": "block",
   "toc_window_display": true,
   "widenNotebook": false
  }
 },
 "nbformat": 4,
 "nbformat_minor": 0
}
