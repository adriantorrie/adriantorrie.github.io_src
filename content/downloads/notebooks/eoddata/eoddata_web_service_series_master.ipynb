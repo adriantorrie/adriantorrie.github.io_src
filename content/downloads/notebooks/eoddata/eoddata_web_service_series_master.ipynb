{
 "cells": [
  {
   "cell_type": "markdown",
   "metadata": {
    "toc": "true"
   },
   "source": [
    "# Table of Contents\n",
    " <p><div class=\"lev1 toc-item\"><a href=\"#Summary\" data-toc-modified-id=\"Summary-1\"><span class=\"toc-item-num\">1&nbsp;&nbsp;</span>Summary</a></div><div class=\"lev1 toc-item\"><a href=\"#Version-Control\" data-toc-modified-id=\"Version-Control-2\"><span class=\"toc-item-num\">2&nbsp;&nbsp;</span>Version Control</a></div><div class=\"lev1 toc-item\"><a href=\"#Change-Log\" data-toc-modified-id=\"Change-Log-3\"><span class=\"toc-item-num\">3&nbsp;&nbsp;</span>Change Log</a></div><div class=\"lev1 toc-item\"><a href=\"#Setup\" data-toc-modified-id=\"Setup-4\"><span class=\"toc-item-num\">4&nbsp;&nbsp;</span>Setup</a></div><div class=\"lev1 toc-item\"><a href=\"#Secure-Credentials-File\" data-toc-modified-id=\"Secure-Credentials-File-5\"><span class=\"toc-item-num\">5&nbsp;&nbsp;</span>Secure Credentials File</a></div><div class=\"lev1 toc-item\"><a href=\"#Inspect-the-XML-returned\" data-toc-modified-id=\"Inspect-the-XML-returned-6\"><span class=\"toc-item-num\">6&nbsp;&nbsp;</span>Inspect the XML returned</a></div><div class=\"lev3 toc-item\"><a href=\"#Data-inspection-(root)\" data-toc-modified-id=\"Data-inspection-(root)-601\"><span class=\"toc-item-num\">6.0.1&nbsp;&nbsp;</span>Data inspection (root)</a></div><div class=\"lev3 toc-item\"><a href=\"#Get-data--(token)\" data-toc-modified-id=\"Get-data--(token)-602\"><span class=\"toc-item-num\">6.0.2&nbsp;&nbsp;</span>Get data  (token)</a></div><div class=\"lev1 toc-item\"><a href=\"#Client\" data-toc-modified-id=\"Client-7\"><span class=\"toc-item-num\">7&nbsp;&nbsp;</span>Client</a></div>"
   ]
  },
  {
   "cell_type": "markdown",
   "metadata": {},
   "source": [
    "# Summary\n",
    "\n",
    " * Master post for the blog series that holds all the links related to making web service calls to Eoddata.com. Overview of the web service can be found [here](http://ws.eoddata.com/data.asmx)\n",
    " * Download the [class definition file](https://adriantorrie.github.io/downloads/code/eoddata.py) for an easy to use client, which is demonstrated below\n",
    " * This post shows you how to create a secure credentials file to hold the username and password so you don't have to keep entering it, and will allow for automation later.\n",
    " * A quick overview is given below of establishing a session using the `requests` module, and parsing the xml response using `xml.etree.cElementTree`. Then a quick inspection of the objects created follows.\n",
    "\n",
    "The following links were used to help get these things working.\n",
    "\n",
    "* http://stackoverflow.com/a/17378332/893766\n",
    "* http://stackoverflow.com/a/1912483/893766\n",
    "* hidden password entry: https://docs.python.org/2/library/getpass.html"
   ]
  },
  {
   "cell_type": "markdown",
   "metadata": {},
   "source": [
    "# Version Control"
   ]
  },
  {
   "cell_type": "code",
   "execution_count": 2,
   "metadata": {
    "ExecuteTime": {
     "end_time": "2017-04-02T05:44:14.578021Z",
     "start_time": "2017-04-02T15:44:12.899715+10:00"
    },
    "collapsed": false
   },
   "outputs": [
    {
     "name": "stdout",
     "output_type": "stream",
     "text": [
      "Python: 3.5.3 |Continuum Analytics, Inc.| (default, Feb 22 2017, 21:13:27) \n",
      "[GCC 4.4.7 20120313 (Red Hat 4.4.7-1)]\n",
      "\n",
      "matplotlib:\t2.0.0\n",
      "numpy:\t\t1.12.0\n",
      "pandas:\t\t0.19.2\n",
      "quandl:\t\t3.0.1\n",
      "requests:\t2.12.4\n",
      "sklearn:\t0.18.1\n",
      "scipy:\t\t0.18.1\n",
      "statsmodels:\t0.8.0\n",
      "tensorflow:\t1.0.1\n"
     ]
    }
   ],
   "source": [
    "%run ../../code/version_check.py"
   ]
  },
  {
   "cell_type": "markdown",
   "metadata": {},
   "source": [
    "# Change Log"
   ]
  },
  {
   "cell_type": "markdown",
   "metadata": {},
   "source": [
    "    Date Created: 2017-03-25\n",
    "    \n",
    "    Date of Change    Change Notes\n",
    "    --------------    ----------------------------------------------------------------\n",
    "    2017-03-25        Initial draft\n",
    "    2017-04-02        Added \"file saved: <location>\" output"
   ]
  },
  {
   "cell_type": "markdown",
   "metadata": {
    "ExecuteTime": {
     "end_time": "2017-03-25T01:36:09.328140Z",
     "start_time": "2017-03-25T12:36:09.321228+11:00"
    }
   },
   "source": [
    "[[Top]](#Table-of-Contents)"
   ]
  },
  {
   "cell_type": "markdown",
   "metadata": {},
   "source": [
    "# Setup"
   ]
  },
  {
   "cell_type": "code",
   "execution_count": 3,
   "metadata": {
    "ExecuteTime": {
     "end_time": "2017-04-02T05:44:17.759721Z",
     "start_time": "2017-04-02T15:44:17.730790+10:00"
    },
    "collapsed": false
   },
   "outputs": [],
   "source": [
    "%run ../../code/eoddata.py\n",
    "\n",
    "from getpass import getpass\n",
    "import json\n",
    "import os\n",
    "import os.path\n",
    "import requests as r\n",
    "import stat\n",
    "import xml.etree.cElementTree as etree\n",
    "\n",
    "ws = 'http://ws.eoddata.com/data.asmx'\n",
    "ns='http://ws.eoddata.com/Data'\n",
    "session = r.Session()"
   ]
  },
  {
   "cell_type": "code",
   "execution_count": 4,
   "metadata": {
    "ExecuteTime": {
     "end_time": "2017-04-02T05:44:22.192331Z",
     "start_time": "2017-04-02T15:44:19.858761+10:00"
    },
    "collapsed": false
   },
   "outputs": [
    {
     "name": "stdout",
     "output_type": "stream",
     "text": [
      "········\n"
     ]
    }
   ],
   "source": [
    "username = getpass()"
   ]
  },
  {
   "cell_type": "code",
   "execution_count": 5,
   "metadata": {
    "ExecuteTime": {
     "end_time": "2017-04-02T05:44:27.935585Z",
     "start_time": "2017-04-02T15:44:25.061133+10:00"
    },
    "collapsed": false
   },
   "outputs": [
    {
     "name": "stdout",
     "output_type": "stream",
     "text": [
      "········\n"
     ]
    }
   ],
   "source": [
    "password = getpass()"
   ]
  },
  {
   "cell_type": "markdown",
   "metadata": {
    "ExecuteTime": {
     "end_time": "2017-03-25T01:36:09.328140Z",
     "start_time": "2017-03-25T12:36:09.321228+11:00"
    }
   },
   "source": [
    "[[Top]](#Table-of-Contents)"
   ]
  },
  {
   "cell_type": "markdown",
   "metadata": {},
   "source": [
    "# Secure Credentials File"
   ]
  },
  {
   "cell_type": "markdown",
   "metadata": {
    "ExecuteTime": {
     "end_time": "2017-03-25T00:36:42.970185Z",
     "start_time": "2017-03-25T11:36:42.965239+11:00"
    }
   },
   "source": [
    "Create credentials file for later usage. The file will have permissions created so only the current user can access the file. The following [SO post](http://stackoverflow.com/a/15015748/893766) was followed.\n",
    "\n",
    "The following directory will be created if it doesn't exist:\n",
    " * Windows: `%USERPROFILE%/.eoddata`\n",
    " * Linux:   `~/.eoddata`"
   ]
  },
  {
   "cell_type": "code",
   "execution_count": 6,
   "metadata": {
    "ExecuteTime": {
     "end_time": "2017-04-02T05:44:30.973328Z",
     "start_time": "2017-04-02T15:44:30.932640+10:00"
    },
    "collapsed": false
   },
   "outputs": [
    {
     "name": "stdout",
     "output_type": "stream",
     "text": [
      "file saved: /home/adrian/.eoddata/credentials\n"
     ]
    }
   ],
   "source": [
    "# gather credentials\n",
    "credentials = {'username': username, 'password': password}\n",
    "\n",
    "# set filename variables\n",
    "credentials_dir = os.path.join(os.path.expanduser(\"~\"), '.eoddata')\n",
    "credentials_file_name = 'credentials'\n",
    "credentials_path = os.path.join(credentials_dir, credentials_file_name)\n",
    "\n",
    "# set security variables\n",
    "flags = os.O_WRONLY | os.O_CREAT | os.O_EXCL  # Refer to \"man 2 open\".\n",
    "mode = stat.S_IRUSR | stat.S_IWUSR  # This is 0o600 in octal and 384 in decimal.\n",
    "\n",
    "# create directory for file if not exists\n",
    "if not os.path.exists(credentials_dir):\n",
    "    os.makedirs(credentials_dir)\n",
    "\n",
    "# for security, remove file with potentially elevated mode\n",
    "try:\n",
    "    os.remove(credentials_path)\n",
    "except OSError:\n",
    "    pass\n",
    "\n",
    "# open file descriptor\n",
    "umask_original = os.umask(0)\n",
    "try:\n",
    "    fdesc = os.open(credentials_path, flags, mode)\n",
    "finally:\n",
    "    os.umask(umask_original)\n",
    "\n",
    "# save credentials in secure file\n",
    "with os.fdopen(fdesc, 'w') as f:\n",
    "    json.dump(credentials, f)\n",
    "    f.write(\"\\n\")\n",
    "    \n",
    "print(\"file saved: {}\".format(credentials_path))"
   ]
  },
  {
   "cell_type": "markdown",
   "metadata": {
    "ExecuteTime": {
     "end_time": "2017-03-25T01:36:09.328140Z",
     "start_time": "2017-03-25T12:36:09.321228+11:00"
    }
   },
   "source": [
    "[[Top]](#Table-of-Contents)"
   ]
  },
  {
   "cell_type": "markdown",
   "metadata": {},
   "source": [
    "# Inspect the XML returned"
   ]
  },
  {
   "cell_type": "code",
   "execution_count": 7,
   "metadata": {
    "ExecuteTime": {
     "end_time": "2017-04-02T05:44:35.086293Z",
     "start_time": "2017-04-02T15:44:34.360616+10:00"
    },
    "collapsed": false
   },
   "outputs": [],
   "source": [
    "call = 'Login'\n",
    "url = '/'.join((ws, call))\n",
    "\n",
    "payload = {'Username': username, 'Password': password}\n",
    "\n",
    "response = session.get(url, params=payload, stream=True)\n",
    "\n",
    "if response.status_code == 200:\n",
    "    root = etree.parse(response.raw).getroot()"
   ]
  },
  {
   "cell_type": "markdown",
   "metadata": {},
   "source": [
    "### Data inspection (root)"
   ]
  },
  {
   "cell_type": "code",
   "execution_count": 8,
   "metadata": {
    "ExecuteTime": {
     "end_time": "2017-04-02T05:44:36.619773Z",
     "start_time": "2017-04-02T15:44:36.591443+10:00"
    },
    "collapsed": false
   },
   "outputs": [
    {
     "data": {
      "text/plain": [
       "['__class__',\n",
       " '__copy__',\n",
       " '__deepcopy__',\n",
       " '__delattr__',\n",
       " '__delitem__',\n",
       " '__dir__',\n",
       " '__doc__',\n",
       " '__eq__',\n",
       " '__format__',\n",
       " '__ge__',\n",
       " '__getattribute__',\n",
       " '__getitem__',\n",
       " '__getstate__',\n",
       " '__gt__',\n",
       " '__hash__',\n",
       " '__init__',\n",
       " '__le__',\n",
       " '__len__',\n",
       " '__lt__',\n",
       " '__ne__',\n",
       " '__new__',\n",
       " '__reduce__',\n",
       " '__reduce_ex__',\n",
       " '__repr__',\n",
       " '__setattr__',\n",
       " '__setitem__',\n",
       " '__setstate__',\n",
       " '__sizeof__',\n",
       " '__str__',\n",
       " '__subclasshook__',\n",
       " 'append',\n",
       " 'clear',\n",
       " 'extend',\n",
       " 'find',\n",
       " 'findall',\n",
       " 'findtext',\n",
       " 'get',\n",
       " 'getchildren',\n",
       " 'getiterator',\n",
       " 'insert',\n",
       " 'items',\n",
       " 'iter',\n",
       " 'iterfind',\n",
       " 'itertext',\n",
       " 'keys',\n",
       " 'makeelement',\n",
       " 'remove',\n",
       " 'set']"
      ]
     },
     "execution_count": 8,
     "metadata": {},
     "output_type": "execute_result"
    }
   ],
   "source": [
    "dir(root)"
   ]
  },
  {
   "cell_type": "code",
   "execution_count": 9,
   "metadata": {
    "ExecuteTime": {
     "end_time": "2017-04-02T05:44:38.545092Z",
     "start_time": "2017-04-02T15:44:38.536451+10:00"
    },
    "collapsed": true
   },
   "outputs": [],
   "source": [
    "for child in root.getchildren():\n",
    "    print (child.tag, child.attribute)"
   ]
  },
  {
   "cell_type": "code",
   "execution_count": 10,
   "metadata": {
    "ExecuteTime": {
     "end_time": "2017-04-02T05:44:39.368322Z",
     "start_time": "2017-04-02T15:44:39.358160+10:00"
    },
    "collapsed": false
   },
   "outputs": [
    {
     "name": "stdout",
     "output_type": "stream",
     "text": [
      "('Header', 'false')\n",
      "('Token', '018558T9FMQ5')\n",
      "('Suffix', 'true')\n",
      "('Message', 'Login Successful')\n",
      "('DataFormat', 'MSAI')\n"
     ]
    }
   ],
   "source": [
    "for item in root.items():\n",
    "    print (item)"
   ]
  },
  {
   "cell_type": "code",
   "execution_count": 11,
   "metadata": {
    "ExecuteTime": {
     "end_time": "2017-04-02T05:44:40.303712Z",
     "start_time": "2017-04-02T15:44:40.295698+10:00"
    },
    "collapsed": false
   },
   "outputs": [
    {
     "name": "stdout",
     "output_type": "stream",
     "text": [
      "Header\n",
      "Token\n",
      "Suffix\n",
      "Message\n",
      "DataFormat\n"
     ]
    }
   ],
   "source": [
    "for key in root.keys():\n",
    "    print (key)"
   ]
  },
  {
   "cell_type": "code",
   "execution_count": 11,
   "metadata": {
    "ExecuteTime": {
     "end_time": "2017-03-25T03:00:44.701006Z",
     "start_time": "2017-03-25T14:00:44.613643+11:00"
    },
    "collapsed": false
   },
   "outputs": [
    {
     "name": "stdout",
     "output_type": "stream",
     "text": [
      "Login Successful\n",
      "018558U111MR\n",
      "MSAI\n",
      "false\n",
      "true\n"
     ]
    }
   ],
   "source": [
    "print (root.get('Message'))\n",
    "print (root.get('Token'))\n",
    "print (root.get('DataFormat'))\n",
    "print (root.get('Header'))\n",
    "print (root.get('Suffix'))"
   ]
  },
  {
   "cell_type": "markdown",
   "metadata": {},
   "source": [
    "### Get data  (token)"
   ]
  },
  {
   "cell_type": "code",
   "execution_count": 12,
   "metadata": {
    "ExecuteTime": {
     "end_time": "2017-04-02T05:44:42.015424Z",
     "start_time": "2017-04-02T15:44:42.009957+10:00"
    },
    "collapsed": true
   },
   "outputs": [],
   "source": [
    "token = root.get('Token')"
   ]
  },
  {
   "cell_type": "markdown",
   "metadata": {
    "ExecuteTime": {
     "end_time": "2017-03-25T01:36:09.328140Z",
     "start_time": "2017-03-25T12:36:09.321228+11:00"
    }
   },
   "source": [
    "[[Top]](#Table-of-Contents)"
   ]
  },
  {
   "cell_type": "markdown",
   "metadata": {},
   "source": [
    "# Client"
   ]
  },
  {
   "cell_type": "code",
   "execution_count": 13,
   "metadata": {
    "ExecuteTime": {
     "end_time": "2017-04-02T05:44:49.510731Z",
     "start_time": "2017-04-02T15:44:48.153179+10:00"
    },
    "collapsed": false
   },
   "outputs": [
    {
     "name": "stdout",
     "output_type": "stream",
     "text": [
      "token: 018558FGCX8Q\n"
     ]
    }
   ],
   "source": [
    "# client can be opened using a with statement\n",
    "with (Client()) as eoddata:\n",
    "    print('token: {}'.format(eoddata.get_token()))"
   ]
  },
  {
   "cell_type": "code",
   "execution_count": 14,
   "metadata": {
    "ExecuteTime": {
     "end_time": "2017-04-02T05:44:52.029418Z",
     "start_time": "2017-04-02T15:44:50.667040+10:00"
    },
    "collapsed": false
   },
   "outputs": [
    {
     "name": "stdout",
     "output_type": "stream",
     "text": [
      "ws: http://ws.eoddata.com/data.asmx\n",
      "ns: http://ws.eoddata.com/Data\n",
      "token: 018558ET482U\n",
      "<requests.sessions.Session object at 0x7f7e71105748>\n"
     ]
    }
   ],
   "source": [
    "# initialise using secure credentials file\n",
    "eoddata = Client()\n",
    "\n",
    "# client field accessors\n",
    "ws = eoddata.get_web_service()\n",
    "ns = eoddata.get_namespace()\n",
    "token = eoddata.get_token()\n",
    "session = eoddata.get_session()\n",
    "\n",
    "print('ws: {}'.format(ws))\n",
    "print('ns: {}'.format(ns))\n",
    "print('token: {}'.format(token))\n",
    "print(session)"
   ]
  },
  {
   "cell_type": "code",
   "execution_count": 15,
   "metadata": {
    "ExecuteTime": {
     "end_time": "2017-04-02T05:44:52.785830Z",
     "start_time": "2017-04-02T15:44:52.776206+10:00"
    },
    "collapsed": false
   },
   "outputs": [
    {
     "data": {
      "text/plain": [
       "['AMEX',\n",
       " 'ASX',\n",
       " 'BSE',\n",
       " 'CBOT',\n",
       " 'CFE',\n",
       " 'CME',\n",
       " 'EUREX',\n",
       " 'AMS',\n",
       " 'BRU',\n",
       " 'LIS',\n",
       " 'PAR',\n",
       " 'FOREX',\n",
       " 'INDEX',\n",
       " 'HKEX',\n",
       " 'KCBT',\n",
       " 'LIFFE',\n",
       " 'LSE',\n",
       " 'MLSE',\n",
       " 'MGEX',\n",
       " 'USMF',\n",
       " 'NASDAQ',\n",
       " 'NSE',\n",
       " 'NYBOT',\n",
       " 'COMEX',\n",
       " 'NYMEX',\n",
       " 'NYSE',\n",
       " 'NZX',\n",
       " 'OTCBB',\n",
       " 'SGX',\n",
       " 'TSX',\n",
       " 'TSXV',\n",
       " 'WCE']"
      ]
     },
     "execution_count": 15,
     "metadata": {},
     "output_type": "execute_result"
    }
   ],
   "source": [
    "# the client has a list of exchange codes avaiable once intialised\n",
    "eoddata.get_exchange_codes()"
   ]
  },
  {
   "cell_type": "code",
   "execution_count": 16,
   "metadata": {
    "ExecuteTime": {
     "end_time": "2017-04-02T05:44:54.523156Z",
     "start_time": "2017-04-02T15:44:54.517452+10:00"
    },
    "collapsed": false
   },
   "outputs": [],
   "source": [
    "# client must be closed if opened outside a with block\n",
    "session.close()\n",
    "eoddata.close_session()"
   ]
  },
  {
   "cell_type": "markdown",
   "metadata": {
    "ExecuteTime": {
     "end_time": "2017-03-25T01:36:09.328140Z",
     "start_time": "2017-03-25T12:36:09.321228+11:00"
    }
   },
   "source": [
    "[[Top]](#Table-of-Contents)"
   ]
  }
 ],
 "metadata": {
  "anaconda-cloud": {},
  "kernelspec": {
   "display_name": "Python [default]",
   "language": "python",
   "name": "python3"
  },
  "language_info": {
   "codemirror_mode": {
    "name": "ipython",
    "version": 3
   },
   "file_extension": ".py",
   "mimetype": "text/x-python",
   "name": "python",
   "nbconvert_exporter": "python",
   "pygments_lexer": "ipython3",
   "version": "3.5.3"
  },
  "toc": {
   "colors": {
    "hover_highlight": "#DAA520",
    "running_highlight": "#FF0000",
    "selected_highlight": "#FFD700"
   },
   "moveMenuLeft": true,
   "nav_menu": {
    "height": "192px",
    "width": "252px"
   },
   "navigate_menu": true,
   "number_sections": true,
   "sideBar": true,
   "threshold": 4,
   "toc_cell": true,
   "toc_section_display": "block",
   "toc_window_display": false,
   "widenNotebook": false
  }
 },
 "nbformat": 4,
 "nbformat_minor": 0
}
