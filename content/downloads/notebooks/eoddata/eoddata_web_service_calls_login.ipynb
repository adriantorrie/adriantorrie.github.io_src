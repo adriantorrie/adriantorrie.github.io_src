{
 "cells": [
  {
   "cell_type": "markdown",
   "metadata": {
    "toc": "true"
   },
   "source": [
    "# Table of Contents\n",
    " <p><div class=\"lev1 toc-item\"><a href=\"#Summary\" data-toc-modified-id=\"Summary-1\"><span class=\"toc-item-num\">1&nbsp;&nbsp;</span>Summary</a></div><div class=\"lev1 toc-item\"><a href=\"#Version-Control\" data-toc-modified-id=\"Version-Control-2\"><span class=\"toc-item-num\">2&nbsp;&nbsp;</span>Version Control</a></div><div class=\"lev1 toc-item\"><a href=\"#Change-Log\" data-toc-modified-id=\"Change-Log-3\"><span class=\"toc-item-num\">3&nbsp;&nbsp;</span>Change Log</a></div><div class=\"lev1 toc-item\"><a href=\"#Setup\" data-toc-modified-id=\"Setup-4\"><span class=\"toc-item-num\">4&nbsp;&nbsp;</span>Setup</a></div><div class=\"lev1 toc-item\"><a href=\"#Login()\" data-toc-modified-id=\"Login()-5\"><span class=\"toc-item-num\">5&nbsp;&nbsp;</span>Login()</a></div><div class=\"lev2 toc-item\"><a href=\"#Web-service-call\" data-toc-modified-id=\"Web-service-call-51\"><span class=\"toc-item-num\">5.1&nbsp;&nbsp;</span>Web service call</a></div><div class=\"lev3 toc-item\"><a href=\"#Get-data\" data-toc-modified-id=\"Get-data-511\"><span class=\"toc-item-num\">5.1.1&nbsp;&nbsp;</span>Get data</a></div><div class=\"lev3 toc-item\"><a href=\"#Data-inspection-(Login)\" data-toc-modified-id=\"Data-inspection-(Login)-512\"><span class=\"toc-item-num\">5.1.2&nbsp;&nbsp;</span>Data inspection (Login)</a></div><div class=\"lev2 toc-item\"><a href=\"#Helper-function\" data-toc-modified-id=\"Helper-function-52\"><span class=\"toc-item-num\">5.2&nbsp;&nbsp;</span>Helper function</a></div><div class=\"lev3 toc-item\"><a href=\"#Usage\" data-toc-modified-id=\"Usage-521\"><span class=\"toc-item-num\">5.2.1&nbsp;&nbsp;</span>Usage</a></div><div class=\"lev2 toc-item\"><a href=\"#Client-function\" data-toc-modified-id=\"Client-function-53\"><span class=\"toc-item-num\">5.3&nbsp;&nbsp;</span>Client function</a></div>"
   ]
  },
  {
   "cell_type": "markdown",
   "metadata": {},
   "source": [
    "# Summary\n",
    "\n",
    "Part of the blog series related to making web service calls to Eoddata.com. Overview of the web service can be found [here](http://ws.eoddata.com/data.asmx).\n",
    "\n",
    " * ** View the master post of this series to build a secure credentials file.** It is used in all posts related to this series.\n",
    " * Download the [class definition file](https://adriantorrie.github.io/downloads/code/eoddata.py) for an easy to use client, which is demonstrated below\n",
    " * This post covers the `Login` call: http://ws.eoddata.com/data.asmx?op=Login"
   ]
  },
  {
   "cell_type": "markdown",
   "metadata": {},
   "source": [
    "# Version Control"
   ]
  },
  {
   "cell_type": "code",
   "execution_count": 1,
   "metadata": {
    "ExecuteTime": {
     "end_time": "2017-03-25T03:02:06.659886Z",
     "start_time": "2017-03-25T14:02:04.894950+11:00"
    },
    "collapsed": false
   },
   "outputs": [
    {
     "name": "stdout",
     "output_type": "stream",
     "text": [
      "Python: 3.5.3 |Continuum Analytics, Inc.| (default, Feb 22 2017, 21:13:27) \n",
      "[GCC 4.4.7 20120313 (Red Hat 4.4.7-1)]\n",
      "\n",
      "matplotlib:\t2.0.0\n",
      "numpy:\t\t1.12.0\n",
      "pandas:\t\t0.19.2\n",
      "quandl:\t\t3.0.1\n",
      "requests:\t2.12.4\n",
      "sklearn:\t0.18.1\n",
      "scipy:\t\t0.18.1\n",
      "statsmodels:\t0.8.0\n",
      "tensorflow:\t1.0.1\n"
     ]
    }
   ],
   "source": [
    "%run ../../code/version_check.py"
   ]
  },
  {
   "cell_type": "markdown",
   "metadata": {
    "ExecuteTime": {
     "end_time": "2017-03-24T23:51:43.313892Z",
     "start_time": "2017-03-25T10:51:43.308989+11:00"
    }
   },
   "source": [
    "# Change Log"
   ]
  },
  {
   "cell_type": "markdown",
   "metadata": {
    "ExecuteTime": {
     "end_time": "2017-03-24T23:51:58.214304Z",
     "start_time": "2017-03-25T10:51:58.204028+11:00"
    }
   },
   "source": [
    "    Date Created: 2017-03-25\n",
    "    \n",
    "    Date of Change    Change Notes\n",
    "    --------------    ----------------------------------------------------------------\n",
    "    2017-03-25        Initial draft"
   ]
  },
  {
   "cell_type": "markdown",
   "metadata": {},
   "source": [
    "# Setup"
   ]
  },
  {
   "cell_type": "code",
   "execution_count": 2,
   "metadata": {
    "ExecuteTime": {
     "end_time": "2017-03-25T03:02:06.677363Z",
     "start_time": "2017-03-25T14:02:06.662325+11:00"
    },
    "collapsed": false
   },
   "outputs": [],
   "source": [
    "%run ../../code/eoddata.py\n",
    "\n",
    "from getpass import getpass\n",
    "import requests as r\n",
    "import xml.etree.cElementTree as etree\n",
    "\n",
    "ws = 'http://ws.eoddata.com/data.asmx'\n",
    "ns='http://ws.eoddata.com/Data'\n",
    "session = r.Session()"
   ]
  },
  {
   "cell_type": "code",
   "execution_count": 3,
   "metadata": {
    "ExecuteTime": {
     "end_time": "2017-03-25T03:02:11.015838Z",
     "start_time": "2017-03-25T14:02:06.679881+11:00"
    },
    "collapsed": false
   },
   "outputs": [
    {
     "name": "stdout",
     "output_type": "stream",
     "text": [
      "········\n"
     ]
    }
   ],
   "source": [
    "username = getpass()"
   ]
  },
  {
   "cell_type": "code",
   "execution_count": 4,
   "metadata": {
    "ExecuteTime": {
     "end_time": "2017-03-25T03:02:13.684628Z",
     "start_time": "2017-03-25T14:02:11.020753+11:00"
    },
    "collapsed": false
   },
   "outputs": [
    {
     "name": "stdout",
     "output_type": "stream",
     "text": [
      "········\n"
     ]
    }
   ],
   "source": [
    "password = getpass()"
   ]
  },
  {
   "cell_type": "markdown",
   "metadata": {},
   "source": [
    "# Login()"
   ]
  },
  {
   "cell_type": "markdown",
   "metadata": {},
   "source": [
    "## Web service call"
   ]
  },
  {
   "cell_type": "code",
   "execution_count": 5,
   "metadata": {
    "ExecuteTime": {
     "end_time": "2017-03-25T03:02:14.517907Z",
     "start_time": "2017-03-25T14:02:13.689393+11:00"
    },
    "collapsed": false
   },
   "outputs": [],
   "source": [
    "call = 'Login'\n",
    "url = '/'.join((ws, call))\n",
    "\n",
    "payload = {'Username': username, 'Password': password}\n",
    "\n",
    "response = session.get(url, params=payload, stream=True)\n",
    "\n",
    "if response.status_code == 200:\n",
    "    root = etree.parse(response.raw).getroot()"
   ]
  },
  {
   "cell_type": "markdown",
   "metadata": {},
   "source": [
    "### Get data"
   ]
  },
  {
   "cell_type": "code",
   "execution_count": 6,
   "metadata": {
    "ExecuteTime": {
     "end_time": "2017-03-25T03:02:14.547512Z",
     "start_time": "2017-03-25T14:02:14.521460+11:00"
    },
    "collapsed": false
   },
   "outputs": [
    {
     "data": {
      "text/plain": [
       "'018558Q2G41P'"
      ]
     },
     "execution_count": 6,
     "metadata": {},
     "output_type": "execute_result"
    }
   ],
   "source": [
    "token = root.get('Token')\n",
    "token"
   ]
  },
  {
   "cell_type": "markdown",
   "metadata": {},
   "source": [
    "### Data inspection (Login)"
   ]
  },
  {
   "cell_type": "code",
   "execution_count": 7,
   "metadata": {
    "ExecuteTime": {
     "end_time": "2017-03-25T03:02:14.644298Z",
     "start_time": "2017-03-25T14:02:14.549840+11:00"
    },
    "collapsed": false
   },
   "outputs": [
    {
     "data": {
      "text/plain": [
       "['__class__',\n",
       " '__copy__',\n",
       " '__deepcopy__',\n",
       " '__delattr__',\n",
       " '__delitem__',\n",
       " '__dir__',\n",
       " '__doc__',\n",
       " '__eq__',\n",
       " '__format__',\n",
       " '__ge__',\n",
       " '__getattribute__',\n",
       " '__getitem__',\n",
       " '__getstate__',\n",
       " '__gt__',\n",
       " '__hash__',\n",
       " '__init__',\n",
       " '__le__',\n",
       " '__len__',\n",
       " '__lt__',\n",
       " '__ne__',\n",
       " '__new__',\n",
       " '__reduce__',\n",
       " '__reduce_ex__',\n",
       " '__repr__',\n",
       " '__setattr__',\n",
       " '__setitem__',\n",
       " '__setstate__',\n",
       " '__sizeof__',\n",
       " '__str__',\n",
       " '__subclasshook__',\n",
       " 'append',\n",
       " 'clear',\n",
       " 'extend',\n",
       " 'find',\n",
       " 'findall',\n",
       " 'findtext',\n",
       " 'get',\n",
       " 'getchildren',\n",
       " 'getiterator',\n",
       " 'insert',\n",
       " 'items',\n",
       " 'iter',\n",
       " 'iterfind',\n",
       " 'itertext',\n",
       " 'keys',\n",
       " 'makeelement',\n",
       " 'remove',\n",
       " 'set']"
      ]
     },
     "execution_count": 7,
     "metadata": {},
     "output_type": "execute_result"
    }
   ],
   "source": [
    "dir(root)"
   ]
  },
  {
   "cell_type": "code",
   "execution_count": 8,
   "metadata": {
    "ExecuteTime": {
     "end_time": "2017-03-25T03:02:14.721467Z",
     "start_time": "2017-03-25T14:02:14.645921+11:00"
    },
    "collapsed": false
   },
   "outputs": [
    {
     "name": "stdout",
     "output_type": "stream",
     "text": [
      "('Suffix', 'true')\n",
      "('Header', 'false')\n",
      "('Token', '018558Q2G41P')\n",
      "('DataFormat', 'MSAI')\n",
      "('Message', 'Login Successful')\n"
     ]
    }
   ],
   "source": [
    "for item in root.items():\n",
    "    print (item)"
   ]
  },
  {
   "cell_type": "code",
   "execution_count": 9,
   "metadata": {
    "ExecuteTime": {
     "end_time": "2017-03-25T03:02:14.821516Z",
     "start_time": "2017-03-25T14:02:14.724973+11:00"
    },
    "collapsed": false
   },
   "outputs": [
    {
     "name": "stdout",
     "output_type": "stream",
     "text": [
      "Suffix\n",
      "Header\n",
      "Token\n",
      "DataFormat\n",
      "Message\n"
     ]
    }
   ],
   "source": [
    "for key in root.keys():\n",
    "    print (key)"
   ]
  },
  {
   "cell_type": "code",
   "execution_count": 10,
   "metadata": {
    "ExecuteTime": {
     "end_time": "2017-03-25T03:02:14.922576Z",
     "start_time": "2017-03-25T14:02:14.824904+11:00"
    },
    "collapsed": false
   },
   "outputs": [
    {
     "name": "stdout",
     "output_type": "stream",
     "text": [
      "Login Successful\n",
      "018558Q2G41P\n",
      "MSAI\n",
      "false\n",
      "true\n"
     ]
    }
   ],
   "source": [
    "print(root.get('Message'))\n",
    "print(root.get('Token'))\n",
    "print(root.get('DataFormat'))\n",
    "print(root.get('Header'))\n",
    "print(root.get('Suffix'))"
   ]
  },
  {
   "cell_type": "markdown",
   "metadata": {},
   "source": [
    "## Helper function"
   ]
  },
  {
   "cell_type": "code",
   "execution_count": 11,
   "metadata": {
    "ExecuteTime": {
     "end_time": "2017-03-25T03:02:15.070867Z",
     "start_time": "2017-03-25T14:02:14.924534+11:00"
    },
    "collapsed": true
   },
   "outputs": [],
   "source": [
    "def Login(session, username, password):\n",
    "    call = 'Login'\n",
    "    url = '/'.join((ws, call))\n",
    "\n",
    "    payload = {'Username': username, 'Password': password}\n",
    "\n",
    "    response = session.get(url, params=payload, stream=True)\n",
    "\n",
    "    if response.status_code == 200:\n",
    "        root = etree.parse(response.raw).getroot()\n",
    "        return root.get('Token')"
   ]
  },
  {
   "cell_type": "markdown",
   "metadata": {},
   "source": [
    "### Usage"
   ]
  },
  {
   "cell_type": "code",
   "execution_count": 12,
   "metadata": {
    "ExecuteTime": {
     "end_time": "2017-03-25T03:02:15.509473Z",
     "start_time": "2017-03-25T14:02:15.072889+11:00"
    },
    "collapsed": false
   },
   "outputs": [
    {
     "data": {
      "text/plain": [
       "'0185588RVBEM'"
      ]
     },
     "execution_count": 12,
     "metadata": {},
     "output_type": "execute_result"
    }
   ],
   "source": [
    "token = Login(session, username, password)\n",
    "token"
   ]
  },
  {
   "cell_type": "markdown",
   "metadata": {},
   "source": [
    "## Client function"
   ]
  },
  {
   "cell_type": "code",
   "execution_count": 13,
   "metadata": {
    "ExecuteTime": {
     "end_time": "2017-03-25T03:02:19.317152Z",
     "start_time": "2017-03-25T14:02:15.511076+11:00"
    },
    "collapsed": false
   },
   "outputs": [
    {
     "name": "stdout",
     "output_type": "stream",
     "text": [
      "token: 018558BRKYV5\n"
     ]
    }
   ],
   "source": [
    "# pass in username and password\n",
    "eoddata = Client(username, password)\n",
    "token = eoddata.get_token()\n",
    "eoddata.close_session()\n",
    "\n",
    "print('token: {}'.format(token))"
   ]
  },
  {
   "cell_type": "code",
   "execution_count": 14,
   "metadata": {
    "ExecuteTime": {
     "end_time": "2017-03-25T03:02:20.968858Z",
     "start_time": "2017-03-25T14:02:19.319290+11:00"
    },
    "collapsed": false
   },
   "outputs": [
    {
     "name": "stdout",
     "output_type": "stream",
     "text": [
      "token: 0185589B7QMS\n"
     ]
    }
   ],
   "source": [
    "# initialise using secure credentials file\n",
    "eoddata = Client()\n",
    "token = eoddata.get_token()\n",
    "eoddata.close_session()\n",
    "\n",
    "print('token: {}'.format(token))"
   ]
  },
  {
   "cell_type": "code",
   "execution_count": 15,
   "metadata": {
    "ExecuteTime": {
     "end_time": "2017-03-25T03:02:22.536621Z",
     "start_time": "2017-03-25T14:02:20.970560+11:00"
    },
    "collapsed": false
   },
   "outputs": [
    {
     "name": "stdout",
     "output_type": "stream",
     "text": [
      "token: 018558MN617X\n"
     ]
    }
   ],
   "source": [
    "# no need to manually close the session when using a with block\n",
    "with (Client()) as eoddata:\n",
    "    print('token: {}'.format(eoddata.get_token()))"
   ]
  }
 ],
 "metadata": {
  "anaconda-cloud": {},
  "kernelspec": {
   "display_name": "Python [default]",
   "language": "python",
   "name": "python3"
  },
  "language_info": {
   "codemirror_mode": {
    "name": "ipython",
    "version": 3
   },
   "file_extension": ".py",
   "mimetype": "text/x-python",
   "name": "python",
   "nbconvert_exporter": "python",
   "pygments_lexer": "ipython3",
   "version": "3.5.3"
  },
  "toc": {
   "colors": {
    "hover_highlight": "#DAA520",
    "running_highlight": "#FF0000",
    "selected_highlight": "#FFD700"
   },
   "moveMenuLeft": true,
   "nav_menu": {
    "height": "210px",
    "width": "252px"
   },
   "navigate_menu": true,
   "number_sections": true,
   "sideBar": true,
   "threshold": 4,
   "toc_cell": true,
   "toc_section_display": "block",
   "toc_window_display": true
  }
 },
 "nbformat": 4,
 "nbformat_minor": 0
}
