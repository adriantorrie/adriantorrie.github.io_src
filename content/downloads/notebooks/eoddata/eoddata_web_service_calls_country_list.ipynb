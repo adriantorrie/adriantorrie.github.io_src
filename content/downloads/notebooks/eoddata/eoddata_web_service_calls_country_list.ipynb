{
 "cells": [
  {
   "cell_type": "markdown",
   "metadata": {
    "toc": "true"
   },
   "source": [
    "# Table of Contents\n",
    " <p><div class=\"lev1 toc-item\"><a href=\"#Summary\" data-toc-modified-id=\"Summary-1\"><span class=\"toc-item-num\">1&nbsp;&nbsp;</span>Summary</a></div><div class=\"lev1 toc-item\"><a href=\"#Version-Control\" data-toc-modified-id=\"Version-Control-2\"><span class=\"toc-item-num\">2&nbsp;&nbsp;</span>Version Control</a></div><div class=\"lev1 toc-item\"><a href=\"#Change-Log\" data-toc-modified-id=\"Change-Log-3\"><span class=\"toc-item-num\">3&nbsp;&nbsp;</span>Change Log</a></div><div class=\"lev1 toc-item\"><a href=\"#Setup\" data-toc-modified-id=\"Setup-4\"><span class=\"toc-item-num\">4&nbsp;&nbsp;</span>Setup</a></div><div class=\"lev1 toc-item\"><a href=\"#CountryList()\" data-toc-modified-id=\"CountryList()-5\"><span class=\"toc-item-num\">5&nbsp;&nbsp;</span>CountryList()</a></div><div class=\"lev2 toc-item\"><a href=\"#Web-service-call\" data-toc-modified-id=\"Web-service-call-51\"><span class=\"toc-item-num\">5.1&nbsp;&nbsp;</span>Web service call</a></div><div class=\"lev3 toc-item\"><a href=\"#Gather-elements\" data-toc-modified-id=\"Gather-elements-511\"><span class=\"toc-item-num\">5.1.1&nbsp;&nbsp;</span>Gather elements</a></div><div class=\"lev3 toc-item\"><a href=\"#Get-data\" data-toc-modified-id=\"Get-data-512\"><span class=\"toc-item-num\">5.1.2&nbsp;&nbsp;</span>Get data</a></div><div class=\"lev3 toc-item\"><a href=\"#Save-to-file\" data-toc-modified-id=\"Save-to-file-513\"><span class=\"toc-item-num\">5.1.3&nbsp;&nbsp;</span>Save to file</a></div><div class=\"lev3 toc-item\"><a href=\"#Data-inspection\" data-toc-modified-id=\"Data-inspection-514\"><span class=\"toc-item-num\">5.1.4&nbsp;&nbsp;</span>Data inspection</a></div><div class=\"lev2 toc-item\"><a href=\"#Helper-function\" data-toc-modified-id=\"Helper-function-52\"><span class=\"toc-item-num\">5.2&nbsp;&nbsp;</span>Helper function</a></div><div class=\"lev3 toc-item\"><a href=\"#Usage\" data-toc-modified-id=\"Usage-521\"><span class=\"toc-item-num\">5.2.1&nbsp;&nbsp;</span>Usage</a></div><div class=\"lev2 toc-item\"><a href=\"#Client-function\" data-toc-modified-id=\"Client-function-53\"><span class=\"toc-item-num\">5.3&nbsp;&nbsp;</span>Client function</a></div>"
   ]
  },
  {
   "cell_type": "markdown",
   "metadata": {},
   "source": [
    "# Summary\n",
    "\n",
    "Part of the blog series related to making web service calls to Eoddata.com. Overview of the web service can be found [here](http://ws.eoddata.com/data.asmx).\n",
    "\n",
    " * ** View the master post of this series to build a secure credentials file.** It is used in all posts related to this series.\n",
    " * Download the [class definition file](https://adriantorrie.github.io/downloads/code/eoddata.py) for an easy to use client, which is demonstrated below\n",
    " * This post covers the `CountryList` call: http://ws.eoddata.com/data.asmx?op=CountryList"
   ]
  },
  {
   "cell_type": "markdown",
   "metadata": {},
   "source": [
    "# Version Control"
   ]
  },
  {
   "cell_type": "code",
   "execution_count": 1,
   "metadata": {
    "ExecuteTime": {
     "end_time": "2017-04-02T05:25:24.075823Z",
     "start_time": "2017-04-02T15:25:17.137025+10:00"
    },
    "collapsed": false
   },
   "outputs": [
    {
     "name": "stdout",
     "output_type": "stream",
     "text": [
      "Python: 3.5.3 |Continuum Analytics, Inc.| (default, Feb 22 2017, 21:13:27) \n",
      "[GCC 4.4.7 20120313 (Red Hat 4.4.7-1)]\n",
      "\n",
      "matplotlib:\t2.0.0\n",
      "numpy:\t\t1.12.0\n",
      "pandas:\t\t0.19.2\n",
      "quandl:\t\t3.0.1\n",
      "requests:\t2.12.4\n",
      "sklearn:\t0.18.1\n",
      "scipy:\t\t0.18.1\n",
      "statsmodels:\t0.8.0\n",
      "tensorflow:\t1.0.1\n"
     ]
    }
   ],
   "source": [
    "%run ../../code/version_check.py"
   ]
  },
  {
   "cell_type": "markdown",
   "metadata": {},
   "source": [
    "# Change Log"
   ]
  },
  {
   "cell_type": "markdown",
   "metadata": {
    "ExecuteTime": {
     "end_time": "2017-03-25T01:44:55.931699Z",
     "start_time": "2017-03-25T12:44:55.922319+11:00"
    }
   },
   "source": [
    "    Date Created: 2017-04-02\n",
    "    \n",
    "    Date of Change    Change Notes\n",
    "    --------------    ----------------------------------------------------------------\n",
    "    2017-04-02        Initial draft"
   ]
  },
  {
   "cell_type": "markdown",
   "metadata": {},
   "source": [
    "# Setup"
   ]
  },
  {
   "cell_type": "code",
   "execution_count": 2,
   "metadata": {
    "ExecuteTime": {
     "end_time": "2017-04-02T05:25:25.459055Z",
     "start_time": "2017-04-02T15:25:24.077792+10:00"
    },
    "collapsed": false
   },
   "outputs": [],
   "source": [
    "%run ../../code/eoddata.py\n",
    "\n",
    "import pandas as pd\n",
    "import requests as r\n",
    "\n",
    "ws = 'http://ws.eoddata.com/data.asmx'\n",
    "ns='http://ws.eoddata.com/Data'\n",
    "\n",
    "with (Client()) as eoddata:\n",
    "    token = eoddata.get_token()"
   ]
  },
  {
   "cell_type": "markdown",
   "metadata": {},
   "source": [
    "# CountryList()"
   ]
  },
  {
   "cell_type": "markdown",
   "metadata": {
    "ExecuteTime": {
     "end_time": "2017-03-25T01:31:06.071998Z",
     "start_time": "2017-03-25T12:31:06.069508+11:00"
    }
   },
   "source": [
    "## Web service call"
   ]
  },
  {
   "cell_type": "code",
   "execution_count": 3,
   "metadata": {
    "ExecuteTime": {
     "end_time": "2017-04-02T05:25:26.536622Z",
     "start_time": "2017-04-02T15:25:25.463047+10:00"
    },
    "collapsed": false
   },
   "outputs": [],
   "source": [
    "session = r.Session()\n",
    "\n",
    "call = 'CountryList'\n",
    "kwargs = {'Token': token,}\n",
    "pattern = \".//{%s}CountryBase\"\n",
    "\n",
    "url = '/'.join((ws, call))\n",
    "response = session.get(url, params=kwargs, stream=True)\n",
    "\n",
    "if response.status_code == 200:\n",
    "    root = etree.parse(response.raw).getroot()\n",
    "    \n",
    "session.close()"
   ]
  },
  {
   "cell_type": "markdown",
   "metadata": {},
   "source": [
    "### Gather elements"
   ]
  },
  {
   "cell_type": "code",
   "execution_count": 4,
   "metadata": {
    "ExecuteTime": {
     "end_time": "2017-04-02T05:25:26.548176Z",
     "start_time": "2017-04-02T15:25:26.541260+10:00"
    },
    "collapsed": false
   },
   "outputs": [],
   "source": [
    "elements = root.findall(pattern %(ns))"
   ]
  },
  {
   "cell_type": "markdown",
   "metadata": {},
   "source": [
    "### Get data"
   ]
  },
  {
   "cell_type": "code",
   "execution_count": 5,
   "metadata": {
    "ExecuteTime": {
     "end_time": "2017-04-02T05:25:26.702970Z",
     "start_time": "2017-04-02T15:25:26.553469+10:00"
    },
    "collapsed": false
   },
   "outputs": [
    {
     "data": {
      "text/plain": [
       "[('AD', 'Andorra'),\n",
       " ('AE', 'United Arab Emirates'),\n",
       " ('AF', 'Afghanistan'),\n",
       " ('AG', 'Antigua'),\n",
       " ('AI', 'Anguilla'),\n",
       " ('AL', 'Albania'),\n",
       " ('AM', 'Armenia'),\n",
       " ('AN', 'Netherlands Antilles'),\n",
       " ('AO', 'Angola'),\n",
       " ('AR', 'Argentina'),\n",
       " ('AS', 'American Samoa'),\n",
       " ('AT', 'Austria'),\n",
       " ('AU', 'Australia'),\n",
       " ('AW', 'Aruba'),\n",
       " ('AZ', 'Azerbaijan'),\n",
       " ('BA', 'Bosnia'),\n",
       " ('BB', 'Barbados'),\n",
       " ('BD', 'Bangladesh'),\n",
       " ('BE', 'Belgium'),\n",
       " ('BF', 'Burkinia Faso'),\n",
       " ('BG', 'Bulgaria'),\n",
       " ('BH', 'Bahrain'),\n",
       " ('BI', 'Burundi'),\n",
       " ('BJ', 'Benin'),\n",
       " ('BM', 'Bermuda'),\n",
       " ('BN', 'Brunei Darussalam'),\n",
       " ('BO', 'Bolivia'),\n",
       " ('BR', 'Brazil'),\n",
       " ('BS', 'Bahamas'),\n",
       " ('BT', 'Bhutan'),\n",
       " ('BV', 'Bouvet Island'),\n",
       " ('BW', 'Botswana'),\n",
       " ('BX', 'Barbuda'),\n",
       " ('BY', 'Belarus'),\n",
       " ('BZ', 'Belize'),\n",
       " ('CA', 'Canada'),\n",
       " ('CC', 'Cocos Keeling Islands'),\n",
       " ('CF', 'Central African Republic'),\n",
       " ('CG', 'Congo'),\n",
       " ('CH', 'Switzerland'),\n",
       " ('CI', \"Cote Di'voire\"),\n",
       " ('CK', 'Cook Islands'),\n",
       " ('CL', 'Chile'),\n",
       " ('CM', 'Cameroon'),\n",
       " ('CN', 'China'),\n",
       " ('CO', 'Colombia'),\n",
       " ('CR', 'Costa Rica'),\n",
       " ('CS', 'Serbia and Montenegro'),\n",
       " ('CU', 'Cuba'),\n",
       " ('CV', 'Cape Verde'),\n",
       " ('CX', 'Christmas Island'),\n",
       " ('CY', 'Cyprus'),\n",
       " ('CZ', 'Czech Republic'),\n",
       " ('DE', 'Germany'),\n",
       " ('DJ', 'Djibouti'),\n",
       " ('DK', 'Denmark'),\n",
       " ('DM', 'Dominica'),\n",
       " ('DO', 'Dominican Republic'),\n",
       " ('DZ', 'Algeria'),\n",
       " ('EC', 'Ecuador'),\n",
       " ('EE', 'Estonia'),\n",
       " ('EG', 'Egypt'),\n",
       " ('EH', 'Western Sahara'),\n",
       " ('EQ', 'Equatorial Guinea'),\n",
       " ('ER', 'Eritrea'),\n",
       " ('ES', 'Spain'),\n",
       " ('ET', 'Ethiopia'),\n",
       " ('FA', 'French Antilles'),\n",
       " ('FI', 'Finland'),\n",
       " ('FJ', 'Fiji'),\n",
       " ('FK', 'Falkland Islands'),\n",
       " ('FM', 'Micronesia'),\n",
       " ('FO', 'Faroe Islands'),\n",
       " ('FR', 'France'),\n",
       " ('GA', 'Gabon'),\n",
       " ('GD', 'Grenada'),\n",
       " ('GE', 'Georgia'),\n",
       " ('GF', 'French Guyana'),\n",
       " ('GH', 'Ghana'),\n",
       " ('GI', 'Gibraltar'),\n",
       " ('GL', 'Greenland'),\n",
       " ('GM', 'Gambia'),\n",
       " ('GN', 'Guinea'),\n",
       " ('GP', 'Guadeloupe'),\n",
       " ('GR', 'Greece'),\n",
       " ('GR', 'Grenadines'),\n",
       " ('GS', 'Guernsey'),\n",
       " ('GT', 'Guatemala'),\n",
       " ('GU', 'Guam'),\n",
       " ('GW', 'Guinea Bissau'),\n",
       " ('GY', 'Guyana'),\n",
       " ('HK', 'Hong Kong'),\n",
       " ('HM', 'Heard Island and McDonald Islands'),\n",
       " ('HN', 'Honduras'),\n",
       " ('HR', 'Croatia'),\n",
       " ('HT', 'Haiti'),\n",
       " ('HU', 'Hungary'),\n",
       " ('HZ', 'Herzegovina'),\n",
       " ('ID', 'Indonesia'),\n",
       " ('IE', 'Ireland'),\n",
       " ('IL', 'Israel'),\n",
       " ('IM', 'Isle of Man'),\n",
       " ('IN', 'India'),\n",
       " ('IO', 'British Indian Ocean Territory'),\n",
       " ('IQ', 'Iraq'),\n",
       " ('IR', 'Iran'),\n",
       " ('IS', 'Iceland'),\n",
       " ('IT', 'Italy'),\n",
       " ('IV', 'Ivory Coast'),\n",
       " ('JE', 'Jersey'),\n",
       " ('JM', 'Jamaica'),\n",
       " ('JN', 'Jan Mayen'),\n",
       " ('JO', 'Jordan'),\n",
       " ('JP', 'Japan'),\n",
       " ('KE', 'Kenya'),\n",
       " ('KG', 'Kyrgyzstan'),\n",
       " ('KH', 'Cambodia'),\n",
       " ('KI', 'Kiribati'),\n",
       " ('KM', 'Comores'),\n",
       " ('KN', 'St Kitts'),\n",
       " ('KP', 'North Korea'),\n",
       " ('KR', 'South Korea'),\n",
       " ('KW', 'Kuwait'),\n",
       " ('KY', 'Cayman Islands'),\n",
       " ('KZ', 'Kazakhstan'),\n",
       " ('LA', 'Laos'),\n",
       " ('LB', 'Lebanon'),\n",
       " ('LC', 'Saint Lucia'),\n",
       " ('LI', 'Liechtenstein'),\n",
       " ('LK', 'Sri Lanka'),\n",
       " ('LR', 'Liberia'),\n",
       " ('LS', 'Lesotho'),\n",
       " ('LT', 'Lithuania'),\n",
       " ('LU', 'Luxembourg'),\n",
       " ('LV', 'Latvia'),\n",
       " ('LY', 'Libya'),\n",
       " ('MA', 'Morocco'),\n",
       " ('MC', 'Monaco'),\n",
       " ('MD', 'Miquelon'),\n",
       " ('MD', 'Moldova'),\n",
       " ('MG', 'Madagascar'),\n",
       " ('MK', 'Macedonia'),\n",
       " ('ML', 'Mali'),\n",
       " ('MM', 'Myanmar'),\n",
       " ('MN', 'Mongolia'),\n",
       " ('MO', 'Macau'),\n",
       " ('MP', 'North Mariana Islands'),\n",
       " ('MQ', 'Martinique'),\n",
       " ('MR', 'Mauritania'),\n",
       " ('MS', 'Montserrat'),\n",
       " ('MT', 'Malta'),\n",
       " ('MU', 'Mauritius'),\n",
       " ('MV', 'Maldives'),\n",
       " ('MW', 'Malawi'),\n",
       " ('MX', 'Mexico'),\n",
       " ('MY', 'Malaysia'),\n",
       " ('MZ', 'Mozambique'),\n",
       " ('NA', 'Namibia'),\n",
       " ('NC', 'New Caledonia'),\n",
       " ('NE', 'Niger'),\n",
       " ('NF', 'Norfolk Island'),\n",
       " ('NG', 'Nigeria'),\n",
       " ('NI', 'Nicaragua'),\n",
       " ('NL', 'Netherlands'),\n",
       " ('NO', 'Norway'),\n",
       " ('NP', 'Nepal'),\n",
       " ('NR', 'Nauru'),\n",
       " ('NU', 'Niue'),\n",
       " ('NV', 'Nevis'),\n",
       " ('NZ', 'New Zealand'),\n",
       " ('OM', 'Oman'),\n",
       " ('PA', 'Panama'),\n",
       " ('PC', 'Principe'),\n",
       " ('PE', 'Peru'),\n",
       " ('PF', 'French Polynesia'),\n",
       " ('PG', 'Papua New Guinea'),\n",
       " ('PH', 'Philippines'),\n",
       " ('PK', 'Pakistan'),\n",
       " ('PL', 'Poland'),\n",
       " ('PM', 'St Pierre'),\n",
       " ('PN', 'Pitcairn Island'),\n",
       " ('PR', 'Puerto Rico'),\n",
       " ('PT', 'Portugal'),\n",
       " ('PW', 'Palau'),\n",
       " ('PY', 'Paraguay'),\n",
       " ('QA', 'Qatar'),\n",
       " ('RE', 'Reunion'),\n",
       " ('RO', 'Romania'),\n",
       " ('RU', 'Russia'),\n",
       " ('RW', 'Rwanda'),\n",
       " ('SA', 'Saudi Arabia'),\n",
       " ('SB', 'Solomon Islands'),\n",
       " ('SC', 'Seychelles'),\n",
       " ('SD', 'Sudan'),\n",
       " ('SE', 'Sweden'),\n",
       " ('SG', 'Singapore'),\n",
       " ('SH', 'St Helena'),\n",
       " ('SI', 'Slovenia'),\n",
       " ('SJ', 'Svalbard'),\n",
       " ('SK', 'Slovakia'),\n",
       " ('SL', 'Sierra Leone'),\n",
       " ('SM', 'San Marino'),\n",
       " ('SN', 'Senegal'),\n",
       " ('SO', 'Somalia'),\n",
       " ('SR', 'Surinaam'),\n",
       " ('ST', 'Sao Tome'),\n",
       " ('SV', 'El Salvador'),\n",
       " ('SY', 'Syria'),\n",
       " ('SZ', 'Swaziland'),\n",
       " ('TC', 'Turks and Caicos Islands'),\n",
       " ('TD', 'Chad'),\n",
       " ('TF', 'French Southern Territories'),\n",
       " ('TG', 'Togo'),\n",
       " ('TH', 'Thailand'),\n",
       " ('TJ', 'Tadzhikstan'),\n",
       " ('TK', 'Tokelau'),\n",
       " ('TM', 'Turkmenistan'),\n",
       " ('TN', 'Tunisia'),\n",
       " ('TO', 'Tonga'),\n",
       " ('TP', 'East Timor'),\n",
       " ('TR', 'Turkey'),\n",
       " ('TT', 'Trinidad and Tobago'),\n",
       " ('TV', 'Tuvalu'),\n",
       " ('TW', 'Taiwan'),\n",
       " ('TZ', 'Tanzania'),\n",
       " ('UA', 'Ukraine'),\n",
       " ('UF', 'Unidades Fomento'),\n",
       " ('UG', 'Uganda'),\n",
       " ('UK', 'United Kingdom'),\n",
       " ('US', 'United States'),\n",
       " ('UY', 'Uruguay'),\n",
       " ('UZ', 'Uzbekistan'),\n",
       " ('VA', 'Vatican City'),\n",
       " ('VC', 'St Vincent'),\n",
       " ('VE', 'Venezuela'),\n",
       " ('VG', 'Virgin Islands'),\n",
       " ('VN', 'Vietnam'),\n",
       " ('VU', 'Vanuatu'),\n",
       " ('WF', 'Wallis and Futuna Islands'),\n",
       " ('WS', 'Samoa'),\n",
       " ('YE', 'Yemen'),\n",
       " ('YU', 'Yugoslavia'),\n",
       " ('ZA', 'South Africa'),\n",
       " ('ZM', 'Zambia'),\n",
       " ('ZW', 'Zimbabwe')]"
      ]
     },
     "execution_count": 5,
     "metadata": {},
     "output_type": "execute_result"
    }
   ],
   "source": [
    "countries = sorted((element.get('Code'), element.get('Name')) for element in elements)\n",
    "countries"
   ]
  },
  {
   "cell_type": "markdown",
   "metadata": {},
   "source": [
    "### Save to file"
   ]
  },
  {
   "cell_type": "code",
   "execution_count": 6,
   "metadata": {
    "ExecuteTime": {
     "end_time": "2017-04-02T05:25:26.823188Z",
     "start_time": "2017-04-02T15:25:26.704643+10:00"
    },
    "collapsed": true
   },
   "outputs": [],
   "source": [
    "with open('../../data/countries.csv', 'w') as f:\n",
    "    for element in elements:\n",
    "        f.write('\"%s\"\\n' % '\",\"'.join(element.attrib.values()))"
   ]
  },
  {
   "cell_type": "markdown",
   "metadata": {},
   "source": [
    "### Data inspection"
   ]
  },
  {
   "cell_type": "code",
   "execution_count": 7,
   "metadata": {
    "ExecuteTime": {
     "end_time": "2017-04-02T05:25:26.974494Z",
     "start_time": "2017-04-02T15:25:26.825135+10:00"
    },
    "collapsed": false
   },
   "outputs": [
    {
     "name": "stdout",
     "output_type": "stream",
     "text": [
      "('Date', '0001-01-01T00:00:00')\n",
      "('Source', 'Data.CountryList')\n",
      "('Message', 'Success')\n"
     ]
    }
   ],
   "source": [
    "for item in root.items():\n",
    "    print (item)"
   ]
  },
  {
   "cell_type": "code",
   "execution_count": 8,
   "metadata": {
    "ExecuteTime": {
     "end_time": "2017-04-02T05:25:27.120248Z",
     "start_time": "2017-04-02T15:25:26.979794+10:00"
    },
    "collapsed": false
   },
   "outputs": [
    {
     "name": "stdout",
     "output_type": "stream",
     "text": [
      "{'Date': '0001-01-01T00:00:00', 'Source': 'Data.CountryList', 'Message': 'Success'}\n",
      "{}\n",
      "{'Code': 'AF', 'Name': 'Afghanistan'}\n",
      "{'Code': 'AL', 'Name': 'Albania'}\n",
      "{'Code': 'DZ', 'Name': 'Algeria'}\n",
      "{'Code': 'AS', 'Name': 'American Samoa'}\n",
      "{'Code': 'AD', 'Name': 'Andorra'}\n",
      "{'Code': 'AO', 'Name': 'Angola'}\n",
      "{'Code': 'AI', 'Name': 'Anguilla'}\n",
      "{'Code': 'AG', 'Name': 'Antigua'}\n",
      "{'Code': 'AR', 'Name': 'Argentina'}\n",
      "{'Code': 'AM', 'Name': 'Armenia'}\n",
      "{'Code': 'AW', 'Name': 'Aruba'}\n",
      "{'Code': 'AU', 'Name': 'Australia'}\n",
      "{'Code': 'AT', 'Name': 'Austria'}\n",
      "{'Code': 'AZ', 'Name': 'Azerbaijan'}\n",
      "{'Code': 'BS', 'Name': 'Bahamas'}\n",
      "{'Code': 'BH', 'Name': 'Bahrain'}\n",
      "{'Code': 'BD', 'Name': 'Bangladesh'}\n",
      "{'Code': 'BB', 'Name': 'Barbados'}\n",
      "{'Code': 'BX', 'Name': 'Barbuda'}\n",
      "{'Code': 'BY', 'Name': 'Belarus'}\n",
      "{'Code': 'BE', 'Name': 'Belgium'}\n",
      "{'Code': 'BZ', 'Name': 'Belize'}\n",
      "{'Code': 'BJ', 'Name': 'Benin'}\n",
      "{'Code': 'BM', 'Name': 'Bermuda'}\n",
      "{'Code': 'BT', 'Name': 'Bhutan'}\n",
      "{'Code': 'BO', 'Name': 'Bolivia'}\n",
      "{'Code': 'BA', 'Name': 'Bosnia'}\n",
      "{'Code': 'BW', 'Name': 'Botswana'}\n",
      "{'Code': 'BV', 'Name': 'Bouvet Island'}\n",
      "{'Code': 'BR', 'Name': 'Brazil'}\n",
      "{'Code': 'IO', 'Name': 'British Indian Ocean Territory'}\n",
      "{'Code': 'BN', 'Name': 'Brunei Darussalam'}\n",
      "{'Code': 'BG', 'Name': 'Bulgaria'}\n",
      "{'Code': 'BF', 'Name': 'Burkinia Faso'}\n",
      "{'Code': 'BI', 'Name': 'Burundi'}\n",
      "{'Code': 'KH', 'Name': 'Cambodia'}\n",
      "{'Code': 'CM', 'Name': 'Cameroon'}\n",
      "{'Code': 'CA', 'Name': 'Canada'}\n",
      "{'Code': 'CV', 'Name': 'Cape Verde'}\n",
      "{'Code': 'KY', 'Name': 'Cayman Islands'}\n",
      "{'Code': 'CF', 'Name': 'Central African Republic'}\n",
      "{'Code': 'TD', 'Name': 'Chad'}\n",
      "{'Code': 'CL', 'Name': 'Chile'}\n",
      "{'Code': 'CN', 'Name': 'China'}\n",
      "{'Code': 'CX', 'Name': 'Christmas Island'}\n",
      "{'Code': 'CC', 'Name': 'Cocos Keeling Islands'}\n",
      "{'Code': 'CO', 'Name': 'Colombia'}\n",
      "{'Code': 'KM', 'Name': 'Comores'}\n",
      "{'Code': 'CG', 'Name': 'Congo'}\n",
      "{'Code': 'CK', 'Name': 'Cook Islands'}\n",
      "{'Code': 'CR', 'Name': 'Costa Rica'}\n",
      "{'Code': 'CI', 'Name': \"Cote Di'voire\"}\n",
      "{'Code': 'HR', 'Name': 'Croatia'}\n",
      "{'Code': 'CU', 'Name': 'Cuba'}\n",
      "{'Code': 'CY', 'Name': 'Cyprus'}\n",
      "{'Code': 'CZ', 'Name': 'Czech Republic'}\n",
      "{'Code': 'DK', 'Name': 'Denmark'}\n",
      "{'Code': 'DJ', 'Name': 'Djibouti'}\n",
      "{'Code': 'DM', 'Name': 'Dominica'}\n",
      "{'Code': 'DO', 'Name': 'Dominican Republic'}\n",
      "{'Code': 'TP', 'Name': 'East Timor'}\n",
      "{'Code': 'EC', 'Name': 'Ecuador'}\n",
      "{'Code': 'EG', 'Name': 'Egypt'}\n",
      "{'Code': 'SV', 'Name': 'El Salvador'}\n",
      "{'Code': 'EQ', 'Name': 'Equatorial Guinea'}\n",
      "{'Code': 'ER', 'Name': 'Eritrea'}\n",
      "{'Code': 'EE', 'Name': 'Estonia'}\n",
      "{'Code': 'ET', 'Name': 'Ethiopia'}\n",
      "{'Code': 'FK', 'Name': 'Falkland Islands'}\n",
      "{'Code': 'FO', 'Name': 'Faroe Islands'}\n",
      "{'Code': 'FJ', 'Name': 'Fiji'}\n",
      "{'Code': 'FI', 'Name': 'Finland'}\n",
      "{'Code': 'FR', 'Name': 'France'}\n",
      "{'Code': 'FA', 'Name': 'French Antilles'}\n",
      "{'Code': 'GF', 'Name': 'French Guyana'}\n",
      "{'Code': 'PF', 'Name': 'French Polynesia'}\n",
      "{'Code': 'TF', 'Name': 'French Southern Territories'}\n",
      "{'Code': 'GA', 'Name': 'Gabon'}\n",
      "{'Code': 'GM', 'Name': 'Gambia'}\n",
      "{'Code': 'GE', 'Name': 'Georgia'}\n",
      "{'Code': 'DE', 'Name': 'Germany'}\n",
      "{'Code': 'GH', 'Name': 'Ghana'}\n",
      "{'Code': 'GI', 'Name': 'Gibraltar'}\n",
      "{'Code': 'GR', 'Name': 'Greece'}\n",
      "{'Code': 'GL', 'Name': 'Greenland'}\n",
      "{'Code': 'GD', 'Name': 'Grenada'}\n",
      "{'Code': 'GR', 'Name': 'Grenadines'}\n",
      "{'Code': 'GP', 'Name': 'Guadeloupe'}\n",
      "{'Code': 'GU', 'Name': 'Guam'}\n",
      "{'Code': 'GT', 'Name': 'Guatemala'}\n",
      "{'Code': 'GS', 'Name': 'Guernsey'}\n",
      "{'Code': 'GN', 'Name': 'Guinea'}\n",
      "{'Code': 'GW', 'Name': 'Guinea Bissau'}\n",
      "{'Code': 'GY', 'Name': 'Guyana'}\n",
      "{'Code': 'HT', 'Name': 'Haiti'}\n",
      "{'Code': 'HM', 'Name': 'Heard Island and McDonald Islands'}\n",
      "{'Code': 'HZ', 'Name': 'Herzegovina'}\n",
      "{'Code': 'HN', 'Name': 'Honduras'}\n",
      "{'Code': 'HK', 'Name': 'Hong Kong'}\n",
      "{'Code': 'HU', 'Name': 'Hungary'}\n",
      "{'Code': 'IS', 'Name': 'Iceland'}\n",
      "{'Code': 'IN', 'Name': 'India'}\n",
      "{'Code': 'ID', 'Name': 'Indonesia'}\n",
      "{'Code': 'IR', 'Name': 'Iran'}\n",
      "{'Code': 'IQ', 'Name': 'Iraq'}\n",
      "{'Code': 'IE', 'Name': 'Ireland'}\n",
      "{'Code': 'IM', 'Name': 'Isle of Man'}\n",
      "{'Code': 'IL', 'Name': 'Israel'}\n",
      "{'Code': 'IT', 'Name': 'Italy'}\n",
      "{'Code': 'IV', 'Name': 'Ivory Coast'}\n",
      "{'Code': 'JM', 'Name': 'Jamaica'}\n",
      "{'Code': 'JN', 'Name': 'Jan Mayen'}\n",
      "{'Code': 'JP', 'Name': 'Japan'}\n",
      "{'Code': 'JE', 'Name': 'Jersey'}\n",
      "{'Code': 'JO', 'Name': 'Jordan'}\n",
      "{'Code': 'KZ', 'Name': 'Kazakhstan'}\n",
      "{'Code': 'KE', 'Name': 'Kenya'}\n",
      "{'Code': 'KI', 'Name': 'Kiribati'}\n",
      "{'Code': 'KW', 'Name': 'Kuwait'}\n",
      "{'Code': 'KG', 'Name': 'Kyrgyzstan'}\n",
      "{'Code': 'LA', 'Name': 'Laos'}\n",
      "{'Code': 'LV', 'Name': 'Latvia'}\n",
      "{'Code': 'LB', 'Name': 'Lebanon'}\n",
      "{'Code': 'LS', 'Name': 'Lesotho'}\n",
      "{'Code': 'LR', 'Name': 'Liberia'}\n",
      "{'Code': 'LY', 'Name': 'Libya'}\n",
      "{'Code': 'LI', 'Name': 'Liechtenstein'}\n",
      "{'Code': 'LT', 'Name': 'Lithuania'}\n",
      "{'Code': 'LU', 'Name': 'Luxembourg'}\n",
      "{'Code': 'MO', 'Name': 'Macau'}\n",
      "{'Code': 'MK', 'Name': 'Macedonia'}\n",
      "{'Code': 'MG', 'Name': 'Madagascar'}\n",
      "{'Code': 'MW', 'Name': 'Malawi'}\n",
      "{'Code': 'MY', 'Name': 'Malaysia'}\n",
      "{'Code': 'MV', 'Name': 'Maldives'}\n",
      "{'Code': 'ML', 'Name': 'Mali'}\n",
      "{'Code': 'MT', 'Name': 'Malta'}\n",
      "{'Code': 'MQ', 'Name': 'Martinique'}\n",
      "{'Code': 'MR', 'Name': 'Mauritania'}\n",
      "{'Code': 'MU', 'Name': 'Mauritius'}\n",
      "{'Code': 'MX', 'Name': 'Mexico'}\n",
      "{'Code': 'FM', 'Name': 'Micronesia'}\n",
      "{'Code': 'MD', 'Name': 'Miquelon'}\n",
      "{'Code': 'MD', 'Name': 'Moldova'}\n",
      "{'Code': 'MC', 'Name': 'Monaco'}\n",
      "{'Code': 'MN', 'Name': 'Mongolia'}\n",
      "{'Code': 'MS', 'Name': 'Montserrat'}\n",
      "{'Code': 'MA', 'Name': 'Morocco'}\n",
      "{'Code': 'MZ', 'Name': 'Mozambique'}\n",
      "{'Code': 'MM', 'Name': 'Myanmar'}\n",
      "{'Code': 'NA', 'Name': 'Namibia'}\n",
      "{'Code': 'NR', 'Name': 'Nauru'}\n",
      "{'Code': 'NP', 'Name': 'Nepal'}\n",
      "{'Code': 'NL', 'Name': 'Netherlands'}\n",
      "{'Code': 'AN', 'Name': 'Netherlands Antilles'}\n",
      "{'Code': 'NV', 'Name': 'Nevis'}\n",
      "{'Code': 'NC', 'Name': 'New Caledonia'}\n",
      "{'Code': 'NZ', 'Name': 'New Zealand'}\n",
      "{'Code': 'NI', 'Name': 'Nicaragua'}\n",
      "{'Code': 'NE', 'Name': 'Niger'}\n",
      "{'Code': 'NG', 'Name': 'Nigeria'}\n",
      "{'Code': 'NU', 'Name': 'Niue'}\n",
      "{'Code': 'NF', 'Name': 'Norfolk Island'}\n",
      "{'Code': 'KP', 'Name': 'North Korea'}\n",
      "{'Code': 'MP', 'Name': 'North Mariana Islands'}\n",
      "{'Code': 'NO', 'Name': 'Norway'}\n",
      "{'Code': 'OM', 'Name': 'Oman'}\n",
      "{'Code': 'PK', 'Name': 'Pakistan'}\n",
      "{'Code': 'PW', 'Name': 'Palau'}\n",
      "{'Code': 'PA', 'Name': 'Panama'}\n",
      "{'Code': 'PG', 'Name': 'Papua New Guinea'}\n",
      "{'Code': 'PY', 'Name': 'Paraguay'}\n",
      "{'Code': 'PE', 'Name': 'Peru'}\n",
      "{'Code': 'PH', 'Name': 'Philippines'}\n",
      "{'Code': 'PN', 'Name': 'Pitcairn Island'}\n",
      "{'Code': 'PL', 'Name': 'Poland'}\n",
      "{'Code': 'PT', 'Name': 'Portugal'}\n",
      "{'Code': 'PC', 'Name': 'Principe'}\n",
      "{'Code': 'PR', 'Name': 'Puerto Rico'}\n",
      "{'Code': 'QA', 'Name': 'Qatar'}\n",
      "{'Code': 'RE', 'Name': 'Reunion'}\n",
      "{'Code': 'RO', 'Name': 'Romania'}\n",
      "{'Code': 'RU', 'Name': 'Russia'}\n",
      "{'Code': 'RW', 'Name': 'Rwanda'}\n",
      "{'Code': 'LC', 'Name': 'Saint Lucia'}\n",
      "{'Code': 'WS', 'Name': 'Samoa'}\n",
      "{'Code': 'SM', 'Name': 'San Marino'}\n",
      "{'Code': 'ST', 'Name': 'Sao Tome'}\n",
      "{'Code': 'SA', 'Name': 'Saudi Arabia'}\n",
      "{'Code': 'SN', 'Name': 'Senegal'}\n",
      "{'Code': 'CS', 'Name': 'Serbia and Montenegro'}\n",
      "{'Code': 'SC', 'Name': 'Seychelles'}\n",
      "{'Code': 'SL', 'Name': 'Sierra Leone'}\n",
      "{'Code': 'SG', 'Name': 'Singapore'}\n",
      "{'Code': 'SK', 'Name': 'Slovakia'}\n",
      "{'Code': 'SI', 'Name': 'Slovenia'}\n",
      "{'Code': 'SB', 'Name': 'Solomon Islands'}\n",
      "{'Code': 'SO', 'Name': 'Somalia'}\n",
      "{'Code': 'ZA', 'Name': 'South Africa'}\n",
      "{'Code': 'KR', 'Name': 'South Korea'}\n",
      "{'Code': 'ES', 'Name': 'Spain'}\n",
      "{'Code': 'LK', 'Name': 'Sri Lanka'}\n",
      "{'Code': 'SH', 'Name': 'St Helena'}\n",
      "{'Code': 'KN', 'Name': 'St Kitts'}\n",
      "{'Code': 'PM', 'Name': 'St Pierre'}\n",
      "{'Code': 'VC', 'Name': 'St Vincent'}\n",
      "{'Code': 'SD', 'Name': 'Sudan'}\n",
      "{'Code': 'SR', 'Name': 'Surinaam'}\n",
      "{'Code': 'SJ', 'Name': 'Svalbard'}\n",
      "{'Code': 'SZ', 'Name': 'Swaziland'}\n",
      "{'Code': 'SE', 'Name': 'Sweden'}\n",
      "{'Code': 'CH', 'Name': 'Switzerland'}\n",
      "{'Code': 'SY', 'Name': 'Syria'}\n",
      "{'Code': 'TJ', 'Name': 'Tadzhikstan'}\n",
      "{'Code': 'TW', 'Name': 'Taiwan'}\n",
      "{'Code': 'TZ', 'Name': 'Tanzania'}\n",
      "{'Code': 'TH', 'Name': 'Thailand'}\n",
      "{'Code': 'TG', 'Name': 'Togo'}\n",
      "{'Code': 'TK', 'Name': 'Tokelau'}\n",
      "{'Code': 'TO', 'Name': 'Tonga'}\n",
      "{'Code': 'TT', 'Name': 'Trinidad and Tobago'}\n",
      "{'Code': 'TN', 'Name': 'Tunisia'}\n",
      "{'Code': 'TR', 'Name': 'Turkey'}\n",
      "{'Code': 'TM', 'Name': 'Turkmenistan'}\n",
      "{'Code': 'TC', 'Name': 'Turks and Caicos Islands'}\n",
      "{'Code': 'TV', 'Name': 'Tuvalu'}\n",
      "{'Code': 'UG', 'Name': 'Uganda'}\n",
      "{'Code': 'UA', 'Name': 'Ukraine'}\n",
      "{'Code': 'UF', 'Name': 'Unidades Fomento'}\n",
      "{'Code': 'AE', 'Name': 'United Arab Emirates'}\n",
      "{'Code': 'UK', 'Name': 'United Kingdom'}\n",
      "{'Code': 'US', 'Name': 'United States'}\n",
      "{'Code': 'UY', 'Name': 'Uruguay'}\n",
      "{'Code': 'UZ', 'Name': 'Uzbekistan'}\n",
      "{'Code': 'VU', 'Name': 'Vanuatu'}\n",
      "{'Code': 'VA', 'Name': 'Vatican City'}\n",
      "{'Code': 'VE', 'Name': 'Venezuela'}\n",
      "{'Code': 'VN', 'Name': 'Vietnam'}\n",
      "{'Code': 'VG', 'Name': 'Virgin Islands'}\n",
      "{'Code': 'WF', 'Name': 'Wallis and Futuna Islands'}\n",
      "{'Code': 'EH', 'Name': 'Western Sahara'}\n",
      "{'Code': 'YE', 'Name': 'Yemen'}\n",
      "{'Code': 'YU', 'Name': 'Yugoslavia'}\n",
      "{'Code': 'ZM', 'Name': 'Zambia'}\n",
      "{'Code': 'ZW', 'Name': 'Zimbabwe'}\n"
     ]
    }
   ],
   "source": [
    "for element in root.iter():\n",
    "    print(element.attrib)"
   ]
  },
  {
   "cell_type": "markdown",
   "metadata": {},
   "source": [
    "## Helper function"
   ]
  },
  {
   "cell_type": "code",
   "execution_count": 9,
   "metadata": {
    "ExecuteTime": {
     "end_time": "2017-04-02T05:25:27.155684Z",
     "start_time": "2017-04-02T15:25:27.121922+10:00"
    },
    "collapsed": true
   },
   "outputs": [],
   "source": [
    "def CountryList(session, token):\n",
    "    call = 'CountryList'\n",
    "    kwargs = {'Token': token,}\n",
    "    pattern = \".//{%s}CountryBase\"\n",
    "\n",
    "    url = '/'.join((ws, call))\n",
    "    response = session.get(url, params=kwargs, stream=True)\n",
    "\n",
    "    if response.status_code == 200:\n",
    "        root = etree.parse(response.raw).getroot()\n",
    "        \n",
    "    return sorted((element.get('Code'), element.get('Name')) for element in elements)"
   ]
  },
  {
   "cell_type": "markdown",
   "metadata": {},
   "source": [
    "### Usage"
   ]
  },
  {
   "cell_type": "code",
   "execution_count": 10,
   "metadata": {
    "ExecuteTime": {
     "end_time": "2017-04-02T05:25:28.326526Z",
     "start_time": "2017-04-02T15:25:27.158589+10:00"
    },
    "collapsed": false
   },
   "outputs": [
    {
     "data": {
      "text/plain": [
       "[('AD', 'Andorra'),\n",
       " ('AE', 'United Arab Emirates'),\n",
       " ('AF', 'Afghanistan'),\n",
       " ('AG', 'Antigua'),\n",
       " ('AI', 'Anguilla'),\n",
       " ('AL', 'Albania'),\n",
       " ('AM', 'Armenia'),\n",
       " ('AN', 'Netherlands Antilles'),\n",
       " ('AO', 'Angola'),\n",
       " ('AR', 'Argentina')]"
      ]
     },
     "execution_count": 10,
     "metadata": {},
     "output_type": "execute_result"
    }
   ],
   "source": [
    "session = r.session()\n",
    "countries = CountryList(session, token)\n",
    "session.close()\n",
    "\n",
    "countries[:10]"
   ]
  },
  {
   "cell_type": "markdown",
   "metadata": {},
   "source": [
    "## Client function"
   ]
  },
  {
   "cell_type": "code",
   "execution_count": 11,
   "metadata": {
    "ExecuteTime": {
     "end_time": "2017-04-02T05:25:29.411313Z",
     "start_time": "2017-04-02T15:25:28.328034+10:00"
    },
    "collapsed": false
   },
   "outputs": [
    {
     "data": {
      "text/html": [
       "<div>\n",
       "<table border=\"1\" class=\"dataframe\">\n",
       "  <thead>\n",
       "    <tr style=\"text-align: right;\">\n",
       "      <th></th>\n",
       "      <th>Code</th>\n",
       "      <th>Name</th>\n",
       "    </tr>\n",
       "  </thead>\n",
       "  <tbody>\n",
       "    <tr>\n",
       "      <th>0</th>\n",
       "      <td>AF</td>\n",
       "      <td>Afghanistan</td>\n",
       "    </tr>\n",
       "    <tr>\n",
       "      <th>1</th>\n",
       "      <td>AL</td>\n",
       "      <td>Albania</td>\n",
       "    </tr>\n",
       "    <tr>\n",
       "      <th>2</th>\n",
       "      <td>DZ</td>\n",
       "      <td>Algeria</td>\n",
       "    </tr>\n",
       "    <tr>\n",
       "      <th>3</th>\n",
       "      <td>AS</td>\n",
       "      <td>American Samoa</td>\n",
       "    </tr>\n",
       "    <tr>\n",
       "      <th>4</th>\n",
       "      <td>AD</td>\n",
       "      <td>Andorra</td>\n",
       "    </tr>\n",
       "  </tbody>\n",
       "</table>\n",
       "</div>"
      ],
      "text/plain": [
       "  Code            Name\n",
       "0   AF     Afghanistan\n",
       "1   AL         Albania\n",
       "2   DZ         Algeria\n",
       "3   AS  American Samoa\n",
       "4   AD         Andorra"
      ]
     },
     "execution_count": 11,
     "metadata": {},
     "output_type": "execute_result"
    }
   ],
   "source": [
    "# pandas dataframe is returned\n",
    "df = eoddata.country_list()\n",
    "\n",
    "df.head()"
   ]
  }
 ],
 "metadata": {
  "anaconda-cloud": {},
  "kernelspec": {
   "display_name": "Python [default]",
   "language": "python",
   "name": "python3"
  },
  "language_info": {
   "codemirror_mode": {
    "name": "ipython",
    "version": 3
   },
   "file_extension": ".py",
   "mimetype": "text/x-python",
   "name": "python",
   "nbconvert_exporter": "python",
   "pygments_lexer": "ipython3",
   "version": "3.5.3"
  },
  "toc": {
   "colors": {
    "hover_highlight": "#DAA520",
    "running_highlight": "#FF0000",
    "selected_highlight": "#FFD700"
   },
   "moveMenuLeft": true,
   "nav_menu": {
    "height": "264px",
    "width": "252px"
   },
   "navigate_menu": true,
   "number_sections": true,
   "sideBar": true,
   "threshold": 4,
   "toc_cell": true,
   "toc_section_display": "block",
   "toc_window_display": true,
   "widenNotebook": false
  }
 },
 "nbformat": 4,
 "nbformat_minor": 0
}
