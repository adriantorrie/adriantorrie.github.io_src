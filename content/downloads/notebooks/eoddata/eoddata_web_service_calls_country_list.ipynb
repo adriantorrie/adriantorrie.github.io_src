{
 "cells": [
  {
   "cell_type": "markdown",
   "metadata": {
    "toc": "true"
   },
   "source": [
    "# Table of Contents\n",
    " <p><div class=\"lev1 toc-item\"><a href=\"#Summary\" data-toc-modified-id=\"Summary-1\"><span class=\"toc-item-num\">1&nbsp;&nbsp;</span>Summary</a></div><div class=\"lev1 toc-item\"><a href=\"#Version-Control\" data-toc-modified-id=\"Version-Control-2\"><span class=\"toc-item-num\">2&nbsp;&nbsp;</span>Version Control</a></div><div class=\"lev1 toc-item\"><a href=\"#Change-Log\" data-toc-modified-id=\"Change-Log-3\"><span class=\"toc-item-num\">3&nbsp;&nbsp;</span>Change Log</a></div><div class=\"lev1 toc-item\"><a href=\"#Setup\" data-toc-modified-id=\"Setup-4\"><span class=\"toc-item-num\">4&nbsp;&nbsp;</span>Setup</a></div><div class=\"lev1 toc-item\"><a href=\"#CountryList()\" data-toc-modified-id=\"CountryList()-5\"><span class=\"toc-item-num\">5&nbsp;&nbsp;</span>CountryList()</a></div><div class=\"lev2 toc-item\"><a href=\"#Web-service-call\" data-toc-modified-id=\"Web-service-call-51\"><span class=\"toc-item-num\">5.1&nbsp;&nbsp;</span>Web service call</a></div><div class=\"lev3 toc-item\"><a href=\"#Gather-elements\" data-toc-modified-id=\"Gather-elements-511\"><span class=\"toc-item-num\">5.1.1&nbsp;&nbsp;</span>Gather elements</a></div><div class=\"lev3 toc-item\"><a href=\"#Get-data\" data-toc-modified-id=\"Get-data-512\"><span class=\"toc-item-num\">5.1.2&nbsp;&nbsp;</span>Get data</a></div><div class=\"lev3 toc-item\"><a href=\"#Save-to-file\" data-toc-modified-id=\"Save-to-file-513\"><span class=\"toc-item-num\">5.1.3&nbsp;&nbsp;</span>Save to file</a></div><div class=\"lev3 toc-item\"><a href=\"#Data-inspection\" data-toc-modified-id=\"Data-inspection-514\"><span class=\"toc-item-num\">5.1.4&nbsp;&nbsp;</span>Data inspection</a></div><div class=\"lev2 toc-item\"><a href=\"#Helper-function\" data-toc-modified-id=\"Helper-function-52\"><span class=\"toc-item-num\">5.2&nbsp;&nbsp;</span>Helper function</a></div><div class=\"lev3 toc-item\"><a href=\"#Usage\" data-toc-modified-id=\"Usage-521\"><span class=\"toc-item-num\">5.2.1&nbsp;&nbsp;</span>Usage</a></div><div class=\"lev2 toc-item\"><a href=\"#Client-function\" data-toc-modified-id=\"Client-function-53\"><span class=\"toc-item-num\">5.3&nbsp;&nbsp;</span>Client function</a></div>"
   ]
  },
  {
   "cell_type": "markdown",
   "metadata": {},
   "source": [
    "# Summary\n",
    "\n",
    "Part of the blog series related to making web service calls to Eoddata.com. Overview of the web service can be found [here](http://ws.eoddata.com/data.asmx).\n",
    "\n",
    " * ** View the master post of this series to build a secure credentials file.** It is used in all posts related to this series.\n",
    " * Download this blog post as a [jupyter notebook](https://adriantorrie.github.io/downloads/notebooks/eoddata/eoddata_web_service_calls_country_list.ipynb)\n",
    " * Download the [class definition file](https://adriantorrie.github.io/downloads/code/eoddata.py) for an easy to use client, which is demonstrated below\n",
    " * This post covers the `CountryList` call: http://ws.eoddata.com/data.asmx?op=CountryList"
   ]
  },
  {
   "cell_type": "markdown",
   "metadata": {},
   "source": [
    "# Version Control"
   ]
  },
  {
   "cell_type": "code",
   "execution_count": 1,
   "metadata": {
    "ExecuteTime": {
     "end_time": "2017-04-02T06:24:11.606362Z",
     "start_time": "2017-04-02T16:24:09.809824+10:00"
    },
    "collapsed": false
   },
   "outputs": [
    {
     "name": "stdout",
     "output_type": "stream",
     "text": [
      "Python: 3.5.3 |Continuum Analytics, Inc.| (default, Feb 22 2017, 21:13:27) \n",
      "[GCC 4.4.7 20120313 (Red Hat 4.4.7-1)]\n",
      "\n",
      "matplotlib:\t2.0.0\n",
      "numpy:\t\t1.12.0\n",
      "pandas:\t\t0.19.2\n",
      "quandl:\t\t3.0.1\n",
      "sklearn:\t0.18.1\n",
      "scipy:\t\t0.18.1\n",
      "statsmodels:\t0.8.0\n",
      "tensorflow:\t1.0.1\n"
     ]
    }
   ],
   "source": [
    "%run ../../code/version_check.py"
   ]
  },
  {
   "cell_type": "markdown",
   "metadata": {},
   "source": [
    "# Change Log"
   ]
  },
  {
   "cell_type": "markdown",
   "metadata": {
    "ExecuteTime": {
     "end_time": "2017-03-25T01:44:55.931699Z",
     "start_time": "2017-03-25T12:44:55.922319+11:00"
    }
   },
   "source": [
    "    Date Created: 2017-04-02\n",
    "    \n",
    "    Date of Change    Change Notes\n",
    "    --------------    ----------------------------------------------------------------\n",
    "    2017-04-02        Initial draft"
   ]
  },
  {
   "cell_type": "markdown",
   "metadata": {},
   "source": [
    "# Setup"
   ]
  },
  {
   "cell_type": "code",
   "execution_count": 2,
   "metadata": {
    "ExecuteTime": {
     "end_time": "2017-04-02T06:24:17.967211Z",
     "start_time": "2017-04-02T16:24:11.608235+10:00"
    },
    "collapsed": false
   },
   "outputs": [],
   "source": [
    "%run ../../code/eoddata.py\n",
    "\n",
    "import pandas as pd\n",
    "import requests as r\n",
    "\n",
    "ws = 'http://ws.eoddata.com/data.asmx'\n",
    "ns='http://ws.eoddata.com/Data'\n",
    "\n",
    "with (Client()) as eoddata:\n",
    "    token = eoddata.get_token()"
   ]
  },
  {
   "cell_type": "markdown",
   "metadata": {},
   "source": [
    "# CountryList()"
   ]
  },
  {
   "cell_type": "markdown",
   "metadata": {
    "ExecuteTime": {
     "end_time": "2017-03-25T01:31:06.071998Z",
     "start_time": "2017-03-25T12:31:06.069508+11:00"
    }
   },
   "source": [
    "## Web service call"
   ]
  },
  {
   "cell_type": "code",
   "execution_count": 3,
   "metadata": {
    "ExecuteTime": {
     "end_time": "2017-04-02T06:24:24.120256Z",
     "start_time": "2017-04-02T16:24:17.969644+10:00"
    },
    "collapsed": false
   },
   "outputs": [],
   "source": [
    "session = r.Session()\n",
    "\n",
    "call = 'CountryList'\n",
    "kwargs = {'Token': token,}\n",
    "pattern = \".//{%s}CountryBase\"\n",
    "\n",
    "url = '/'.join((ws, call))\n",
    "response = session.get(url, params=kwargs, stream=True)\n",
    "\n",
    "if response.status_code == 200:\n",
    "    root = etree.parse(response.raw).getroot()\n",
    "    \n",
    "session.close()"
   ]
  },
  {
   "cell_type": "markdown",
   "metadata": {},
   "source": [
    "### Gather elements"
   ]
  },
  {
   "cell_type": "code",
   "execution_count": 4,
   "metadata": {
    "ExecuteTime": {
     "end_time": "2017-04-02T06:24:24.125295Z",
     "start_time": "2017-04-02T16:24:24.122338+10:00"
    },
    "collapsed": false
   },
   "outputs": [],
   "source": [
    "elements = root.findall(pattern %(ns))"
   ]
  },
  {
   "cell_type": "markdown",
   "metadata": {},
   "source": [
    "### Get data"
   ]
  },
  {
   "cell_type": "code",
   "execution_count": 5,
   "metadata": {
    "ExecuteTime": {
     "end_time": "2017-04-02T06:24:24.271159Z",
     "start_time": "2017-04-02T16:24:24.127632+10:00"
    },
    "collapsed": false
   },
   "outputs": [
    {
     "data": {
      "text/plain": [
       "[('AD', 'Andorra'),\n",
       " ('AE', 'United Arab Emirates'),\n",
       " ('AF', 'Afghanistan'),\n",
       " ('AG', 'Antigua'),\n",
       " ('AI', 'Anguilla'),\n",
       " ('AL', 'Albania'),\n",
       " ('AM', 'Armenia'),\n",
       " ('AN', 'Netherlands Antilles'),\n",
       " ('AO', 'Angola'),\n",
       " ('AR', 'Argentina'),\n",
       " ('AS', 'American Samoa'),\n",
       " ('AT', 'Austria'),\n",
       " ('AU', 'Australia'),\n",
       " ('AW', 'Aruba'),\n",
       " ('AZ', 'Azerbaijan'),\n",
       " ('BA', 'Bosnia'),\n",
       " ('BB', 'Barbados'),\n",
       " ('BD', 'Bangladesh'),\n",
       " ('BE', 'Belgium'),\n",
       " ('BF', 'Burkinia Faso'),\n",
       " ('BG', 'Bulgaria'),\n",
       " ('BH', 'Bahrain'),\n",
       " ('BI', 'Burundi'),\n",
       " ('BJ', 'Benin'),\n",
       " ('BM', 'Bermuda'),\n",
       " ('BN', 'Brunei Darussalam'),\n",
       " ('BO', 'Bolivia'),\n",
       " ('BR', 'Brazil'),\n",
       " ('BS', 'Bahamas'),\n",
       " ('BT', 'Bhutan'),\n",
       " ('BV', 'Bouvet Island'),\n",
       " ('BW', 'Botswana'),\n",
       " ('BX', 'Barbuda'),\n",
       " ('BY', 'Belarus'),\n",
       " ('BZ', 'Belize'),\n",
       " ('CA', 'Canada'),\n",
       " ('CC', 'Cocos Keeling Islands'),\n",
       " ('CF', 'Central African Republic'),\n",
       " ('CG', 'Congo'),\n",
       " ('CH', 'Switzerland'),\n",
       " ('CI', \"Cote Di'voire\"),\n",
       " ('CK', 'Cook Islands'),\n",
       " ('CL', 'Chile'),\n",
       " ('CM', 'Cameroon'),\n",
       " ('CN', 'China'),\n",
       " ('CO', 'Colombia'),\n",
       " ('CR', 'Costa Rica'),\n",
       " ('CS', 'Serbia and Montenegro'),\n",
       " ('CU', 'Cuba'),\n",
       " ('CV', 'Cape Verde'),\n",
       " ('CX', 'Christmas Island'),\n",
       " ('CY', 'Cyprus'),\n",
       " ('CZ', 'Czech Republic'),\n",
       " ('DE', 'Germany'),\n",
       " ('DJ', 'Djibouti'),\n",
       " ('DK', 'Denmark'),\n",
       " ('DM', 'Dominica'),\n",
       " ('DO', 'Dominican Republic'),\n",
       " ('DZ', 'Algeria'),\n",
       " ('EC', 'Ecuador'),\n",
       " ('EE', 'Estonia'),\n",
       " ('EG', 'Egypt'),\n",
       " ('EH', 'Western Sahara'),\n",
       " ('EQ', 'Equatorial Guinea'),\n",
       " ('ER', 'Eritrea'),\n",
       " ('ES', 'Spain'),\n",
       " ('ET', 'Ethiopia'),\n",
       " ('FA', 'French Antilles'),\n",
       " ('FI', 'Finland'),\n",
       " ('FJ', 'Fiji'),\n",
       " ('FK', 'Falkland Islands'),\n",
       " ('FM', 'Micronesia'),\n",
       " ('FO', 'Faroe Islands'),\n",
       " ('FR', 'France'),\n",
       " ('GA', 'Gabon'),\n",
       " ('GD', 'Grenada'),\n",
       " ('GE', 'Georgia'),\n",
       " ('GF', 'French Guyana'),\n",
       " ('GH', 'Ghana'),\n",
       " ('GI', 'Gibraltar'),\n",
       " ('GL', 'Greenland'),\n",
       " ('GM', 'Gambia'),\n",
       " ('GN', 'Guinea'),\n",
       " ('GP', 'Guadeloupe'),\n",
       " ('GR', 'Greece'),\n",
       " ('GR', 'Grenadines'),\n",
       " ('GS', 'Guernsey'),\n",
       " ('GT', 'Guatemala'),\n",
       " ('GU', 'Guam'),\n",
       " ('GW', 'Guinea Bissau'),\n",
       " ('GY', 'Guyana'),\n",
       " ('HK', 'Hong Kong'),\n",
       " ('HM', 'Heard Island and McDonald Islands'),\n",
       " ('HN', 'Honduras'),\n",
       " ('HR', 'Croatia'),\n",
       " ('HT', 'Haiti'),\n",
       " ('HU', 'Hungary'),\n",
       " ('HZ', 'Herzegovina'),\n",
       " ('ID', 'Indonesia'),\n",
       " ('IE', 'Ireland'),\n",
       " ('IL', 'Israel'),\n",
       " ('IM', 'Isle of Man'),\n",
       " ('IN', 'India'),\n",
       " ('IO', 'British Indian Ocean Territory'),\n",
       " ('IQ', 'Iraq'),\n",
       " ('IR', 'Iran'),\n",
       " ('IS', 'Iceland'),\n",
       " ('IT', 'Italy'),\n",
       " ('IV', 'Ivory Coast'),\n",
       " ('JE', 'Jersey'),\n",
       " ('JM', 'Jamaica'),\n",
       " ('JN', 'Jan Mayen'),\n",
       " ('JO', 'Jordan'),\n",
       " ('JP', 'Japan'),\n",
       " ('KE', 'Kenya'),\n",
       " ('KG', 'Kyrgyzstan'),\n",
       " ('KH', 'Cambodia'),\n",
       " ('KI', 'Kiribati'),\n",
       " ('KM', 'Comores'),\n",
       " ('KN', 'St Kitts'),\n",
       " ('KP', 'North Korea'),\n",
       " ('KR', 'South Korea'),\n",
       " ('KW', 'Kuwait'),\n",
       " ('KY', 'Cayman Islands'),\n",
       " ('KZ', 'Kazakhstan'),\n",
       " ('LA', 'Laos'),\n",
       " ('LB', 'Lebanon'),\n",
       " ('LC', 'Saint Lucia'),\n",
       " ('LI', 'Liechtenstein'),\n",
       " ('LK', 'Sri Lanka'),\n",
       " ('LR', 'Liberia'),\n",
       " ('LS', 'Lesotho'),\n",
       " ('LT', 'Lithuania'),\n",
       " ('LU', 'Luxembourg'),\n",
       " ('LV', 'Latvia'),\n",
       " ('LY', 'Libya'),\n",
       " ('MA', 'Morocco'),\n",
       " ('MC', 'Monaco'),\n",
       " ('MD', 'Miquelon'),\n",
       " ('MD', 'Moldova'),\n",
       " ('MG', 'Madagascar'),\n",
       " ('MK', 'Macedonia'),\n",
       " ('ML', 'Mali'),\n",
       " ('MM', 'Myanmar'),\n",
       " ('MN', 'Mongolia'),\n",
       " ('MO', 'Macau'),\n",
       " ('MP', 'North Mariana Islands'),\n",
       " ('MQ', 'Martinique'),\n",
       " ('MR', 'Mauritania'),\n",
       " ('MS', 'Montserrat'),\n",
       " ('MT', 'Malta'),\n",
       " ('MU', 'Mauritius'),\n",
       " ('MV', 'Maldives'),\n",
       " ('MW', 'Malawi'),\n",
       " ('MX', 'Mexico'),\n",
       " ('MY', 'Malaysia'),\n",
       " ('MZ', 'Mozambique'),\n",
       " ('NA', 'Namibia'),\n",
       " ('NC', 'New Caledonia'),\n",
       " ('NE', 'Niger'),\n",
       " ('NF', 'Norfolk Island'),\n",
       " ('NG', 'Nigeria'),\n",
       " ('NI', 'Nicaragua'),\n",
       " ('NL', 'Netherlands'),\n",
       " ('NO', 'Norway'),\n",
       " ('NP', 'Nepal'),\n",
       " ('NR', 'Nauru'),\n",
       " ('NU', 'Niue'),\n",
       " ('NV', 'Nevis'),\n",
       " ('NZ', 'New Zealand'),\n",
       " ('OM', 'Oman'),\n",
       " ('PA', 'Panama'),\n",
       " ('PC', 'Principe'),\n",
       " ('PE', 'Peru'),\n",
       " ('PF', 'French Polynesia'),\n",
       " ('PG', 'Papua New Guinea'),\n",
       " ('PH', 'Philippines'),\n",
       " ('PK', 'Pakistan'),\n",
       " ('PL', 'Poland'),\n",
       " ('PM', 'St Pierre'),\n",
       " ('PN', 'Pitcairn Island'),\n",
       " ('PR', 'Puerto Rico'),\n",
       " ('PT', 'Portugal'),\n",
       " ('PW', 'Palau'),\n",
       " ('PY', 'Paraguay'),\n",
       " ('QA', 'Qatar'),\n",
       " ('RE', 'Reunion'),\n",
       " ('RO', 'Romania'),\n",
       " ('RU', 'Russia'),\n",
       " ('RW', 'Rwanda'),\n",
       " ('SA', 'Saudi Arabia'),\n",
       " ('SB', 'Solomon Islands'),\n",
       " ('SC', 'Seychelles'),\n",
       " ('SD', 'Sudan'),\n",
       " ('SE', 'Sweden'),\n",
       " ('SG', 'Singapore'),\n",
       " ('SH', 'St Helena'),\n",
       " ('SI', 'Slovenia'),\n",
       " ('SJ', 'Svalbard'),\n",
       " ('SK', 'Slovakia'),\n",
       " ('SL', 'Sierra Leone'),\n",
       " ('SM', 'San Marino'),\n",
       " ('SN', 'Senegal'),\n",
       " ('SO', 'Somalia'),\n",
       " ('SR', 'Surinaam'),\n",
       " ('ST', 'Sao Tome'),\n",
       " ('SV', 'El Salvador'),\n",
       " ('SY', 'Syria'),\n",
       " ('SZ', 'Swaziland'),\n",
       " ('TC', 'Turks and Caicos Islands'),\n",
       " ('TD', 'Chad'),\n",
       " ('TF', 'French Southern Territories'),\n",
       " ('TG', 'Togo'),\n",
       " ('TH', 'Thailand'),\n",
       " ('TJ', 'Tadzhikstan'),\n",
       " ('TK', 'Tokelau'),\n",
       " ('TM', 'Turkmenistan'),\n",
       " ('TN', 'Tunisia'),\n",
       " ('TO', 'Tonga'),\n",
       " ('TP', 'East Timor'),\n",
       " ('TR', 'Turkey'),\n",
       " ('TT', 'Trinidad and Tobago'),\n",
       " ('TV', 'Tuvalu'),\n",
       " ('TW', 'Taiwan'),\n",
       " ('TZ', 'Tanzania'),\n",
       " ('UA', 'Ukraine'),\n",
       " ('UF', 'Unidades Fomento'),\n",
       " ('UG', 'Uganda'),\n",
       " ('UK', 'United Kingdom'),\n",
       " ('US', 'United States'),\n",
       " ('UY', 'Uruguay'),\n",
       " ('UZ', 'Uzbekistan'),\n",
       " ('VA', 'Vatican City'),\n",
       " ('VC', 'St Vincent'),\n",
       " ('VE', 'Venezuela'),\n",
       " ('VG', 'Virgin Islands'),\n",
       " ('VN', 'Vietnam'),\n",
       " ('VU', 'Vanuatu'),\n",
       " ('WF', 'Wallis and Futuna Islands'),\n",
       " ('WS', 'Samoa'),\n",
       " ('YE', 'Yemen'),\n",
       " ('YU', 'Yugoslavia'),\n",
       " ('ZA', 'South Africa'),\n",
       " ('ZM', 'Zambia'),\n",
       " ('ZW', 'Zimbabwe')]"
      ]
     },
     "execution_count": 5,
     "metadata": {},
     "output_type": "execute_result"
    }
   ],
   "source": [
    "countries = sorted((element.get('Code'), element.get('Name')) for element in elements)\n",
    "countries"
   ]
  },
  {
   "cell_type": "markdown",
   "metadata": {},
   "source": [
    "### Save to file"
   ]
  },
  {
   "cell_type": "code",
   "execution_count": 6,
   "metadata": {
    "ExecuteTime": {
     "end_time": "2017-04-02T06:24:24.359782Z",
     "start_time": "2017-04-02T16:24:24.273428+10:00"
    },
    "collapsed": true
   },
   "outputs": [],
   "source": [
    "with open('../../data/countries.csv', 'w') as f:\n",
    "    for element in elements:\n",
    "        f.write('\"%s\"\\n' % '\",\"'.join(element.attrib.values()))"
   ]
  },
  {
   "cell_type": "markdown",
   "metadata": {},
   "source": [
    "### Data inspection"
   ]
  },
  {
   "cell_type": "code",
   "execution_count": 7,
   "metadata": {
    "ExecuteTime": {
     "end_time": "2017-04-02T06:24:24.523910Z",
     "start_time": "2017-04-02T16:24:24.362310+10:00"
    },
    "collapsed": false
   },
   "outputs": [
    {
     "name": "stdout",
     "output_type": "stream",
     "text": [
      "('Message', 'Success')\n",
      "('Date', '0001-01-01T00:00:00')\n",
      "('Source', 'Data.CountryList')\n"
     ]
    }
   ],
   "source": [
    "for item in root.items():\n",
    "    print (item)"
   ]
  },
  {
   "cell_type": "code",
   "execution_count": 8,
   "metadata": {
    "ExecuteTime": {
     "end_time": "2017-04-02T06:24:24.650647Z",
     "start_time": "2017-04-02T16:24:24.525690+10:00"
    },
    "collapsed": false
   },
   "outputs": [
    {
     "name": "stdout",
     "output_type": "stream",
     "text": [
      "{'Message': 'Success', 'Date': '0001-01-01T00:00:00', 'Source': 'Data.CountryList'}\n",
      "{}\n",
      "{'Name': 'Afghanistan', 'Code': 'AF'}\n",
      "{'Name': 'Albania', 'Code': 'AL'}\n",
      "{'Name': 'Algeria', 'Code': 'DZ'}\n",
      "{'Name': 'American Samoa', 'Code': 'AS'}\n",
      "{'Name': 'Andorra', 'Code': 'AD'}\n",
      "{'Name': 'Angola', 'Code': 'AO'}\n",
      "{'Name': 'Anguilla', 'Code': 'AI'}\n",
      "{'Name': 'Antigua', 'Code': 'AG'}\n",
      "{'Name': 'Argentina', 'Code': 'AR'}\n",
      "{'Name': 'Armenia', 'Code': 'AM'}\n",
      "{'Name': 'Aruba', 'Code': 'AW'}\n",
      "{'Name': 'Australia', 'Code': 'AU'}\n",
      "{'Name': 'Austria', 'Code': 'AT'}\n",
      "{'Name': 'Azerbaijan', 'Code': 'AZ'}\n",
      "{'Name': 'Bahamas', 'Code': 'BS'}\n",
      "{'Name': 'Bahrain', 'Code': 'BH'}\n",
      "{'Name': 'Bangladesh', 'Code': 'BD'}\n",
      "{'Name': 'Barbados', 'Code': 'BB'}\n",
      "{'Name': 'Barbuda', 'Code': 'BX'}\n",
      "{'Name': 'Belarus', 'Code': 'BY'}\n",
      "{'Name': 'Belgium', 'Code': 'BE'}\n",
      "{'Name': 'Belize', 'Code': 'BZ'}\n",
      "{'Name': 'Benin', 'Code': 'BJ'}\n",
      "{'Name': 'Bermuda', 'Code': 'BM'}\n",
      "{'Name': 'Bhutan', 'Code': 'BT'}\n",
      "{'Name': 'Bolivia', 'Code': 'BO'}\n",
      "{'Name': 'Bosnia', 'Code': 'BA'}\n",
      "{'Name': 'Botswana', 'Code': 'BW'}\n",
      "{'Name': 'Bouvet Island', 'Code': 'BV'}\n",
      "{'Name': 'Brazil', 'Code': 'BR'}\n",
      "{'Name': 'British Indian Ocean Territory', 'Code': 'IO'}\n",
      "{'Name': 'Brunei Darussalam', 'Code': 'BN'}\n",
      "{'Name': 'Bulgaria', 'Code': 'BG'}\n",
      "{'Name': 'Burkinia Faso', 'Code': 'BF'}\n",
      "{'Name': 'Burundi', 'Code': 'BI'}\n",
      "{'Name': 'Cambodia', 'Code': 'KH'}\n",
      "{'Name': 'Cameroon', 'Code': 'CM'}\n",
      "{'Name': 'Canada', 'Code': 'CA'}\n",
      "{'Name': 'Cape Verde', 'Code': 'CV'}\n",
      "{'Name': 'Cayman Islands', 'Code': 'KY'}\n",
      "{'Name': 'Central African Republic', 'Code': 'CF'}\n",
      "{'Name': 'Chad', 'Code': 'TD'}\n",
      "{'Name': 'Chile', 'Code': 'CL'}\n",
      "{'Name': 'China', 'Code': 'CN'}\n",
      "{'Name': 'Christmas Island', 'Code': 'CX'}\n",
      "{'Name': 'Cocos Keeling Islands', 'Code': 'CC'}\n",
      "{'Name': 'Colombia', 'Code': 'CO'}\n",
      "{'Name': 'Comores', 'Code': 'KM'}\n",
      "{'Name': 'Congo', 'Code': 'CG'}\n",
      "{'Name': 'Cook Islands', 'Code': 'CK'}\n",
      "{'Name': 'Costa Rica', 'Code': 'CR'}\n",
      "{'Name': \"Cote Di'voire\", 'Code': 'CI'}\n",
      "{'Name': 'Croatia', 'Code': 'HR'}\n",
      "{'Name': 'Cuba', 'Code': 'CU'}\n",
      "{'Name': 'Cyprus', 'Code': 'CY'}\n",
      "{'Name': 'Czech Republic', 'Code': 'CZ'}\n",
      "{'Name': 'Denmark', 'Code': 'DK'}\n",
      "{'Name': 'Djibouti', 'Code': 'DJ'}\n",
      "{'Name': 'Dominica', 'Code': 'DM'}\n",
      "{'Name': 'Dominican Republic', 'Code': 'DO'}\n",
      "{'Name': 'East Timor', 'Code': 'TP'}\n",
      "{'Name': 'Ecuador', 'Code': 'EC'}\n",
      "{'Name': 'Egypt', 'Code': 'EG'}\n",
      "{'Name': 'El Salvador', 'Code': 'SV'}\n",
      "{'Name': 'Equatorial Guinea', 'Code': 'EQ'}\n",
      "{'Name': 'Eritrea', 'Code': 'ER'}\n",
      "{'Name': 'Estonia', 'Code': 'EE'}\n",
      "{'Name': 'Ethiopia', 'Code': 'ET'}\n",
      "{'Name': 'Falkland Islands', 'Code': 'FK'}\n",
      "{'Name': 'Faroe Islands', 'Code': 'FO'}\n",
      "{'Name': 'Fiji', 'Code': 'FJ'}\n",
      "{'Name': 'Finland', 'Code': 'FI'}\n",
      "{'Name': 'France', 'Code': 'FR'}\n",
      "{'Name': 'French Antilles', 'Code': 'FA'}\n",
      "{'Name': 'French Guyana', 'Code': 'GF'}\n",
      "{'Name': 'French Polynesia', 'Code': 'PF'}\n",
      "{'Name': 'French Southern Territories', 'Code': 'TF'}\n",
      "{'Name': 'Gabon', 'Code': 'GA'}\n",
      "{'Name': 'Gambia', 'Code': 'GM'}\n",
      "{'Name': 'Georgia', 'Code': 'GE'}\n",
      "{'Name': 'Germany', 'Code': 'DE'}\n",
      "{'Name': 'Ghana', 'Code': 'GH'}\n",
      "{'Name': 'Gibraltar', 'Code': 'GI'}\n",
      "{'Name': 'Greece', 'Code': 'GR'}\n",
      "{'Name': 'Greenland', 'Code': 'GL'}\n",
      "{'Name': 'Grenada', 'Code': 'GD'}\n",
      "{'Name': 'Grenadines', 'Code': 'GR'}\n",
      "{'Name': 'Guadeloupe', 'Code': 'GP'}\n",
      "{'Name': 'Guam', 'Code': 'GU'}\n",
      "{'Name': 'Guatemala', 'Code': 'GT'}\n",
      "{'Name': 'Guernsey', 'Code': 'GS'}\n",
      "{'Name': 'Guinea', 'Code': 'GN'}\n",
      "{'Name': 'Guinea Bissau', 'Code': 'GW'}\n",
      "{'Name': 'Guyana', 'Code': 'GY'}\n",
      "{'Name': 'Haiti', 'Code': 'HT'}\n",
      "{'Name': 'Heard Island and McDonald Islands', 'Code': 'HM'}\n",
      "{'Name': 'Herzegovina', 'Code': 'HZ'}\n",
      "{'Name': 'Honduras', 'Code': 'HN'}\n",
      "{'Name': 'Hong Kong', 'Code': 'HK'}\n",
      "{'Name': 'Hungary', 'Code': 'HU'}\n",
      "{'Name': 'Iceland', 'Code': 'IS'}\n",
      "{'Name': 'India', 'Code': 'IN'}\n",
      "{'Name': 'Indonesia', 'Code': 'ID'}\n",
      "{'Name': 'Iran', 'Code': 'IR'}\n",
      "{'Name': 'Iraq', 'Code': 'IQ'}\n",
      "{'Name': 'Ireland', 'Code': 'IE'}\n",
      "{'Name': 'Isle of Man', 'Code': 'IM'}\n",
      "{'Name': 'Israel', 'Code': 'IL'}\n",
      "{'Name': 'Italy', 'Code': 'IT'}\n",
      "{'Name': 'Ivory Coast', 'Code': 'IV'}\n",
      "{'Name': 'Jamaica', 'Code': 'JM'}\n",
      "{'Name': 'Jan Mayen', 'Code': 'JN'}\n",
      "{'Name': 'Japan', 'Code': 'JP'}\n",
      "{'Name': 'Jersey', 'Code': 'JE'}\n",
      "{'Name': 'Jordan', 'Code': 'JO'}\n",
      "{'Name': 'Kazakhstan', 'Code': 'KZ'}\n",
      "{'Name': 'Kenya', 'Code': 'KE'}\n",
      "{'Name': 'Kiribati', 'Code': 'KI'}\n",
      "{'Name': 'Kuwait', 'Code': 'KW'}\n",
      "{'Name': 'Kyrgyzstan', 'Code': 'KG'}\n",
      "{'Name': 'Laos', 'Code': 'LA'}\n",
      "{'Name': 'Latvia', 'Code': 'LV'}\n",
      "{'Name': 'Lebanon', 'Code': 'LB'}\n",
      "{'Name': 'Lesotho', 'Code': 'LS'}\n",
      "{'Name': 'Liberia', 'Code': 'LR'}\n",
      "{'Name': 'Libya', 'Code': 'LY'}\n",
      "{'Name': 'Liechtenstein', 'Code': 'LI'}\n",
      "{'Name': 'Lithuania', 'Code': 'LT'}\n",
      "{'Name': 'Luxembourg', 'Code': 'LU'}\n",
      "{'Name': 'Macau', 'Code': 'MO'}\n",
      "{'Name': 'Macedonia', 'Code': 'MK'}\n",
      "{'Name': 'Madagascar', 'Code': 'MG'}\n",
      "{'Name': 'Malawi', 'Code': 'MW'}\n",
      "{'Name': 'Malaysia', 'Code': 'MY'}\n",
      "{'Name': 'Maldives', 'Code': 'MV'}\n",
      "{'Name': 'Mali', 'Code': 'ML'}\n",
      "{'Name': 'Malta', 'Code': 'MT'}\n",
      "{'Name': 'Martinique', 'Code': 'MQ'}\n",
      "{'Name': 'Mauritania', 'Code': 'MR'}\n",
      "{'Name': 'Mauritius', 'Code': 'MU'}\n",
      "{'Name': 'Mexico', 'Code': 'MX'}\n",
      "{'Name': 'Micronesia', 'Code': 'FM'}\n",
      "{'Name': 'Miquelon', 'Code': 'MD'}\n",
      "{'Name': 'Moldova', 'Code': 'MD'}\n",
      "{'Name': 'Monaco', 'Code': 'MC'}\n",
      "{'Name': 'Mongolia', 'Code': 'MN'}\n",
      "{'Name': 'Montserrat', 'Code': 'MS'}\n",
      "{'Name': 'Morocco', 'Code': 'MA'}\n",
      "{'Name': 'Mozambique', 'Code': 'MZ'}\n",
      "{'Name': 'Myanmar', 'Code': 'MM'}\n",
      "{'Name': 'Namibia', 'Code': 'NA'}\n",
      "{'Name': 'Nauru', 'Code': 'NR'}\n",
      "{'Name': 'Nepal', 'Code': 'NP'}\n",
      "{'Name': 'Netherlands', 'Code': 'NL'}\n",
      "{'Name': 'Netherlands Antilles', 'Code': 'AN'}\n",
      "{'Name': 'Nevis', 'Code': 'NV'}\n",
      "{'Name': 'New Caledonia', 'Code': 'NC'}\n",
      "{'Name': 'New Zealand', 'Code': 'NZ'}\n",
      "{'Name': 'Nicaragua', 'Code': 'NI'}\n",
      "{'Name': 'Niger', 'Code': 'NE'}\n",
      "{'Name': 'Nigeria', 'Code': 'NG'}\n",
      "{'Name': 'Niue', 'Code': 'NU'}\n",
      "{'Name': 'Norfolk Island', 'Code': 'NF'}\n",
      "{'Name': 'North Korea', 'Code': 'KP'}\n",
      "{'Name': 'North Mariana Islands', 'Code': 'MP'}\n",
      "{'Name': 'Norway', 'Code': 'NO'}\n",
      "{'Name': 'Oman', 'Code': 'OM'}\n",
      "{'Name': 'Pakistan', 'Code': 'PK'}\n",
      "{'Name': 'Palau', 'Code': 'PW'}\n",
      "{'Name': 'Panama', 'Code': 'PA'}\n",
      "{'Name': 'Papua New Guinea', 'Code': 'PG'}\n",
      "{'Name': 'Paraguay', 'Code': 'PY'}\n",
      "{'Name': 'Peru', 'Code': 'PE'}\n",
      "{'Name': 'Philippines', 'Code': 'PH'}\n",
      "{'Name': 'Pitcairn Island', 'Code': 'PN'}\n",
      "{'Name': 'Poland', 'Code': 'PL'}\n",
      "{'Name': 'Portugal', 'Code': 'PT'}\n",
      "{'Name': 'Principe', 'Code': 'PC'}\n",
      "{'Name': 'Puerto Rico', 'Code': 'PR'}\n",
      "{'Name': 'Qatar', 'Code': 'QA'}\n",
      "{'Name': 'Reunion', 'Code': 'RE'}\n",
      "{'Name': 'Romania', 'Code': 'RO'}\n",
      "{'Name': 'Russia', 'Code': 'RU'}\n",
      "{'Name': 'Rwanda', 'Code': 'RW'}\n",
      "{'Name': 'Saint Lucia', 'Code': 'LC'}\n",
      "{'Name': 'Samoa', 'Code': 'WS'}\n",
      "{'Name': 'San Marino', 'Code': 'SM'}\n",
      "{'Name': 'Sao Tome', 'Code': 'ST'}\n",
      "{'Name': 'Saudi Arabia', 'Code': 'SA'}\n",
      "{'Name': 'Senegal', 'Code': 'SN'}\n",
      "{'Name': 'Serbia and Montenegro', 'Code': 'CS'}\n",
      "{'Name': 'Seychelles', 'Code': 'SC'}\n",
      "{'Name': 'Sierra Leone', 'Code': 'SL'}\n",
      "{'Name': 'Singapore', 'Code': 'SG'}\n",
      "{'Name': 'Slovakia', 'Code': 'SK'}\n",
      "{'Name': 'Slovenia', 'Code': 'SI'}\n",
      "{'Name': 'Solomon Islands', 'Code': 'SB'}\n",
      "{'Name': 'Somalia', 'Code': 'SO'}\n",
      "{'Name': 'South Africa', 'Code': 'ZA'}\n",
      "{'Name': 'South Korea', 'Code': 'KR'}\n",
      "{'Name': 'Spain', 'Code': 'ES'}\n",
      "{'Name': 'Sri Lanka', 'Code': 'LK'}\n",
      "{'Name': 'St Helena', 'Code': 'SH'}\n",
      "{'Name': 'St Kitts', 'Code': 'KN'}\n",
      "{'Name': 'St Pierre', 'Code': 'PM'}\n",
      "{'Name': 'St Vincent', 'Code': 'VC'}\n",
      "{'Name': 'Sudan', 'Code': 'SD'}\n",
      "{'Name': 'Surinaam', 'Code': 'SR'}\n",
      "{'Name': 'Svalbard', 'Code': 'SJ'}\n",
      "{'Name': 'Swaziland', 'Code': 'SZ'}\n",
      "{'Name': 'Sweden', 'Code': 'SE'}\n",
      "{'Name': 'Switzerland', 'Code': 'CH'}\n",
      "{'Name': 'Syria', 'Code': 'SY'}\n",
      "{'Name': 'Tadzhikstan', 'Code': 'TJ'}\n",
      "{'Name': 'Taiwan', 'Code': 'TW'}\n",
      "{'Name': 'Tanzania', 'Code': 'TZ'}\n",
      "{'Name': 'Thailand', 'Code': 'TH'}\n",
      "{'Name': 'Togo', 'Code': 'TG'}\n",
      "{'Name': 'Tokelau', 'Code': 'TK'}\n",
      "{'Name': 'Tonga', 'Code': 'TO'}\n",
      "{'Name': 'Trinidad and Tobago', 'Code': 'TT'}\n",
      "{'Name': 'Tunisia', 'Code': 'TN'}\n",
      "{'Name': 'Turkey', 'Code': 'TR'}\n",
      "{'Name': 'Turkmenistan', 'Code': 'TM'}\n",
      "{'Name': 'Turks and Caicos Islands', 'Code': 'TC'}\n",
      "{'Name': 'Tuvalu', 'Code': 'TV'}\n",
      "{'Name': 'Uganda', 'Code': 'UG'}\n",
      "{'Name': 'Ukraine', 'Code': 'UA'}\n",
      "{'Name': 'Unidades Fomento', 'Code': 'UF'}\n",
      "{'Name': 'United Arab Emirates', 'Code': 'AE'}\n",
      "{'Name': 'United Kingdom', 'Code': 'UK'}\n",
      "{'Name': 'United States', 'Code': 'US'}\n",
      "{'Name': 'Uruguay', 'Code': 'UY'}\n",
      "{'Name': 'Uzbekistan', 'Code': 'UZ'}\n",
      "{'Name': 'Vanuatu', 'Code': 'VU'}\n",
      "{'Name': 'Vatican City', 'Code': 'VA'}\n",
      "{'Name': 'Venezuela', 'Code': 'VE'}\n",
      "{'Name': 'Vietnam', 'Code': 'VN'}\n",
      "{'Name': 'Virgin Islands', 'Code': 'VG'}\n",
      "{'Name': 'Wallis and Futuna Islands', 'Code': 'WF'}\n",
      "{'Name': 'Western Sahara', 'Code': 'EH'}\n",
      "{'Name': 'Yemen', 'Code': 'YE'}\n",
      "{'Name': 'Yugoslavia', 'Code': 'YU'}\n",
      "{'Name': 'Zambia', 'Code': 'ZM'}\n",
      "{'Name': 'Zimbabwe', 'Code': 'ZW'}\n"
     ]
    }
   ],
   "source": [
    "for element in root.iter():\n",
    "    print(element.attrib)"
   ]
  },
  {
   "cell_type": "markdown",
   "metadata": {},
   "source": [
    "## Helper function"
   ]
  },
  {
   "cell_type": "code",
   "execution_count": 9,
   "metadata": {
    "ExecuteTime": {
     "end_time": "2017-04-02T06:24:24.703880Z",
     "start_time": "2017-04-02T16:24:24.652992+10:00"
    },
    "collapsed": true
   },
   "outputs": [],
   "source": [
    "def CountryList(session, token):\n",
    "    call = 'CountryList'\n",
    "    kwargs = {'Token': token,}\n",
    "    pattern = \".//{%s}CountryBase\"\n",
    "\n",
    "    url = '/'.join((ws, call))\n",
    "    response = session.get(url, params=kwargs, stream=True)\n",
    "\n",
    "    if response.status_code == 200:\n",
    "        root = etree.parse(response.raw).getroot()\n",
    "        \n",
    "    return sorted((element.get('Code'), element.get('Name')) for element in elements)"
   ]
  },
  {
   "cell_type": "markdown",
   "metadata": {},
   "source": [
    "### Usage"
   ]
  },
  {
   "cell_type": "code",
   "execution_count": 10,
   "metadata": {
    "ExecuteTime": {
     "end_time": "2017-04-02T06:24:25.935164Z",
     "start_time": "2017-04-02T16:24:24.706467+10:00"
    },
    "collapsed": false
   },
   "outputs": [
    {
     "data": {
      "text/plain": [
       "[('AD', 'Andorra'),\n",
       " ('AE', 'United Arab Emirates'),\n",
       " ('AF', 'Afghanistan'),\n",
       " ('AG', 'Antigua'),\n",
       " ('AI', 'Anguilla'),\n",
       " ('AL', 'Albania'),\n",
       " ('AM', 'Armenia'),\n",
       " ('AN', 'Netherlands Antilles'),\n",
       " ('AO', 'Angola'),\n",
       " ('AR', 'Argentina')]"
      ]
     },
     "execution_count": 10,
     "metadata": {},
     "output_type": "execute_result"
    }
   ],
   "source": [
    "session = r.session()\n",
    "countries = CountryList(session, token)\n",
    "session.close()\n",
    "\n",
    "countries[:10]"
   ]
  },
  {
   "cell_type": "markdown",
   "metadata": {},
   "source": [
    "## Client function"
   ]
  },
  {
   "cell_type": "code",
   "execution_count": 11,
   "metadata": {
    "ExecuteTime": {
     "end_time": "2017-04-02T06:24:27.124026Z",
     "start_time": "2017-04-02T16:24:25.939907+10:00"
    },
    "collapsed": false
   },
   "outputs": [
    {
     "data": {
      "text/html": [
       "<div>\n",
       "<table border=\"1\" class=\"dataframe\">\n",
       "  <thead>\n",
       "    <tr style=\"text-align: right;\">\n",
       "      <th></th>\n",
       "      <th>Name</th>\n",
       "      <th>Code</th>\n",
       "    </tr>\n",
       "  </thead>\n",
       "  <tbody>\n",
       "    <tr>\n",
       "      <th>0</th>\n",
       "      <td>Afghanistan</td>\n",
       "      <td>AF</td>\n",
       "    </tr>\n",
       "    <tr>\n",
       "      <th>1</th>\n",
       "      <td>Albania</td>\n",
       "      <td>AL</td>\n",
       "    </tr>\n",
       "    <tr>\n",
       "      <th>2</th>\n",
       "      <td>Algeria</td>\n",
       "      <td>DZ</td>\n",
       "    </tr>\n",
       "    <tr>\n",
       "      <th>3</th>\n",
       "      <td>American Samoa</td>\n",
       "      <td>AS</td>\n",
       "    </tr>\n",
       "    <tr>\n",
       "      <th>4</th>\n",
       "      <td>Andorra</td>\n",
       "      <td>AD</td>\n",
       "    </tr>\n",
       "  </tbody>\n",
       "</table>\n",
       "</div>"
      ],
      "text/plain": [
       "             Name Code\n",
       "0     Afghanistan   AF\n",
       "1         Albania   AL\n",
       "2         Algeria   DZ\n",
       "3  American Samoa   AS\n",
       "4         Andorra   AD"
      ]
     },
     "execution_count": 11,
     "metadata": {},
     "output_type": "execute_result"
    }
   ],
   "source": [
    "# pandas dataframe is returned\n",
    "df = eoddata.country_list()\n",
    "\n",
    "df.head()"
   ]
  }
 ],
 "metadata": {
  "anaconda-cloud": {},
  "kernelspec": {
   "display_name": "Python [default]",
   "language": "python",
   "name": "python3"
  },
  "language_info": {
   "codemirror_mode": {
    "name": "ipython",
    "version": 3
   },
   "file_extension": ".py",
   "mimetype": "text/x-python",
   "name": "python",
   "nbconvert_exporter": "python",
   "pygments_lexer": "ipython3",
   "version": "3.5.3"
  },
  "toc": {
   "colors": {
    "hover_highlight": "#DAA520",
    "running_highlight": "#FF0000",
    "selected_highlight": "#FFD700"
   },
   "moveMenuLeft": true,
   "nav_menu": {
    "height": "264px",
    "width": "252px"
   },
   "navigate_menu": true,
   "number_sections": true,
   "sideBar": true,
   "threshold": 4,
   "toc_cell": true,
   "toc_section_display": "block",
   "toc_window_display": true,
   "widenNotebook": false
  }
 },
 "nbformat": 4,
 "nbformat_minor": 0
}
