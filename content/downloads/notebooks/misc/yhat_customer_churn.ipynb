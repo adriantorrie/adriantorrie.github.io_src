{
 "cells": [
  {
   "cell_type": "markdown",
   "metadata": {},
   "source": [
    "# Links\n",
    "* [Predicting customer churn (what this notebook is based on)](http://blog.yhat.com/posts/predicting-customer-churn-with-sklearn.html?utm_campaign=Submission&utm_medium=Community&utm_source=GrowthHackers.com)\n",
    "* [Confusion Matrix Code Example](http://notmatthancock.github.io/2015/10/28/confusion-matrix.html)\n",
    "* [Simple Guide To Confusion Matrix Terminology](http://www.dataschool.io/simple-guide-to-confusion-matrix-terminology/)\n",
    "* [Wikipedia - Confusion Matrix](https://en.wikipedia.org/wiki/Confusion_matrix)\n",
    "* [scikit-learn Documentation - Confusion Matrix](http://scikit-learn.org/stable/modules/model_evaluation.html#confusion-matrix)\n",
    "* [Learn scikit-learn](http://www.dataschool.io/machine-learning-with-scikit-learn/)"
   ]
  },
  {
   "cell_type": "code",
   "execution_count": 1,
   "metadata": {
    "collapsed": false
   },
   "outputs": [
    {
     "name": "stdout",
     "output_type": "stream",
     "text": [
      "Column names:\n",
      "['State', 'Account Length', 'Area Code', 'Phone', \"Int'l Plan\", 'VMail Plan', 'VMail Message', 'Day Mins', 'Day Calls', 'Day Charge', 'Eve Mins', 'Eve Calls', 'Eve Charge', 'Night Mins', 'Night Calls', 'Night Charge', 'Intl Mins', 'Intl Calls', 'Intl Charge', 'CustServ Calls', 'Churn?']\n",
      "\n",
      "Sample data:\n"
     ]
    },
    {
     "data": {
      "text/html": [
       "<div>\n",
       "<table border=\"1\" class=\"dataframe\">\n",
       "  <thead>\n",
       "    <tr style=\"text-align: right;\">\n",
       "      <th></th>\n",
       "      <th>State</th>\n",
       "      <th>Account Length</th>\n",
       "      <th>Area Code</th>\n",
       "      <th>Phone</th>\n",
       "      <th>Int'l Plan</th>\n",
       "      <th>VMail Plan</th>\n",
       "      <th>Night Charge</th>\n",
       "      <th>Intl Mins</th>\n",
       "      <th>Intl Calls</th>\n",
       "      <th>Intl Charge</th>\n",
       "      <th>CustServ Calls</th>\n",
       "      <th>Churn?</th>\n",
       "    </tr>\n",
       "  </thead>\n",
       "  <tbody>\n",
       "    <tr>\n",
       "      <th>0</th>\n",
       "      <td>KS</td>\n",
       "      <td>128</td>\n",
       "      <td>415</td>\n",
       "      <td>382-4657</td>\n",
       "      <td>no</td>\n",
       "      <td>yes</td>\n",
       "      <td>11.01</td>\n",
       "      <td>10.0</td>\n",
       "      <td>3</td>\n",
       "      <td>2.70</td>\n",
       "      <td>1</td>\n",
       "      <td>False.</td>\n",
       "    </tr>\n",
       "    <tr>\n",
       "      <th>1</th>\n",
       "      <td>OH</td>\n",
       "      <td>107</td>\n",
       "      <td>415</td>\n",
       "      <td>371-7191</td>\n",
       "      <td>no</td>\n",
       "      <td>yes</td>\n",
       "      <td>11.45</td>\n",
       "      <td>13.7</td>\n",
       "      <td>3</td>\n",
       "      <td>3.70</td>\n",
       "      <td>1</td>\n",
       "      <td>False.</td>\n",
       "    </tr>\n",
       "    <tr>\n",
       "      <th>2</th>\n",
       "      <td>NJ</td>\n",
       "      <td>137</td>\n",
       "      <td>415</td>\n",
       "      <td>358-1921</td>\n",
       "      <td>no</td>\n",
       "      <td>no</td>\n",
       "      <td>7.32</td>\n",
       "      <td>12.2</td>\n",
       "      <td>5</td>\n",
       "      <td>3.29</td>\n",
       "      <td>0</td>\n",
       "      <td>False.</td>\n",
       "    </tr>\n",
       "    <tr>\n",
       "      <th>3</th>\n",
       "      <td>OH</td>\n",
       "      <td>84</td>\n",
       "      <td>408</td>\n",
       "      <td>375-9999</td>\n",
       "      <td>yes</td>\n",
       "      <td>no</td>\n",
       "      <td>8.86</td>\n",
       "      <td>6.6</td>\n",
       "      <td>7</td>\n",
       "      <td>1.78</td>\n",
       "      <td>2</td>\n",
       "      <td>False.</td>\n",
       "    </tr>\n",
       "    <tr>\n",
       "      <th>4</th>\n",
       "      <td>OK</td>\n",
       "      <td>75</td>\n",
       "      <td>415</td>\n",
       "      <td>330-6626</td>\n",
       "      <td>yes</td>\n",
       "      <td>no</td>\n",
       "      <td>8.41</td>\n",
       "      <td>10.1</td>\n",
       "      <td>3</td>\n",
       "      <td>2.73</td>\n",
       "      <td>3</td>\n",
       "      <td>False.</td>\n",
       "    </tr>\n",
       "    <tr>\n",
       "      <th>5</th>\n",
       "      <td>AL</td>\n",
       "      <td>118</td>\n",
       "      <td>510</td>\n",
       "      <td>391-8027</td>\n",
       "      <td>yes</td>\n",
       "      <td>no</td>\n",
       "      <td>9.18</td>\n",
       "      <td>6.3</td>\n",
       "      <td>6</td>\n",
       "      <td>1.70</td>\n",
       "      <td>0</td>\n",
       "      <td>False.</td>\n",
       "    </tr>\n",
       "  </tbody>\n",
       "</table>\n",
       "</div>"
      ],
      "text/plain": [
       "  State  Account Length  Area Code     Phone Int'l Plan VMail Plan  \\\n",
       "0    KS             128        415  382-4657         no        yes   \n",
       "1    OH             107        415  371-7191         no        yes   \n",
       "2    NJ             137        415  358-1921         no         no   \n",
       "3    OH              84        408  375-9999        yes         no   \n",
       "4    OK              75        415  330-6626        yes         no   \n",
       "5    AL             118        510  391-8027        yes         no   \n",
       "\n",
       "   Night Charge  Intl Mins  Intl Calls  Intl Charge  CustServ Calls  Churn?  \n",
       "0         11.01       10.0           3         2.70               1  False.  \n",
       "1         11.45       13.7           3         3.70               1  False.  \n",
       "2          7.32       12.2           5         3.29               0  False.  \n",
       "3          8.86        6.6           7         1.78               2  False.  \n",
       "4          8.41       10.1           3         2.73               3  False.  \n",
       "5          9.18        6.3           6         1.70               0  False.  "
      ]
     },
     "execution_count": 1,
     "metadata": {},
     "output_type": "execute_result"
    }
   ],
   "source": [
    "from __future__ import division\n",
    "import pandas as pd\n",
    "import numpy as np\n",
    "\n",
    "churn_df = pd.read_csv('\\\\\\\\svrau085ssm01.oceania.corp.anz.com\\\\torriea$\\\\My Documents\\\\bokeh_data\\\\churn.csv')\n",
    "col_names = churn_df.columns.tolist()\n",
    "\n",
    "print \"Column names:\"\n",
    "print col_names\n",
    "\n",
    "to_show = col_names[:6] + col_names[-6:]\n",
    "\n",
    "print \"\\nSample data:\"\n",
    "churn_df[to_show].head(6)"
   ]
  },
  {
   "cell_type": "code",
   "execution_count": 2,
   "metadata": {
    "collapsed": true
   },
   "outputs": [],
   "source": [
    "# isolate target data\n",
    "# by converting True. -> 1, and False. -> 0\n",
    "churn_result = churn_df['Churn?']\n",
    "y = np.where(churn_result == 'True.',1,0)"
   ]
  },
  {
   "cell_type": "code",
   "execution_count": 3,
   "metadata": {
    "collapsed": false
   },
   "outputs": [],
   "source": [
    "# we don't need these columns\n",
    "to_drop = ['State', 'Area Code', 'Phone', 'Churn?']\n",
    "churn_feat_space = churn_df.drop(to_drop, axis = 1)"
   ]
  },
  {
   "cell_type": "code",
   "execution_count": 4,
   "metadata": {
    "collapsed": true
   },
   "outputs": [],
   "source": [
    "# 'yes'/'no' has to be converted to boolean values\n",
    "# numpy converts these from boolean to 1. and 0. later\n",
    "yes_no_cols = [\"Int'l Plan\", \"VMail Plan\"]\n",
    "churn_feat_space[yes_no_cols] = churn_feat_space[yes_no_cols] == 'yes'"
   ]
  },
  {
   "cell_type": "code",
   "execution_count": 5,
   "metadata": {
    "collapsed": true
   },
   "outputs": [],
   "source": [
    "# pull out features for future use\n",
    "features = churn_feat_space.columns\n",
    "X = churn_feat_space.as_matrix().astype(np.float)"
   ]
  },
  {
   "cell_type": "code",
   "execution_count": 6,
   "metadata": {
    "collapsed": false
   },
   "outputs": [
    {
     "name": "stdout",
     "output_type": "stream",
     "text": [
      "Feature space holds 3333 observations and 17 features\n",
      "Unique target labels: [0 1]\n"
     ]
    }
   ],
   "source": [
    "# this is important (why??)\n",
    "# Many predictors care about the relative size of different features even though those scales might be arbitrary. \n",
    "# For instance: the number of points a basketball team scores per game will naturally be a couple orders of magnitude \n",
    "# larger than their win percentage. But this doesn't mean that the latter is 100 times less significant. StandardScaler \n",
    "# fixes this by normalizing each feature to a range of around 1.0 to -1.0\n",
    "from sklearn.preprocessing import StandardScaler\n",
    "scaler = StandardScaler()\n",
    "X = scaler.fit_transform(X)\n",
    "\n",
    "print \"Feature space holds %d observations and %d features\" % X.shape\n",
    "print \"Unique target labels:\", np.unique(y)"
   ]
  },
  {
   "cell_type": "code",
   "execution_count": 7,
   "metadata": {
    "collapsed": false
   },
   "outputs": [],
   "source": [
    "# cross validation\n",
    "from sklearn.cross_validation import KFold\n",
    "\n",
    "def run_cv(X, y, clf_class, **kwargs):\n",
    "    # construct a kfolds object\n",
    "    kf = KFold(len(y), n_folds = 5, shuffle = True)\n",
    "    y_pred = y.copy()\n",
    "    \n",
    "    # iterate through folds\n",
    "    for train_index, test_index in kf:\n",
    "        X_train, X_test = X[train_index], X[test_index]\n",
    "        y_train = y[train_index]\n",
    "        \n",
    "        # initialise a classifier with key word arguments\n",
    "        clf = clf_class(**kwargs)\n",
    "        #clf.fit(X_train, y_train)\n",
    "        y_pred[test_index] = clf.fit(X_train, y_train).predict(X_test)\n",
    "        \n",
    "    return y_pred"
   ]
  },
  {
   "cell_type": "code",
   "execution_count": 8,
   "metadata": {
    "collapsed": false
   },
   "outputs": [
    {
     "name": "stdout",
     "output_type": "stream",
     "text": [
      "Support vector machines:\n",
      "0.918\n",
      "\n",
      "Random forest:\n",
      "0.944\n",
      "\n",
      "K-nearest-neighbours:\n",
      "0.893\n"
     ]
    }
   ],
   "source": [
    "# compare three fairly unique algorithms support vector machines, random forest, and k-nearest-neighbors. \n",
    "# Nothing fancy here, just passing each to cross validation and determining how often the classifier \n",
    "# predicted the correct class\n",
    "from sklearn.svm import SVC\n",
    "from sklearn.ensemble import RandomForestClassifier as RF\n",
    "from sklearn.neighbors import KNeighborsClassifier as KNN\n",
    "from sklearn.metrics import accuracy_score\n",
    "\n",
    "print \"Support vector machines:\"\n",
    "print \"%.3f\" % accuracy_score(y, run_cv(X, y, SVC))\n",
    "print \"\\nRandom forest:\"\n",
    "print \"%.3f\" % accuracy_score(y, run_cv(X, y, RF))\n",
    "print \"\\nK-nearest-neighbours:\"\n",
    "print \"%.3f\" % accuracy_score(y, run_cv(X, y, KNN))"
   ]
  },
  {
   "cell_type": "code",
   "execution_count": 9,
   "metadata": {
    "collapsed": true
   },
   "outputs": [],
   "source": [
    "# confusion matrix\n",
    "# The x-axis indicates the true class of each observation (if a customer churned or not) \n",
    "# while the y-axis corresponds to the class predicted by the model (if my classifier said a customer would churned or not).\n",
    "from sklearn.metrics import confusion_matrix\n",
    "\n",
    "y = np.array(y)\n",
    "class_names = np.unique(y)\n",
    "\n",
    "confusion_matrices = [\n",
    "    (\"Support Vector Machine\", confusion_matrix(y, run_cv(X, y, SVC))),\n",
    "    (\"Random Forest\", confusion_matrix(y, run_cv(X, y, RF))),\n",
    "    (\"K-Nearest-Neighbour\", confusion_matrix(y, run_cv(X, y, KNN))),\n",
    "]"
   ]
  },
  {
   "cell_type": "code",
   "execution_count": 10,
   "metadata": {
    "collapsed": false
   },
   "outputs": [],
   "source": [
    "import matplotlib as mpl\n",
    "mpl.use('Agg')\n",
    "import matplotlib.pyplot as plt\n",
    "%matplotlib inline\n",
    "\n",
    "\n",
    "def plot_confusion_matrix(cm, title='Confusion matrix', cmap=plt.cm.Blues):\n",
    "    tick_marks = np.arange(len(class_names))\n",
    "    outcome_annotation = dict(fc='w',boxstyle='round, pad=1')\n",
    "    plt.imshow(cm, interpolation='nearest', cmap=cmap)\n",
    "    plt.title(title)\n",
    "    plt.colorbar(fraction=0.045)\n",
    "    plt.xticks(tick_marks, class_names)\n",
    "    plt.yticks(tick_marks, class_names)\n",
    "    plt.tight_layout()\n",
    "    plt.ylabel('Actual label')\n",
    "    plt.xlabel('Predicted label')\n",
    "    \n",
    "    # outcomes\n",
    "    tn = cm[0, 0]; fp = cm[0, 1]; fn = cm[1, 0]; tp = cm[1, 1]; nobs = cm.sum()\n",
    "    \n",
    "    # true negative annotation\n",
    "    plt.text(0, 0, 'TN: %d' % tn, va='center', ha='center', bbox=outcome_annotation)\n",
    "    \n",
    "    # false negative annotation\n",
    "    plt.text(0, 1, 'FN: %d' % fn, va='center', ha='center', bbox=outcome_annotation)\n",
    "    \n",
    "    # false positive annotation\n",
    "    plt.text(1, 0, 'FP: %d' % fp, va='center', ha='center', bbox=outcome_annotation)\n",
    "    \n",
    "    # true positive annotation\n",
    "    plt.text(1, 1, 'TP: %d' % tp, va='center', ha='center', bbox=outcome_annotation)\n",
    "\n",
    "\n",
    "    \n",
    "def draw_confusion_matrices(confusion_matrices, class_names):\n",
    "    fig = plt.figure(num = 1, figsize=(14, 8))\n",
    "\n",
    "    for index, cm in enumerate(confusion_matrices):\n",
    "        fig.add_subplot(130 + index + 1)\n",
    "        plot_confusion_matrix(cm[1], cm[0])\n",
    "        \n",
    "    plt.show()"
   ]
  },
  {
   "cell_type": "code",
   "execution_count": 11,
   "metadata": {
    "collapsed": false,
    "scrolled": false
   },
   "outputs": [
    {
     "data": {
      "image/png": "[encoded data removed]",
      "text/plain": [
       "<matplotlib.figure.Figure at 0x1e405828>"
      ]
     },
     "metadata": {},
     "output_type": "display_data"
    },
    {
     "name": "stdout",
     "output_type": "stream",
     "text": [
      "\n",
      "Support Vector Machine\n",
      "======================\n",
      "\n",
      "accuracy\t\t\t91.75%\t\tOverall, how often is the classifier correct?\n",
      "\n",
      "error_rate\t\t\t8.25%\t\tOverall, how often is it wrong?\n",
      "\n",
      "recall\t\t\t\t50.72%\t\tWhen it's actually yes, how often does it predict yes?\n",
      "\n",
      "false_positive_rate\t\t1.30%\t\tWhen it's actually no, how often does it predict yes? (Type I error)\n",
      "\n",
      "false_negative_rate\t\t49.28%\t\tWhen it's actually yes, how often does it predict no? (Type II error)\n",
      "\n",
      "specificity\t\t\t98.70%\t\tWhen it's actually no, how often does it predict no?\n",
      "\n",
      "precision\t\t\t86.88%\t\tWhen it predicts yes, how often is it correct?\n",
      "\n",
      "prevelance\t\t\t14.49%\t\tHow often does the yes condition actually occur in our sample?\n",
      "\n",
      "positive_likelihood_ratio\t39.07\t\t\n",
      "\n",
      "negative_likelihood_ratio\t0.50\t\t\n",
      "\n",
      "diagnostic_odds_ratio\t\t78.26\t\tHigher diagnostic odds ratios are indicative of better test performance\n",
      "\n",
      "\n",
      "\n",
      "Random Forest\n",
      "=============\n",
      "\n",
      "accuracy\t\t\t94.33%\t\tOverall, how often is the classifier correct?\n",
      "\n",
      "error_rate\t\t\t5.67%\t\tOverall, how often is it wrong?\n",
      "\n",
      "recall\t\t\t\t66.25%\t\tWhen it's actually yes, how often does it predict yes?\n",
      "\n",
      "false_positive_rate\t\t0.91%\t\tWhen it's actually no, how often does it predict yes? (Type I error)\n",
      "\n",
      "false_negative_rate\t\t33.75%\t\tWhen it's actually yes, how often does it predict no? (Type II error)\n",
      "\n",
      "specificity\t\t\t99.09%\t\tWhen it's actually no, how often does it predict no?\n",
      "\n",
      "precision\t\t\t92.49%\t\tWhen it predicts yes, how often is it correct?\n",
      "\n",
      "prevelance\t\t\t14.49%\t\tHow often does the yes condition actually occur in our sample?\n",
      "\n",
      "positive_likelihood_ratio\t72.62\t\t\n",
      "\n",
      "negative_likelihood_ratio\t0.34\t\t\n",
      "\n",
      "diagnostic_odds_ratio\t\t213.23\t\tHigher diagnostic odds ratios are indicative of better test performance\n",
      "\n",
      "\n",
      "\n",
      "K-Nearest-Neighbour\n",
      "===================\n",
      "\n",
      "accuracy\t\t\t89.62%\t\tOverall, how often is the classifier correct?\n",
      "\n",
      "error_rate\t\t\t10.38%\t\tOverall, how often is it wrong?\n",
      "\n",
      "recall\t\t\t\t38.51%\t\tWhen it's actually yes, how often does it predict yes?\n",
      "\n",
      "false_positive_rate\t\t1.72%\t\tWhen it's actually no, how often does it predict yes? (Type I error)\n",
      "\n",
      "false_negative_rate\t\t61.49%\t\tWhen it's actually yes, how often does it predict no? (Type II error)\n",
      "\n",
      "specificity\t\t\t98.28%\t\tWhen it's actually no, how often does it predict no?\n",
      "\n",
      "precision\t\t\t79.15%\t\tWhen it predicts yes, how often is it correct?\n",
      "\n",
      "prevelance\t\t\t14.49%\t\tHow often does the yes condition actually occur in our sample?\n",
      "\n",
      "positive_likelihood_ratio\t22.40\t\t\n",
      "\n",
      "negative_likelihood_ratio\t0.63\t\t\n",
      "\n",
      "diagnostic_odds_ratio\t\t35.80\t\tHigher diagnostic odds ratios are indicative of better test performance\n",
      "\n",
      "\n"
     ]
    }
   ],
   "source": [
    "draw_confusion_matrices(confusion_matrices, class_names)\n",
    "\n",
    "for index, item in enumerate(confusion_matrices):\n",
    "    name = item[0]\n",
    "    cm = item[1]\n",
    "    \n",
    "    # outcomes\n",
    "    tn = cm[0, 0]; fp = cm[0, 1]; fn = cm[1, 0]; tp = cm[1, 1]; nobs = cm.sum()\n",
    "\n",
    "    # performance metrics\n",
    "    actual_positive = tp + fn + 0.\n",
    "    actual_negative = fp + tn + 0.\n",
    "    predicted_positive = tp + fp + 0.\n",
    "    accuracy = (tp + tn + 0.) / nobs\n",
    "    error_rate = 1. - accuracy\n",
    "    recall = tp / actual_positive\n",
    "    false_positive_rate = fp / actual_negative\n",
    "    false_negative_rate = fn / actual_positive\n",
    "    specificity = 1. - false_positive_rate\n",
    "    precision = tp / predicted_positive\n",
    "    prevelance = actual_positive / nobs\n",
    "    positive_likelihood_ratio = recall / false_positive_rate\n",
    "    negative_likelihood_ratio = false_negative_rate / specificity\n",
    "    diagnostic_odds_ratio = positive_likelihood_ratio / negative_likelihood_ratio\n",
    "\n",
    "    print \"\\n\" + name\n",
    "    print \"=\" * len(name)\n",
    "    print \"\\naccuracy\\t\\t\\t%.2f%%\" % (accuracy * 100) + \"\\t\\tOverall, how often is the classifier correct?\"\n",
    "    print \"\\nerror_rate\\t\\t\\t%.2f%%\" % (error_rate * 100) + \"\\t\\tOverall, how often is it wrong?\"\n",
    "    print \"\\nrecall\\t\\t\\t\\t%.2f%%\" % (recall * 100) + \"\\t\\tWhen it's actually yes, how often does it predict yes?\"\n",
    "    print \"\\nfalse_positive_rate\\t\\t%.2f%%\" % (false_positive_rate * 100) + \"\\t\\tWhen it's actually no, how often does it predict yes? (Type I error)\"\n",
    "    print \"\\nfalse_negative_rate\\t\\t%.2f%%\" % (false_negative_rate * 100) + \"\\t\\tWhen it's actually yes, how often does it predict no? (Type II error)\"\n",
    "    print \"\\nspecificity\\t\\t\\t%.2f%%\" % (specificity * 100) + \"\\t\\tWhen it's actually no, how often does it predict no?\"\n",
    "    print \"\\nprecision\\t\\t\\t%.2f%%\" % (precision * 100) + \"\\t\\tWhen it predicts yes, how often is it correct?\"\n",
    "    print \"\\nprevelance\\t\\t\\t%.2f%%\" % (prevelance * 100) + \"\\t\\tHow often does the yes condition actually occur in our sample?\"\n",
    "    print \"\\npositive_likelihood_ratio\\t%.2f\" % positive_likelihood_ratio + \"\\t\\t\"\n",
    "    print \"\\nnegative_likelihood_ratio\\t%.2f\" % negative_likelihood_ratio + \"\\t\\t\"\n",
    "    print \"\\ndiagnostic_odds_ratio\\t\\t%.2f\" % (diagnostic_odds_ratio) + \"\\t\\tHigher diagnostic odds ratios are indicative of better test performance\"\n",
    "    print \"\\n\"\n"
   ]
  }
 ],
 "metadata": {
  "anaconda-cloud": {},
  "celltoolbar": "Raw Cell Format",
  "kernelspec": {
   "display_name": "Python [conda env:ds_ml_portfolio]",
   "language": "python",
   "name": "conda-env-ds_ml_portfolio-py"
  },
  "language_info": {
   "codemirror_mode": {
    "name": "ipython",
    "version": 3
   },
   "file_extension": ".py",
   "mimetype": "text/x-python",
   "name": "python",
   "nbconvert_exporter": "python",
   "pygments_lexer": "ipython3",
   "version": "3.5.2"
  }
 },
 "nbformat": 4,
 "nbformat_minor": 0
}
