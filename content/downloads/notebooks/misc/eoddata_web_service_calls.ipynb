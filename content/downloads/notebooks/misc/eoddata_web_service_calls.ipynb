{
 "cells": [
  {
   "cell_type": "markdown",
   "metadata": {
    "collapsed": true
   },
   "source": [
    "* http://stackoverflow.com/a/17378332/893766\n",
    "* http://stackoverflow.com/a/1912483/893766\n",
    "* hidden password entry: https://docs.python.org/2/library/getpass.html"
   ]
  },
  {
   "cell_type": "code",
   "execution_count": 3,
   "metadata": {
    "collapsed": false
   },
   "outputs": [],
   "source": [
    "from getpass import getpass\n",
    "import requests as r\n",
    "import xml.etree.cElementTree as etree\n",
    "\n",
    "ns='http://ws.eoddata.com/Data'"
   ]
  },
  {
   "cell_type": "code",
   "execution_count": 5,
   "metadata": {
    "collapsed": false
   },
   "outputs": [
    {
     "name": "stdout",
     "output_type": "stream",
     "text": [
      "········\n"
     ]
    }
   ],
   "source": [
    "username = getpass()"
   ]
  },
  {
   "cell_type": "code",
   "execution_count": 6,
   "metadata": {
    "collapsed": false
   },
   "outputs": [
    {
     "name": "stdout",
     "output_type": "stream",
     "text": [
      "········\n"
     ]
    }
   ],
   "source": [
    "password = getpass()"
   ]
  },
  {
   "cell_type": "code",
   "execution_count": 7,
   "metadata": {
    "collapsed": false
   },
   "outputs": [],
   "source": [
    "ws = 'http://ws.eoddata.com/data.asmx'\n",
    "call = 'Login'\n",
    "url = '/'.join((ws, call))\n",
    "\n",
    "payload = {'Username': username, 'Password': password}"
   ]
  },
  {
   "cell_type": "code",
   "execution_count": 8,
   "metadata": {
    "collapsed": false
   },
   "outputs": [],
   "source": [
    "s = r.Session()\n",
    "resp = s.get(url, params=payload, stream=True)"
   ]
  },
  {
   "cell_type": "code",
   "execution_count": null,
   "metadata": {
    "collapsed": false
   },
   "outputs": [],
   "source": [
    "# print (resp.content)"
   ]
  },
  {
   "cell_type": "code",
   "execution_count": 9,
   "metadata": {
    "collapsed": false
   },
   "outputs": [],
   "source": [
    "root = etree.parse(resp.raw).getroot()"
   ]
  },
  {
   "cell_type": "code",
   "execution_count": 10,
   "metadata": {
    "collapsed": false
   },
   "outputs": [
    {
     "data": {
      "text/plain": [
       "['__class__',\n",
       " '__copy__',\n",
       " '__deepcopy__',\n",
       " '__delattr__',\n",
       " '__delitem__',\n",
       " '__dir__',\n",
       " '__doc__',\n",
       " '__eq__',\n",
       " '__format__',\n",
       " '__ge__',\n",
       " '__getattribute__',\n",
       " '__getitem__',\n",
       " '__getstate__',\n",
       " '__gt__',\n",
       " '__hash__',\n",
       " '__init__',\n",
       " '__le__',\n",
       " '__len__',\n",
       " '__lt__',\n",
       " '__ne__',\n",
       " '__new__',\n",
       " '__reduce__',\n",
       " '__reduce_ex__',\n",
       " '__repr__',\n",
       " '__setattr__',\n",
       " '__setitem__',\n",
       " '__setstate__',\n",
       " '__sizeof__',\n",
       " '__str__',\n",
       " '__subclasshook__',\n",
       " 'append',\n",
       " 'clear',\n",
       " 'extend',\n",
       " 'find',\n",
       " 'findall',\n",
       " 'findtext',\n",
       " 'get',\n",
       " 'getchildren',\n",
       " 'getiterator',\n",
       " 'insert',\n",
       " 'items',\n",
       " 'iter',\n",
       " 'iterfind',\n",
       " 'itertext',\n",
       " 'keys',\n",
       " 'makeelement',\n",
       " 'remove',\n",
       " 'set']"
      ]
     },
     "execution_count": 10,
     "metadata": {},
     "output_type": "execute_result"
    }
   ],
   "source": [
    "dir(root)"
   ]
  },
  {
   "cell_type": "code",
   "execution_count": 21,
   "metadata": {
    "collapsed": true
   },
   "outputs": [],
   "source": [
    "for child in root.getchildren():\n",
    "    print (child.tag, child.attribute)"
   ]
  },
  {
   "cell_type": "code",
   "execution_count": 12,
   "metadata": {
    "collapsed": false
   },
   "outputs": [
    {
     "name": "stdout",
     "output_type": "stream",
     "text": [
      "('Header', 'false')\n",
      "('Message', 'Login Successful')\n",
      "('Token', '0185585P0X1S')\n",
      "('DataFormat', 'MSAI')\n",
      "('Suffix', 'true')\n"
     ]
    }
   ],
   "source": [
    "for item in root.items():\n",
    "    print (item)"
   ]
  },
  {
   "cell_type": "code",
   "execution_count": 13,
   "metadata": {
    "collapsed": false
   },
   "outputs": [
    {
     "name": "stdout",
     "output_type": "stream",
     "text": [
      "Header\n",
      "Message\n",
      "Token\n",
      "DataFormat\n",
      "Suffix\n"
     ]
    }
   ],
   "source": [
    "for key in root.keys():\n",
    "    print (key)"
   ]
  },
  {
   "cell_type": "code",
   "execution_count": 14,
   "metadata": {
    "collapsed": false
   },
   "outputs": [
    {
     "name": "stdout",
     "output_type": "stream",
     "text": [
      "0185585P0X1S\n"
     ]
    }
   ],
   "source": [
    "print (root.get('Token'))"
   ]
  },
  {
   "cell_type": "code",
   "execution_count": 15,
   "metadata": {
    "collapsed": false
   },
   "outputs": [
    {
     "name": "stdout",
     "output_type": "stream",
     "text": [
      "Login Successful\n",
      "0185585P0X1S\n",
      "MSAI\n",
      "false\n",
      "true\n"
     ]
    }
   ],
   "source": [
    "print (root.get('Message'))\n",
    "print (root.get('Token'))\n",
    "print (root.get('DataFormat'))\n",
    "print (root.get('Header'))\n",
    "print (root.get('Suffix'))"
   ]
  },
  {
   "cell_type": "code",
   "execution_count": 16,
   "metadata": {
    "collapsed": false
   },
   "outputs": [
    {
     "data": {
      "text/plain": [
       "200"
      ]
     },
     "execution_count": 16,
     "metadata": {},
     "output_type": "execute_result"
    }
   ],
   "source": [
    "resp.status_code"
   ]
  },
  {
   "cell_type": "code",
   "execution_count": 17,
   "metadata": {
    "collapsed": true
   },
   "outputs": [],
   "source": [
    "token = root.get('Token')"
   ]
  },
  {
   "cell_type": "code",
   "execution_count": 22,
   "metadata": {
    "collapsed": true
   },
   "outputs": [],
   "source": [
    "call = 'ExchangeList'\n",
    "kwargs = {'Token': token,}\n",
    "\n",
    "url = '/'.join((ws, call))\n",
    "resp = s.get(url, params=kwargs, stream=True)"
   ]
  },
  {
   "cell_type": "code",
   "execution_count": 24,
   "metadata": {
    "collapsed": false
   },
   "outputs": [],
   "source": [
    "root = etree.parse(resp.raw).getroot()"
   ]
  },
  {
   "cell_type": "code",
   "execution_count": 25,
   "metadata": {
    "collapsed": false
   },
   "outputs": [
    {
     "name": "stdout",
     "output_type": "stream",
     "text": [
      "('Source', 'Data.ExchangeList')\n",
      "('Message', 'Success')\n",
      "('Date', '2017-01-19T00:02:47.7793906-06:00')\n"
     ]
    }
   ],
   "source": [
    "for item in root.items():\n",
    "    print (item)"
   ]
  },
  {
   "cell_type": "code",
   "execution_count": null,
   "metadata": {
    "collapsed": true
   },
   "outputs": [],
   "source": [
    "# for exchange in root2.findall(\".//{%s}EXCHANGE\" %(ns)):\n",
    "#     print(\n",
    "#         exchange.get('Currency'),\n",
    "#         exchange.get('IntradayStartDate'))\n",
    "#      print(\", \".join([column.text for column in exchange.attrib.items()]))\n",
    "#     print(exchange.attrib.items())\n",
    "#     print (exchange.attrib.values())\n",
    "#     print('\"%s\"' % '\",\"'.join(exchange.attrib.values()))\n",
    "    \n",
    "\n",
    "with open('/home/adrian/test_output.csv', 'w') as f:\n",
    "    for exchange in root.findall(\".//{%s}EXCHANGE\" %(ns)):\n",
    "        f.write('\"%s\"\\n' % '\",\"'.join(exchange.attrib.values()))"
   ]
  },
  {
   "cell_type": "code",
   "execution_count": 26,
   "metadata": {
    "collapsed": false
   },
   "outputs": [
    {
     "data": {
      "text/plain": [
       "('AMEX',\n",
       " 'AMS',\n",
       " 'ASX',\n",
       " 'BRU',\n",
       " 'BSE',\n",
       " 'CBOT',\n",
       " 'CFE',\n",
       " 'CME',\n",
       " 'COMEX',\n",
       " 'EUREX',\n",
       " 'FOREX',\n",
       " 'HKEX',\n",
       " 'INDEX',\n",
       " 'KCBT',\n",
       " 'LIFFE',\n",
       " 'LIS',\n",
       " 'LSE',\n",
       " 'MGEX',\n",
       " 'MLSE',\n",
       " 'NASDAQ',\n",
       " 'NSE',\n",
       " 'NYBOT',\n",
       " 'NYMEX',\n",
       " 'NYSE',\n",
       " 'NZX',\n",
       " 'OTCBB',\n",
       " 'PAR',\n",
       " 'SGX',\n",
       " 'TSX',\n",
       " 'TSXV',\n",
       " 'USMF',\n",
       " 'WCE')"
      ]
     },
     "execution_count": 26,
     "metadata": {},
     "output_type": "execute_result"
    }
   ],
   "source": [
    "exchanges = root.findall(\".//{%s}EXCHANGE\" %(ns))\n",
    "tuple(sorted(exchange.get('Code') for exchange in exchanges))"
   ]
  },
  {
   "cell_type": "code",
   "execution_count": 27,
   "metadata": {
    "collapsed": false
   },
   "outputs": [
    {
     "name": "stdout",
     "output_type": "stream",
     "text": [
      "<Element '{http://ws.eoddata.com/Data}RESPONSE' at 0x7f7261fa0f98>\n"
     ]
    }
   ],
   "source": [
    "print (root)"
   ]
  },
  {
   "cell_type": "code",
   "execution_count": 28,
   "metadata": {
    "collapsed": false
   },
   "outputs": [
    {
     "name": "stdout",
     "output_type": "stream",
     "text": [
      "{http://ws.eoddata.com/Data}RESPONSE|{'Source': 'Data.ExchangeList', 'Message': 'Success', 'Date': '2017-01-19T00:02:47.7793906-06:00'}\n",
      "{http://ws.eoddata.com/Data}EXCHANGES|{}\n",
      "{http://ws.eoddata.com/Data}EXCHANGE|{'Country': 'US', 'IntradayStartDate': '2008-01-01T00:00:00', 'Declines': '897', 'LastTradeDateTime': '2017-01-18T16:59:59', 'TimeZone': 'Eastern Standard Time', 'Currency': 'USD', 'Suffix': '', 'HasIntradayProduct': 'true', 'Code': 'AMEX', 'IsIntraday': 'true', 'Name': 'American Stock Exchange', 'Advances': '3011'}\n",
      "{http://ws.eoddata.com/Data}EXCHANGE|{'Country': 'AU', 'IntradayStartDate': '0001-01-01T00:00:00', 'Declines': '494', 'LastTradeDateTime': '2017-01-19T00:00:00', 'TimeZone': 'AUS Eastern Standard Time', 'Currency': 'AUD', 'Suffix': 'AX', 'HasIntradayProduct': 'false', 'Code': 'ASX', 'IsIntraday': 'false', 'Name': 'Australian Securities Exchange', 'Advances': '14665'}\n",
      "{http://ws.eoddata.com/Data}EXCHANGE|{'Country': 'IN', 'IntradayStartDate': '0001-01-01T00:00:00', 'Declines': '0', 'LastTradeDateTime': '2017-01-18T00:00:00', 'TimeZone': 'India Standard Time', 'Currency': 'INR', 'Suffix': 'I', 'HasIntradayProduct': 'false', 'Code': 'BSE', 'IsIntraday': 'false', 'Name': 'Bombay Stock Exchange', 'Advances': '4457'}\n",
      "{http://ws.eoddata.com/Data}EXCHANGE|{'Country': 'US', 'IntradayStartDate': '2009-01-01T00:00:00', 'Declines': '234', 'LastTradeDateTime': '2017-01-18T00:00:00', 'TimeZone': 'Central Standard Time', 'Currency': 'USD', 'Suffix': '', 'HasIntradayProduct': 'true', 'Code': 'CBOT', 'IsIntraday': 'true', 'Name': 'Chicago Board of Trade', 'Advances': '101636'}\n",
      "{http://ws.eoddata.com/Data}EXCHANGE|{'Country': 'US', 'IntradayStartDate': '2009-01-01T00:00:00', 'Declines': '0', 'LastTradeDateTime': '2017-01-18T00:00:00', 'TimeZone': 'Central Standard Time', 'Currency': 'USD', 'Suffix': '', 'HasIntradayProduct': 'true', 'Code': 'CFE', 'IsIntraday': 'true', 'Name': 'Chicago Futures Exchange', 'Advances': '192'}\n",
      "{http://ws.eoddata.com/Data}EXCHANGE|{'Country': 'US', 'IntradayStartDate': '2009-01-01T00:00:00', 'Declines': '569', 'LastTradeDateTime': '2017-01-18T00:00:00', 'TimeZone': 'Eastern Standard Time', 'Currency': 'USD', 'Suffix': '', 'HasIntradayProduct': 'true', 'Code': 'CME', 'IsIntraday': 'true', 'Name': 'Chicago Merchantile Exchange', 'Advances': '210889'}\n",
      "{http://ws.eoddata.com/Data}EXCHANGE|{'Country': 'CH', 'IntradayStartDate': '0001-01-01T00:00:00', 'Declines': '0', 'LastTradeDateTime': '2017-01-18T00:00:00', 'TimeZone': 'GMT Standard Time', 'Currency': 'EUR', 'Suffix': '', 'HasIntradayProduct': 'false', 'Code': 'EUREX', 'IsIntraday': 'false', 'Name': 'EUREX Futures Exchange', 'Advances': '1772'}\n",
      "{http://ws.eoddata.com/Data}EXCHANGE|{'Country': 'NL', 'IntradayStartDate': '0001-01-01T00:00:00', 'Declines': '0', 'LastTradeDateTime': '2017-01-18T00:00:00', 'TimeZone': 'GMT Standard Time', 'Currency': 'EUR', 'Suffix': 'AS', 'HasIntradayProduct': 'false', 'Code': 'AMS', 'IsIntraday': 'false', 'Name': 'Euronext Amsterdam', 'Advances': '150'}\n",
      "{http://ws.eoddata.com/Data}EXCHANGE|{'Country': 'BE', 'IntradayStartDate': '0001-01-01T00:00:00', 'Declines': '0', 'LastTradeDateTime': '2017-01-18T00:00:00', 'TimeZone': 'GMT Standard Time', 'Currency': 'EUR', 'Suffix': 'BR', 'HasIntradayProduct': 'false', 'Code': 'BRU', 'IsIntraday': 'false', 'Name': 'Euronext Brussels', 'Advances': '198'}\n",
      "{http://ws.eoddata.com/Data}EXCHANGE|{'Country': 'PT', 'IntradayStartDate': '0001-01-01T00:00:00', 'Declines': '0', 'LastTradeDateTime': '2017-01-18T00:00:00', 'TimeZone': 'GMT Standard Time', 'Currency': 'EUR', 'Suffix': 'LS', 'HasIntradayProduct': 'false', 'Code': 'LIS', 'IsIntraday': 'false', 'Name': 'Euronext Lisbon', 'Advances': '52'}\n",
      "{http://ws.eoddata.com/Data}EXCHANGE|{'Country': 'FR', 'IntradayStartDate': '0001-01-01T00:00:00', 'Declines': '0', 'LastTradeDateTime': '2017-01-18T00:00:00', 'TimeZone': 'GMT Standard Time', 'Currency': 'EUR', 'Suffix': 'PA', 'HasIntradayProduct': 'false', 'Code': 'PAR', 'IsIntraday': 'false', 'Name': 'Euronext Paris', 'Advances': '1793'}\n",
      "{http://ws.eoddata.com/Data}EXCHANGE|{'Country': 'US', 'IntradayStartDate': '0001-01-01T00:00:00', 'Declines': '57', 'LastTradeDateTime': '2017-01-19T00:58:05', 'TimeZone': 'Eastern Standard Time', 'Currency': '', 'Suffix': '', 'HasIntradayProduct': 'false', 'Code': 'FOREX', 'IsIntraday': 'false', 'Name': 'Foreign Exchange', 'Advances': '1128'}\n",
      "{http://ws.eoddata.com/Data}EXCHANGE|{'Country': 'US', 'IntradayStartDate': '0001-01-01T00:00:00', 'Declines': '4', 'LastTradeDateTime': '2017-01-19T10:00:00', 'TimeZone': 'Eastern Standard Time', 'Currency': '', 'Suffix': 'IDX', 'HasIntradayProduct': 'false', 'Code': 'INDEX', 'IsIntraday': 'false', 'Name': 'Global Indices', 'Advances': '2898'}\n",
      "{http://ws.eoddata.com/Data}EXCHANGE|{'Country': 'HK', 'IntradayStartDate': '0001-01-01T00:00:00', 'Declines': '700', 'LastTradeDateTime': '2017-01-18T00:00:00', 'TimeZone': 'Singapore Standard Time', 'Currency': 'HKD', 'Suffix': 'HK', 'HasIntradayProduct': 'false', 'Code': 'HKEX', 'IsIntraday': 'false', 'Name': 'Hong Kong Stock Exchange', 'Advances': '2362'}\n",
      "{http://ws.eoddata.com/Data}EXCHANGE|{'Country': 'US', 'IntradayStartDate': '2009-01-01T00:00:00', 'Declines': '21', 'LastTradeDateTime': '2017-01-18T00:00:00', 'TimeZone': 'Central Standard Time', 'Currency': 'USD', 'Suffix': '', 'HasIntradayProduct': 'true', 'Code': 'KCBT', 'IsIntraday': 'true', 'Name': 'Kansas City Board of Trade', 'Advances': '2095'}\n",
      "{http://ws.eoddata.com/Data}EXCHANGE|{'Country': 'US', 'IntradayStartDate': '0001-01-01T00:00:00', 'Declines': '0', 'LastTradeDateTime': '2017-01-18T00:00:00', 'TimeZone': 'GMT Standard Time', 'Currency': 'USD', 'Suffix': '', 'HasIntradayProduct': 'false', 'Code': 'LIFFE', 'IsIntraday': 'false', 'Name': 'LIFFE Futures and Options', 'Advances': '2055'}\n",
      "{http://ws.eoddata.com/Data}EXCHANGE|{'Country': 'UK', 'IntradayStartDate': '0001-01-01T00:00:00', 'Declines': '2622', 'LastTradeDateTime': '2017-01-18T00:00:00', 'TimeZone': 'GMT Standard Time', 'Currency': 'GBP', 'Suffix': 'L', 'HasIntradayProduct': 'false', 'Code': 'LSE', 'IsIntraday': 'false', 'Name': 'London Stock Exchange', 'Advances': '37903'}\n",
      "{http://ws.eoddata.com/Data}EXCHANGE|{'Country': 'IT', 'IntradayStartDate': '0001-01-01T00:00:00', 'Declines': '112', 'LastTradeDateTime': '2017-01-18T00:00:00', 'TimeZone': 'Central European Standard Time', 'Currency': 'EUR', 'Suffix': 'MI', 'HasIntradayProduct': 'false', 'Code': 'MLSE', 'IsIntraday': 'false', 'Name': 'Milan Stock Exchange', 'Advances': '179'}\n",
      "{http://ws.eoddata.com/Data}EXCHANGE|{'Country': 'US', 'IntradayStartDate': '2009-01-01T00:00:00', 'Declines': '96', 'LastTradeDateTime': '2017-01-18T00:00:00', 'TimeZone': 'Central Standard Time', 'Currency': 'USD', 'Suffix': '', 'HasIntradayProduct': 'true', 'Code': 'MGEX', 'IsIntraday': 'true', 'Name': 'Minneapolis Grain Exchange', 'Advances': '14993'}\n",
      "{http://ws.eoddata.com/Data}EXCHANGE|{'Country': 'US', 'IntradayStartDate': '0001-01-01T00:00:00', 'Declines': '16958', 'LastTradeDateTime': '2017-01-17T00:00:00', 'TimeZone': 'Eastern Standard Time', 'Currency': 'USD', 'Suffix': '', 'HasIntradayProduct': 'false', 'Code': 'USMF', 'IsIntraday': 'false', 'Name': 'Mutual Funds', 'Advances': '33996'}\n",
      "{http://ws.eoddata.com/Data}EXCHANGE|{'Country': 'US', 'IntradayStartDate': '2008-01-01T00:00:00', 'Declines': '1837', 'LastTradeDateTime': '2017-01-18T16:59:58', 'TimeZone': 'Eastern Standard Time', 'Currency': 'USD', 'Suffix': '', 'HasIntradayProduct': 'true', 'Code': 'NASDAQ', 'IsIntraday': 'true', 'Name': 'NASDAQ Stock Exchange', 'Advances': '5528'}\n",
      "{http://ws.eoddata.com/Data}EXCHANGE|{'Country': 'IN', 'IntradayStartDate': '0001-01-01T00:00:00', 'Declines': '0', 'LastTradeDateTime': '2017-01-19T09:09:00', 'TimeZone': 'GMT Standard Time', 'Currency': 'INR', 'Suffix': 'I', 'HasIntradayProduct': 'false', 'Code': 'NSE', 'IsIntraday': 'false', 'Name': 'National Stock Exchange of India', 'Advances': '1374'}\n",
      "{http://ws.eoddata.com/Data}EXCHANGE|{'Country': 'US', 'IntradayStartDate': '2009-01-01T00:00:00', 'Declines': '207', 'LastTradeDateTime': '2017-01-18T00:00:00', 'TimeZone': 'Eastern Standard Time', 'Currency': 'USD', 'Suffix': '', 'HasIntradayProduct': 'true', 'Code': 'NYBOT', 'IsIntraday': 'true', 'Name': 'New York Board of Trade', 'Advances': '88073'}\n",
      "{http://ws.eoddata.com/Data}EXCHANGE|{'Country': 'US', 'IntradayStartDate': '2009-01-01T00:00:00', 'Declines': '150', 'LastTradeDateTime': '2017-01-18T00:00:00', 'TimeZone': 'Eastern Standard Time', 'Currency': 'USD', 'Suffix': '', 'HasIntradayProduct': 'true', 'Code': 'COMEX', 'IsIntraday': 'true', 'Name': 'New York Commodity Exchange', 'Advances': '33392'}\n",
      "{http://ws.eoddata.com/Data}EXCHANGE|{'Country': 'US', 'IntradayStartDate': '2009-01-01T00:00:00', 'Declines': '237', 'LastTradeDateTime': '2017-01-18T00:00:00', 'TimeZone': 'Eastern Standard Time', 'Currency': 'USD', 'Suffix': '', 'HasIntradayProduct': 'true', 'Code': 'NYMEX', 'IsIntraday': 'true', 'Name': 'New York Merchantile Exchange', 'Advances': '16533'}\n",
      "{http://ws.eoddata.com/Data}EXCHANGE|{'Country': 'US', 'IntradayStartDate': '2008-01-01T00:00:00', 'Declines': '1880', 'LastTradeDateTime': '2017-01-18T16:59:58', 'TimeZone': 'Eastern Standard Time', 'Currency': 'USD', 'Suffix': '', 'HasIntradayProduct': 'true', 'Code': 'NYSE', 'IsIntraday': 'true', 'Name': 'New York Stock Exchange', 'Advances': '4691'}\n",
      "{http://ws.eoddata.com/Data}EXCHANGE|{'Country': 'NZ', 'IntradayStartDate': '0001-01-01T00:00:00', 'Declines': '44', 'LastTradeDateTime': '2017-01-19T00:00:00', 'TimeZone': 'New Zealand Standard Time', 'Currency': 'NZD', 'Suffix': 'NZ', 'HasIntradayProduct': 'false', 'Code': 'NZX', 'IsIntraday': 'false', 'Name': 'New Zealand Exchange', 'Advances': '1059'}\n",
      "{http://ws.eoddata.com/Data}EXCHANGE|{'Country': 'US', 'IntradayStartDate': '2009-01-01T00:00:00', 'Declines': '2112', 'LastTradeDateTime': '2017-01-18T16:59:59', 'TimeZone': 'Eastern Standard Time', 'Currency': 'USD', 'Suffix': 'OB', 'HasIntradayProduct': 'true', 'Code': 'OTCBB', 'IsIntraday': 'true', 'Name': 'OTC Bulletin Board', 'Advances': '34377'}\n",
      "{http://ws.eoddata.com/Data}EXCHANGE|{'Country': 'SG', 'IntradayStartDate': '0001-01-01T00:00:00', 'Declines': '499', 'LastTradeDateTime': '2017-01-18T00:00:00', 'TimeZone': 'Singapore Standard Time', 'Currency': 'SGD', 'Suffix': 'SI', 'HasIntradayProduct': 'false', 'Code': 'SGX', 'IsIntraday': 'false', 'Name': 'Singapore Stock Exchange', 'Advances': '12353'}\n",
      "{http://ws.eoddata.com/Data}EXCHANGE|{'Country': 'CA', 'IntradayStartDate': '0001-01-01T00:00:00', 'Declines': '882', 'LastTradeDateTime': '2017-01-18T00:00:00', 'TimeZone': 'Mountain Standard Time', 'Currency': 'CAD', 'Suffix': 'TO', 'HasIntradayProduct': 'false', 'Code': 'TSX', 'IsIntraday': 'false', 'Name': 'Toronto Stock Exchange', 'Advances': '5418'}\n",
      "{http://ws.eoddata.com/Data}EXCHANGE|{'Country': 'CA', 'IntradayStartDate': '0001-01-01T00:00:00', 'Declines': '562', 'LastTradeDateTime': '2017-01-18T00:00:00', 'TimeZone': 'Mountain Standard Time', 'Currency': 'CAD', 'Suffix': 'V', 'HasIntradayProduct': 'false', 'Code': 'TSXV', 'IsIntraday': 'false', 'Name': 'Toronto Venture Exchange', 'Advances': '4920'}\n",
      "{http://ws.eoddata.com/Data}EXCHANGE|{'Country': 'US', 'IntradayStartDate': '2009-01-01T00:00:00', 'Declines': '1', 'LastTradeDateTime': '2017-01-18T00:00:00', 'TimeZone': 'Central Standard Time', 'Currency': 'USD', 'Suffix': '', 'HasIntradayProduct': 'true', 'Code': 'WCE', 'IsIntraday': 'true', 'Name': 'Winnipeg Commodity Exchange', 'Advances': '9999'}\n"
     ]
    }
   ],
   "source": [
    "for element in root.iter():\n",
    "    print(\"%s|%s\" % (element.tag, element.attrib))"
   ]
  },
  {
   "cell_type": "code",
   "execution_count": 29,
   "metadata": {
    "collapsed": false
   },
   "outputs": [
    {
     "name": "stdout",
     "output_type": "stream",
     "text": [
      "b'<ns0:RESPONSE xmlns:ns0=\"http://ws.eoddata.com/Data\" Date=\"2017-01-19T00:02:47.7793906-06:00\" Message=\"Success\" Source=\"Data.ExchangeList\">\\n  <ns0:EXCHANGES>\\n    <ns0:EXCHANGE Advances=\"3011\" Code=\"AMEX\" Country=\"US\" Currency=\"USD\" Declines=\"897\" HasIntradayProduct=\"true\" IntradayStartDate=\"2008-01-01T00:00:00\" IsIntraday=\"true\" LastTradeDateTime=\"2017-01-18T16:59:59\" Name=\"American Stock Exchange\" Suffix=\"\" TimeZone=\"Eastern Standard Time\" />\\n    <ns0:EXCHANGE Advances=\"14665\" Code=\"ASX\" Country=\"AU\" Currency=\"AUD\" Declines=\"494\" HasIntradayProduct=\"false\" IntradayStartDate=\"0001-01-01T00:00:00\" IsIntraday=\"false\" LastTradeDateTime=\"2017-01-19T00:00:00\" Name=\"Australian Securities Exchange\" Suffix=\"AX\" TimeZone=\"AUS Eastern Standard Time\" />\\n    <ns0:EXCHANGE Advances=\"4457\" Code=\"BSE\" Country=\"IN\" Currency=\"INR\" Declines=\"0\" HasIntradayProduct=\"false\" IntradayStartDate=\"0001-01-01T00:00:00\" IsIntraday=\"false\" LastTradeDateTime=\"2017-01-18T00:00:00\" Name=\"Bombay Stock Exchange\" Suffix=\"I\" TimeZone=\"India Standard Time\" />\\n    <ns0:EXCHANGE Advances=\"101636\" Code=\"CBOT\" Country=\"US\" Currency=\"USD\" Declines=\"234\" HasIntradayProduct=\"true\" IntradayStartDate=\"2009-01-01T00:00:00\" IsIntraday=\"true\" LastTradeDateTime=\"2017-01-18T00:00:00\" Name=\"Chicago Board of Trade\" Suffix=\"\" TimeZone=\"Central Standard Time\" />\\n    <ns0:EXCHANGE Advances=\"192\" Code=\"CFE\" Country=\"US\" Currency=\"USD\" Declines=\"0\" HasIntradayProduct=\"true\" IntradayStartDate=\"2009-01-01T00:00:00\" IsIntraday=\"true\" LastTradeDateTime=\"2017-01-18T00:00:00\" Name=\"Chicago Futures Exchange\" Suffix=\"\" TimeZone=\"Central Standard Time\" />\\n    <ns0:EXCHANGE Advances=\"210889\" Code=\"CME\" Country=\"US\" Currency=\"USD\" Declines=\"569\" HasIntradayProduct=\"true\" IntradayStartDate=\"2009-01-01T00:00:00\" IsIntraday=\"true\" LastTradeDateTime=\"2017-01-18T00:00:00\" Name=\"Chicago Merchantile Exchange\" Suffix=\"\" TimeZone=\"Eastern Standard Time\" />\\n    <ns0:EXCHANGE Advances=\"1772\" Code=\"EUREX\" Country=\"CH\" Currency=\"EUR\" Declines=\"0\" HasIntradayProduct=\"false\" IntradayStartDate=\"0001-01-01T00:00:00\" IsIntraday=\"false\" LastTradeDateTime=\"2017-01-18T00:00:00\" Name=\"EUREX Futures Exchange\" Suffix=\"\" TimeZone=\"GMT Standard Time\" />\\n    <ns0:EXCHANGE Advances=\"150\" Code=\"AMS\" Country=\"NL\" Currency=\"EUR\" Declines=\"0\" HasIntradayProduct=\"false\" IntradayStartDate=\"0001-01-01T00:00:00\" IsIntraday=\"false\" LastTradeDateTime=\"2017-01-18T00:00:00\" Name=\"Euronext Amsterdam\" Suffix=\"AS\" TimeZone=\"GMT Standard Time\" />\\n    <ns0:EXCHANGE Advances=\"198\" Code=\"BRU\" Country=\"BE\" Currency=\"EUR\" Declines=\"0\" HasIntradayProduct=\"false\" IntradayStartDate=\"0001-01-01T00:00:00\" IsIntraday=\"false\" LastTradeDateTime=\"2017-01-18T00:00:00\" Name=\"Euronext Brussels\" Suffix=\"BR\" TimeZone=\"GMT Standard Time\" />\\n    <ns0:EXCHANGE Advances=\"52\" Code=\"LIS\" Country=\"PT\" Currency=\"EUR\" Declines=\"0\" HasIntradayProduct=\"false\" IntradayStartDate=\"0001-01-01T00:00:00\" IsIntraday=\"false\" LastTradeDateTime=\"2017-01-18T00:00:00\" Name=\"Euronext Lisbon\" Suffix=\"LS\" TimeZone=\"GMT Standard Time\" />\\n    <ns0:EXCHANGE Advances=\"1793\" Code=\"PAR\" Country=\"FR\" Currency=\"EUR\" Declines=\"0\" HasIntradayProduct=\"false\" IntradayStartDate=\"0001-01-01T00:00:00\" IsIntraday=\"false\" LastTradeDateTime=\"2017-01-18T00:00:00\" Name=\"Euronext Paris\" Suffix=\"PA\" TimeZone=\"GMT Standard Time\" />\\n    <ns0:EXCHANGE Advances=\"1128\" Code=\"FOREX\" Country=\"US\" Currency=\"\" Declines=\"57\" HasIntradayProduct=\"false\" IntradayStartDate=\"0001-01-01T00:00:00\" IsIntraday=\"false\" LastTradeDateTime=\"2017-01-19T00:58:05\" Name=\"Foreign Exchange\" Suffix=\"\" TimeZone=\"Eastern Standard Time\" />\\n    <ns0:EXCHANGE Advances=\"2898\" Code=\"INDEX\" Country=\"US\" Currency=\"\" Declines=\"4\" HasIntradayProduct=\"false\" IntradayStartDate=\"0001-01-01T00:00:00\" IsIntraday=\"false\" LastTradeDateTime=\"2017-01-19T10:00:00\" Name=\"Global Indices\" Suffix=\"IDX\" TimeZone=\"Eastern Standard Time\" />\\n    <ns0:EXCHANGE Advances=\"2362\" Code=\"HKEX\" Country=\"HK\" Currency=\"HKD\" Declines=\"700\" HasIntradayProduct=\"false\" IntradayStartDate=\"0001-01-01T00:00:00\" IsIntraday=\"false\" LastTradeDateTime=\"2017-01-18T00:00:00\" Name=\"Hong Kong Stock Exchange\" Suffix=\"HK\" TimeZone=\"Singapore Standard Time\" />\\n    <ns0:EXCHANGE Advances=\"2095\" Code=\"KCBT\" Country=\"US\" Currency=\"USD\" Declines=\"21\" HasIntradayProduct=\"true\" IntradayStartDate=\"2009-01-01T00:00:00\" IsIntraday=\"true\" LastTradeDateTime=\"2017-01-18T00:00:00\" Name=\"Kansas City Board of Trade\" Suffix=\"\" TimeZone=\"Central Standard Time\" />\\n    <ns0:EXCHANGE Advances=\"2055\" Code=\"LIFFE\" Country=\"US\" Currency=\"USD\" Declines=\"0\" HasIntradayProduct=\"false\" IntradayStartDate=\"0001-01-01T00:00:00\" IsIntraday=\"false\" LastTradeDateTime=\"2017-01-18T00:00:00\" Name=\"LIFFE Futures and Options\" Suffix=\"\" TimeZone=\"GMT Standard Time\" />\\n    <ns0:EXCHANGE Advances=\"37903\" Code=\"LSE\" Country=\"UK\" Currency=\"GBP\" Declines=\"2622\" HasIntradayProduct=\"false\" IntradayStartDate=\"0001-01-01T00:00:00\" IsIntraday=\"false\" LastTradeDateTime=\"2017-01-18T00:00:00\" Name=\"London Stock Exchange\" Suffix=\"L\" TimeZone=\"GMT Standard Time\" />\\n    <ns0:EXCHANGE Advances=\"179\" Code=\"MLSE\" Country=\"IT\" Currency=\"EUR\" Declines=\"112\" HasIntradayProduct=\"false\" IntradayStartDate=\"0001-01-01T00:00:00\" IsIntraday=\"false\" LastTradeDateTime=\"2017-01-18T00:00:00\" Name=\"Milan Stock Exchange\" Suffix=\"MI\" TimeZone=\"Central European Standard Time\" />\\n    <ns0:EXCHANGE Advances=\"14993\" Code=\"MGEX\" Country=\"US\" Currency=\"USD\" Declines=\"96\" HasIntradayProduct=\"true\" IntradayStartDate=\"2009-01-01T00:00:00\" IsIntraday=\"true\" LastTradeDateTime=\"2017-01-18T00:00:00\" Name=\"Minneapolis Grain Exchange\" Suffix=\"\" TimeZone=\"Central Standard Time\" />\\n    <ns0:EXCHANGE Advances=\"33996\" Code=\"USMF\" Country=\"US\" Currency=\"USD\" Declines=\"16958\" HasIntradayProduct=\"false\" IntradayStartDate=\"0001-01-01T00:00:00\" IsIntraday=\"false\" LastTradeDateTime=\"2017-01-17T00:00:00\" Name=\"Mutual Funds\" Suffix=\"\" TimeZone=\"Eastern Standard Time\" />\\n    <ns0:EXCHANGE Advances=\"5528\" Code=\"NASDAQ\" Country=\"US\" Currency=\"USD\" Declines=\"1837\" HasIntradayProduct=\"true\" IntradayStartDate=\"2008-01-01T00:00:00\" IsIntraday=\"true\" LastTradeDateTime=\"2017-01-18T16:59:58\" Name=\"NASDAQ Stock Exchange\" Suffix=\"\" TimeZone=\"Eastern Standard Time\" />\\n    <ns0:EXCHANGE Advances=\"1374\" Code=\"NSE\" Country=\"IN\" Currency=\"INR\" Declines=\"0\" HasIntradayProduct=\"false\" IntradayStartDate=\"0001-01-01T00:00:00\" IsIntraday=\"false\" LastTradeDateTime=\"2017-01-19T09:09:00\" Name=\"National Stock Exchange of India\" Suffix=\"I\" TimeZone=\"GMT Standard Time\" />\\n    <ns0:EXCHANGE Advances=\"88073\" Code=\"NYBOT\" Country=\"US\" Currency=\"USD\" Declines=\"207\" HasIntradayProduct=\"true\" IntradayStartDate=\"2009-01-01T00:00:00\" IsIntraday=\"true\" LastTradeDateTime=\"2017-01-18T00:00:00\" Name=\"New York Board of Trade\" Suffix=\"\" TimeZone=\"Eastern Standard Time\" />\\n    <ns0:EXCHANGE Advances=\"33392\" Code=\"COMEX\" Country=\"US\" Currency=\"USD\" Declines=\"150\" HasIntradayProduct=\"true\" IntradayStartDate=\"2009-01-01T00:00:00\" IsIntraday=\"true\" LastTradeDateTime=\"2017-01-18T00:00:00\" Name=\"New York Commodity Exchange\" Suffix=\"\" TimeZone=\"Eastern Standard Time\" />\\n    <ns0:EXCHANGE Advances=\"16533\" Code=\"NYMEX\" Country=\"US\" Currency=\"USD\" Declines=\"237\" HasIntradayProduct=\"true\" IntradayStartDate=\"2009-01-01T00:00:00\" IsIntraday=\"true\" LastTradeDateTime=\"2017-01-18T00:00:00\" Name=\"New York Merchantile Exchange\" Suffix=\"\" TimeZone=\"Eastern Standard Time\" />\\n    <ns0:EXCHANGE Advances=\"4691\" Code=\"NYSE\" Country=\"US\" Currency=\"USD\" Declines=\"1880\" HasIntradayProduct=\"true\" IntradayStartDate=\"2008-01-01T00:00:00\" IsIntraday=\"true\" LastTradeDateTime=\"2017-01-18T16:59:58\" Name=\"New York Stock Exchange\" Suffix=\"\" TimeZone=\"Eastern Standard Time\" />\\n    <ns0:EXCHANGE Advances=\"1059\" Code=\"NZX\" Country=\"NZ\" Currency=\"NZD\" Declines=\"44\" HasIntradayProduct=\"false\" IntradayStartDate=\"0001-01-01T00:00:00\" IsIntraday=\"false\" LastTradeDateTime=\"2017-01-19T00:00:00\" Name=\"New Zealand Exchange\" Suffix=\"NZ\" TimeZone=\"New Zealand Standard Time\" />\\n    <ns0:EXCHANGE Advances=\"34377\" Code=\"OTCBB\" Country=\"US\" Currency=\"USD\" Declines=\"2112\" HasIntradayProduct=\"true\" IntradayStartDate=\"2009-01-01T00:00:00\" IsIntraday=\"true\" LastTradeDateTime=\"2017-01-18T16:59:59\" Name=\"OTC Bulletin Board\" Suffix=\"OB\" TimeZone=\"Eastern Standard Time\" />\\n    <ns0:EXCHANGE Advances=\"12353\" Code=\"SGX\" Country=\"SG\" Currency=\"SGD\" Declines=\"499\" HasIntradayProduct=\"false\" IntradayStartDate=\"0001-01-01T00:00:00\" IsIntraday=\"false\" LastTradeDateTime=\"2017-01-18T00:00:00\" Name=\"Singapore Stock Exchange\" Suffix=\"SI\" TimeZone=\"Singapore Standard Time\" />\\n    <ns0:EXCHANGE Advances=\"5418\" Code=\"TSX\" Country=\"CA\" Currency=\"CAD\" Declines=\"882\" HasIntradayProduct=\"false\" IntradayStartDate=\"0001-01-01T00:00:00\" IsIntraday=\"false\" LastTradeDateTime=\"2017-01-18T00:00:00\" Name=\"Toronto Stock Exchange\" Suffix=\"TO\" TimeZone=\"Mountain Standard Time\" />\\n    <ns0:EXCHANGE Advances=\"4920\" Code=\"TSXV\" Country=\"CA\" Currency=\"CAD\" Declines=\"562\" HasIntradayProduct=\"false\" IntradayStartDate=\"0001-01-01T00:00:00\" IsIntraday=\"false\" LastTradeDateTime=\"2017-01-18T00:00:00\" Name=\"Toronto Venture Exchange\" Suffix=\"V\" TimeZone=\"Mountain Standard Time\" />\\n    <ns0:EXCHANGE Advances=\"9999\" Code=\"WCE\" Country=\"US\" Currency=\"USD\" Declines=\"1\" HasIntradayProduct=\"true\" IntradayStartDate=\"2009-01-01T00:00:00\" IsIntraday=\"true\" LastTradeDateTime=\"2017-01-18T00:00:00\" Name=\"Winnipeg Commodity Exchange\" Suffix=\"\" TimeZone=\"Central Standard Time\" />\\n  </ns0:EXCHANGES>\\n</ns0:RESPONSE>'\n"
     ]
    }
   ],
   "source": [
    "print(etree.tostring(root))"
   ]
  },
  {
   "cell_type": "code",
   "execution_count": 30,
   "metadata": {
    "collapsed": false
   },
   "outputs": [
    {
     "ename": "NameError",
     "evalue": "name 'exchange' is not defined",
     "output_type": "error",
     "traceback": [
      "\u001b[0;31m---------------------------------------------------------------------------\u001b[0m",
      "\u001b[0;31mNameError\u001b[0m                                 Traceback (most recent call last)",
      "\u001b[0;32m<ipython-input-30-43d62690c9b7>\u001b[0m in \u001b[0;36m<module>\u001b[0;34m()\u001b[0m\n\u001b[0;32m----> 1\u001b[0;31m \u001b[0mdir\u001b[0m\u001b[0;34m(\u001b[0m\u001b[0mexchange\u001b[0m\u001b[0;34m.\u001b[0m\u001b[0mattrib\u001b[0m\u001b[0;34m)\u001b[0m\u001b[0;34m\u001b[0m\u001b[0m\n\u001b[0m",
      "\u001b[0;31mNameError\u001b[0m: name 'exchange' is not defined"
     ]
    }
   ],
   "source": [
    "dir(exchange.attrib)"
   ]
  },
  {
   "cell_type": "code",
   "execution_count": 65,
   "metadata": {
    "collapsed": false
   },
   "outputs": [
    {
     "ename": "AttributeError",
     "evalue": "'str' object has no attribute 'close'",
     "output_type": "error",
     "traceback": [
      "\u001b[1;31m---------------------------------------------------------------------------\u001b[0m",
      "\u001b[1;31mAttributeError\u001b[0m                            Traceback (most recent call last)",
      "\u001b[1;32m<ipython-input-65-0469e1c57dbb>\u001b[0m in \u001b[0;36m<module>\u001b[1;34m()\u001b[0m\n\u001b[1;32m----> 1\u001b[1;33m \u001b[0ms\u001b[0m\u001b[1;33m.\u001b[0m\u001b[0mclose\u001b[0m\u001b[1;33m(\u001b[0m\u001b[1;33m)\u001b[0m\u001b[1;33m\u001b[0m\u001b[0m\n\u001b[0m",
      "\u001b[1;31mAttributeError\u001b[0m: 'str' object has no attribute 'close'"
     ]
    }
   ],
   "source": [
    "s.close()"
   ]
  }
 ],
 "metadata": {
  "anaconda-cloud": {},
  "kernelspec": {
   "display_name": "Python [default]",
   "language": "python",
   "name": "python3"
  },
  "language_info": {
   "codemirror_mode": {
    "name": "ipython",
    "version": 3
   },
   "file_extension": ".py",
   "mimetype": "text/x-python",
   "name": "python",
   "nbconvert_exporter": "python",
   "pygments_lexer": "ipython3",
   "version": "3.5.2"
  }
 },
 "nbformat": 4,
 "nbformat_minor": 0
}
