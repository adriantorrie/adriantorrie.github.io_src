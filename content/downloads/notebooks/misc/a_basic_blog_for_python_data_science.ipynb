{
 "cells": [
  {
   "cell_type": "markdown",
   "metadata": {},
   "source": [
    "Setting up this blog to manage a portfolio of data science work involved the following:\n",
    "* Setting up a [Github pages repo](https://pages.github.com/) named `<username>.github.io`\n",
    "* Setting up [Pelican](http://blog.getpelican.com/) using `pelican-quickstart`, instructions [here](http://docs.getpelican.com/en/stable/quickstart.html) and [here](https://www.dataquest.io/blog/how-to-setup-a-data-science-blog/)\n",
    "* Installing [`pelican-plugins`](https://github.com/getpelican/pelican-plugins/blob/master/Readme.rst) as a submodule\n",
    "* Adding a few configuration changes to `pelicanconf.py` for the plugins to work (below)\n",
    "* Created this page\n",
    "* From the root directory of the repo I ran:\n",
    "  * `pelican content`\n",
    "  * `cd output`\n",
    "  * `python -m pelican.server`\n",
    "* Then I opened my browser to http://localhost:8000/"
   ]
  },
  {
   "cell_type": "code",
   "execution_count": 1,
   "metadata": {
    "collapsed": true
   },
   "outputs": [],
   "source": [
    "PLUGIN_PATHS = ['pelican-plugins']\n",
    "PLUGINS = ['summary', 'liquid_tags.img', 'liquid_tags.video',\n",
    "           'liquid_tags.include_code', 'liquid_tags.notebook',\n",
    "           'liquid_tags.literal']"
   ]
  }
 ],
 "metadata": {
  "anaconda-cloud": {},
  "kernelspec": {
   "display_name": "Python [conda env:ds_ml_portfolio]",
   "language": "python",
   "name": "conda-env-ds_ml_portfolio-py"
  },
  "language_info": {
   "codemirror_mode": {
    "name": "ipython",
    "version": 3
   },
   "file_extension": ".py",
   "mimetype": "text/x-python",
   "name": "python",
   "nbconvert_exporter": "python",
   "pygments_lexer": "ipython3",
   "version": "3.5.2"
  }
 },
 "nbformat": 4,
 "nbformat_minor": 1
}
