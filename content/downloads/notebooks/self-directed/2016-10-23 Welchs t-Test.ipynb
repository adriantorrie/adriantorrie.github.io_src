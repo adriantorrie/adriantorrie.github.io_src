{
 "cells": [
  {
   "cell_type": "code",
   "execution_count": 1,
   "metadata": {
    "collapsed": false
   },
   "outputs": [],
   "source": [
    "%matplotlib inline"
   ]
  },
  {
   "cell_type": "code",
   "execution_count": 2,
   "metadata": {
    "collapsed": false
   },
   "outputs": [],
   "source": [
    "# ref: http://seaborn.pydata.org/generated/seaborn.distplot.html#seaborn.distplot\n",
    "# ref: http://seaborn.pydata.org/generated/seaborn.color_palette.html#seaborn.color_palette\n",
    "# palette=deep, muted, bright, pastel, dark, colorblind\n",
    "import pandas as pd\n",
    "import matplotlib.pyplot as plt\n",
    "import seaborn as sns\n",
    "\n",
    "# set default size of plots\n",
    "plt.rcParams['figure.figsize']=4,2"
   ]
  },
  {
   "cell_type": "code",
   "execution_count": 3,
   "metadata": {
    "collapsed": false
   },
   "outputs": [],
   "source": [
    "# palettes for seaborn plots\n",
    "sns.palettes.SEABORN_PALETTES.keys()\n",
    "sns.set_palette(palette='deep')"
   ]
  },
  {
   "cell_type": "code",
   "execution_count": 4,
   "metadata": {
    "collapsed": false
   },
   "outputs": [
    {
     "name": "stdout",
     "output_type": "stream",
     "text": [
      "['seaborn-muted',\n",
      " 'seaborn-colorblind',\n",
      " 'seaborn-paper',\n",
      " 'classic',\n",
      " 'seaborn-poster',\n",
      " 'bmh',\n",
      " 'fivethirtyeight',\n",
      " 'seaborn-ticks',\n",
      " 'seaborn-darkgrid',\n",
      " 'seaborn-white',\n",
      " 'seaborn-pastel',\n",
      " 'grayscale',\n",
      " 'seaborn-bright',\n",
      " 'seaborn-deep',\n",
      " 'ggplot',\n",
      " 'seaborn-talk',\n",
      " 'seaborn-whitegrid',\n",
      " 'seaborn-dark',\n",
      " 'seaborn-dark-palette',\n",
      " 'seaborn-notebook',\n",
      " 'dark_background']\n"
     ]
    }
   ],
   "source": [
    "# palettes for pandas plots\n",
    "import pprint\n",
    "pprint.pprint(plt.style.available)\n",
    "\n",
    "plt.style.use('fivethirtyeight')"
   ]
  },
  {
   "cell_type": "code",
   "execution_count": 5,
   "metadata": {
    "collapsed": false
   },
   "outputs": [],
   "source": [
    "df = pd.read_csv('https://github.com/chadwickbureau/baseballdatabank/raw/master/core/Master.csv')"
   ]
  },
  {
   "cell_type": "code",
   "execution_count": 6,
   "metadata": {
    "collapsed": false
   },
   "outputs": [
    {
     "data": {
      "text/html": [
       "<div>\n",
       "<table border=\"1\" class=\"dataframe\">\n",
       "  <thead>\n",
       "    <tr style=\"text-align: right;\">\n",
       "      <th></th>\n",
       "      <th>playerID</th>\n",
       "      <th>birthYear</th>\n",
       "      <th>birthMonth</th>\n",
       "      <th>birthDay</th>\n",
       "      <th>birthCountry</th>\n",
       "      <th>birthState</th>\n",
       "      <th>birthCity</th>\n",
       "      <th>deathYear</th>\n",
       "      <th>deathMonth</th>\n",
       "      <th>deathDay</th>\n",
       "      <th>...</th>\n",
       "      <th>nameLast</th>\n",
       "      <th>nameGiven</th>\n",
       "      <th>weight</th>\n",
       "      <th>height</th>\n",
       "      <th>bats</th>\n",
       "      <th>throws</th>\n",
       "      <th>debut</th>\n",
       "      <th>finalGame</th>\n",
       "      <th>retroID</th>\n",
       "      <th>bbrefID</th>\n",
       "    </tr>\n",
       "  </thead>\n",
       "  <tbody>\n",
       "    <tr>\n",
       "      <th>0</th>\n",
       "      <td>aardsda01</td>\n",
       "      <td>1981.0</td>\n",
       "      <td>12.0</td>\n",
       "      <td>27.0</td>\n",
       "      <td>USA</td>\n",
       "      <td>CO</td>\n",
       "      <td>Denver</td>\n",
       "      <td>NaN</td>\n",
       "      <td>NaN</td>\n",
       "      <td>NaN</td>\n",
       "      <td>...</td>\n",
       "      <td>Aardsma</td>\n",
       "      <td>David Allan</td>\n",
       "      <td>215.0</td>\n",
       "      <td>75.0</td>\n",
       "      <td>R</td>\n",
       "      <td>R</td>\n",
       "      <td>2004-04-06</td>\n",
       "      <td>2015-08-23</td>\n",
       "      <td>aardd001</td>\n",
       "      <td>aardsda01</td>\n",
       "    </tr>\n",
       "    <tr>\n",
       "      <th>1</th>\n",
       "      <td>aaronha01</td>\n",
       "      <td>1934.0</td>\n",
       "      <td>2.0</td>\n",
       "      <td>5.0</td>\n",
       "      <td>USA</td>\n",
       "      <td>AL</td>\n",
       "      <td>Mobile</td>\n",
       "      <td>NaN</td>\n",
       "      <td>NaN</td>\n",
       "      <td>NaN</td>\n",
       "      <td>...</td>\n",
       "      <td>Aaron</td>\n",
       "      <td>Henry Louis</td>\n",
       "      <td>180.0</td>\n",
       "      <td>72.0</td>\n",
       "      <td>R</td>\n",
       "      <td>R</td>\n",
       "      <td>1954-04-13</td>\n",
       "      <td>1976-10-03</td>\n",
       "      <td>aaroh101</td>\n",
       "      <td>aaronha01</td>\n",
       "    </tr>\n",
       "    <tr>\n",
       "      <th>2</th>\n",
       "      <td>aaronto01</td>\n",
       "      <td>1939.0</td>\n",
       "      <td>8.0</td>\n",
       "      <td>5.0</td>\n",
       "      <td>USA</td>\n",
       "      <td>AL</td>\n",
       "      <td>Mobile</td>\n",
       "      <td>1984.0</td>\n",
       "      <td>8.0</td>\n",
       "      <td>16.0</td>\n",
       "      <td>...</td>\n",
       "      <td>Aaron</td>\n",
       "      <td>Tommie Lee</td>\n",
       "      <td>190.0</td>\n",
       "      <td>75.0</td>\n",
       "      <td>R</td>\n",
       "      <td>R</td>\n",
       "      <td>1962-04-10</td>\n",
       "      <td>1971-09-26</td>\n",
       "      <td>aarot101</td>\n",
       "      <td>aaronto01</td>\n",
       "    </tr>\n",
       "    <tr>\n",
       "      <th>3</th>\n",
       "      <td>aasedo01</td>\n",
       "      <td>1954.0</td>\n",
       "      <td>9.0</td>\n",
       "      <td>8.0</td>\n",
       "      <td>USA</td>\n",
       "      <td>CA</td>\n",
       "      <td>Orange</td>\n",
       "      <td>NaN</td>\n",
       "      <td>NaN</td>\n",
       "      <td>NaN</td>\n",
       "      <td>...</td>\n",
       "      <td>Aase</td>\n",
       "      <td>Donald William</td>\n",
       "      <td>190.0</td>\n",
       "      <td>75.0</td>\n",
       "      <td>R</td>\n",
       "      <td>R</td>\n",
       "      <td>1977-07-26</td>\n",
       "      <td>1990-10-03</td>\n",
       "      <td>aased001</td>\n",
       "      <td>aasedo01</td>\n",
       "    </tr>\n",
       "    <tr>\n",
       "      <th>4</th>\n",
       "      <td>abadan01</td>\n",
       "      <td>1972.0</td>\n",
       "      <td>8.0</td>\n",
       "      <td>25.0</td>\n",
       "      <td>USA</td>\n",
       "      <td>FL</td>\n",
       "      <td>Palm Beach</td>\n",
       "      <td>NaN</td>\n",
       "      <td>NaN</td>\n",
       "      <td>NaN</td>\n",
       "      <td>...</td>\n",
       "      <td>Abad</td>\n",
       "      <td>Fausto Andres</td>\n",
       "      <td>184.0</td>\n",
       "      <td>73.0</td>\n",
       "      <td>L</td>\n",
       "      <td>L</td>\n",
       "      <td>2001-09-10</td>\n",
       "      <td>2006-04-13</td>\n",
       "      <td>abada001</td>\n",
       "      <td>abadan01</td>\n",
       "    </tr>\n",
       "  </tbody>\n",
       "</table>\n",
       "<p>5 rows × 24 columns</p>\n",
       "</div>"
      ],
      "text/plain": [
       "    playerID  birthYear  birthMonth  birthDay birthCountry birthState  \\\n",
       "0  aardsda01     1981.0        12.0      27.0          USA         CO   \n",
       "1  aaronha01     1934.0         2.0       5.0          USA         AL   \n",
       "2  aaronto01     1939.0         8.0       5.0          USA         AL   \n",
       "3   aasedo01     1954.0         9.0       8.0          USA         CA   \n",
       "4   abadan01     1972.0         8.0      25.0          USA         FL   \n",
       "\n",
       "    birthCity  deathYear  deathMonth  deathDay    ...     nameLast  \\\n",
       "0      Denver        NaN         NaN       NaN    ...      Aardsma   \n",
       "1      Mobile        NaN         NaN       NaN    ...        Aaron   \n",
       "2      Mobile     1984.0         8.0      16.0    ...        Aaron   \n",
       "3      Orange        NaN         NaN       NaN    ...         Aase   \n",
       "4  Palm Beach        NaN         NaN       NaN    ...         Abad   \n",
       "\n",
       "        nameGiven weight height bats throws       debut   finalGame   retroID  \\\n",
       "0     David Allan  215.0   75.0    R      R  2004-04-06  2015-08-23  aardd001   \n",
       "1     Henry Louis  180.0   72.0    R      R  1954-04-13  1976-10-03  aaroh101   \n",
       "2      Tommie Lee  190.0   75.0    R      R  1962-04-10  1971-09-26  aarot101   \n",
       "3  Donald William  190.0   75.0    R      R  1977-07-26  1990-10-03  aased001   \n",
       "4   Fausto Andres  184.0   73.0    L      L  2001-09-10  2006-04-13  abada001   \n",
       "\n",
       "     bbrefID  \n",
       "0  aardsda01  \n",
       "1  aaronha01  \n",
       "2  aaronto01  \n",
       "3   aasedo01  \n",
       "4   abadan01  \n",
       "\n",
       "[5 rows x 24 columns]"
      ]
     },
     "execution_count": 6,
     "metadata": {},
     "output_type": "execute_result"
    }
   ],
   "source": [
    "df.head()"
   ]
  },
  {
   "cell_type": "code",
   "execution_count": 7,
   "metadata": {
    "collapsed": false
   },
   "outputs": [
    {
     "data": {
      "text/html": [
       "<div>\n",
       "<table border=\"1\" class=\"dataframe\">\n",
       "  <thead>\n",
       "    <tr style=\"text-align: right;\">\n",
       "      <th></th>\n",
       "      <th>birthYear</th>\n",
       "      <th>birthMonth</th>\n",
       "      <th>birthDay</th>\n",
       "      <th>deathYear</th>\n",
       "      <th>deathMonth</th>\n",
       "      <th>deathDay</th>\n",
       "      <th>weight</th>\n",
       "      <th>height</th>\n",
       "    </tr>\n",
       "  </thead>\n",
       "  <tbody>\n",
       "    <tr>\n",
       "      <th>count</th>\n",
       "      <td>18966.00000</td>\n",
       "      <td>18796.000000</td>\n",
       "      <td>18647.000000</td>\n",
       "      <td>9398.000000</td>\n",
       "      <td>9397.000000</td>\n",
       "      <td>9396.000000</td>\n",
       "      <td>18248.000000</td>\n",
       "      <td>18315.000000</td>\n",
       "    </tr>\n",
       "    <tr>\n",
       "      <th>mean</th>\n",
       "      <td>1931.45455</td>\n",
       "      <td>6.629336</td>\n",
       "      <td>15.616989</td>\n",
       "      <td>1964.113428</td>\n",
       "      <td>6.481537</td>\n",
       "      <td>15.574181</td>\n",
       "      <td>186.344476</td>\n",
       "      <td>72.274311</td>\n",
       "    </tr>\n",
       "    <tr>\n",
       "      <th>std</th>\n",
       "      <td>41.54645</td>\n",
       "      <td>3.468741</td>\n",
       "      <td>8.748891</td>\n",
       "      <td>31.672343</td>\n",
       "      <td>3.523684</td>\n",
       "      <td>8.777659</td>\n",
       "      <td>21.494734</td>\n",
       "      <td>2.604105</td>\n",
       "    </tr>\n",
       "    <tr>\n",
       "      <th>min</th>\n",
       "      <td>1820.00000</td>\n",
       "      <td>1.000000</td>\n",
       "      <td>1.000000</td>\n",
       "      <td>1872.000000</td>\n",
       "      <td>1.000000</td>\n",
       "      <td>1.000000</td>\n",
       "      <td>65.000000</td>\n",
       "      <td>43.000000</td>\n",
       "    </tr>\n",
       "    <tr>\n",
       "      <th>25%</th>\n",
       "      <td>1895.00000</td>\n",
       "      <td>4.000000</td>\n",
       "      <td>8.000000</td>\n",
       "      <td>1942.000000</td>\n",
       "      <td>3.000000</td>\n",
       "      <td>8.000000</td>\n",
       "      <td>170.000000</td>\n",
       "      <td>71.000000</td>\n",
       "    </tr>\n",
       "    <tr>\n",
       "      <th>50%</th>\n",
       "      <td>1937.00000</td>\n",
       "      <td>7.000000</td>\n",
       "      <td>16.000000</td>\n",
       "      <td>1967.000000</td>\n",
       "      <td>6.000000</td>\n",
       "      <td>15.000000</td>\n",
       "      <td>185.000000</td>\n",
       "      <td>72.000000</td>\n",
       "    </tr>\n",
       "    <tr>\n",
       "      <th>75%</th>\n",
       "      <td>1969.00000</td>\n",
       "      <td>10.000000</td>\n",
       "      <td>23.000000</td>\n",
       "      <td>1990.000000</td>\n",
       "      <td>10.000000</td>\n",
       "      <td>23.000000</td>\n",
       "      <td>200.000000</td>\n",
       "      <td>74.000000</td>\n",
       "    </tr>\n",
       "    <tr>\n",
       "      <th>max</th>\n",
       "      <td>1996.00000</td>\n",
       "      <td>12.000000</td>\n",
       "      <td>31.000000</td>\n",
       "      <td>2016.000000</td>\n",
       "      <td>12.000000</td>\n",
       "      <td>31.000000</td>\n",
       "      <td>320.000000</td>\n",
       "      <td>83.000000</td>\n",
       "    </tr>\n",
       "  </tbody>\n",
       "</table>\n",
       "</div>"
      ],
      "text/plain": [
       "         birthYear    birthMonth      birthDay    deathYear   deathMonth  \\\n",
       "count  18966.00000  18796.000000  18647.000000  9398.000000  9397.000000   \n",
       "mean    1931.45455      6.629336     15.616989  1964.113428     6.481537   \n",
       "std       41.54645      3.468741      8.748891    31.672343     3.523684   \n",
       "min     1820.00000      1.000000      1.000000  1872.000000     1.000000   \n",
       "25%     1895.00000      4.000000      8.000000  1942.000000     3.000000   \n",
       "50%     1937.00000      7.000000     16.000000  1967.000000     6.000000   \n",
       "75%     1969.00000     10.000000     23.000000  1990.000000    10.000000   \n",
       "max     1996.00000     12.000000     31.000000  2016.000000    12.000000   \n",
       "\n",
       "          deathDay        weight        height  \n",
       "count  9396.000000  18248.000000  18315.000000  \n",
       "mean     15.574181    186.344476     72.274311  \n",
       "std       8.777659     21.494734      2.604105  \n",
       "min       1.000000     65.000000     43.000000  \n",
       "25%       8.000000    170.000000     71.000000  \n",
       "50%      15.000000    185.000000     72.000000  \n",
       "75%      23.000000    200.000000     74.000000  \n",
       "max      31.000000    320.000000     83.000000  "
      ]
     },
     "execution_count": 7,
     "metadata": {},
     "output_type": "execute_result"
    }
   ],
   "source": [
    "df.describe()"
   ]
  },
  {
   "cell_type": "code",
   "execution_count": 8,
   "metadata": {
    "collapsed": false
   },
   "outputs": [
    {
     "name": "stdout",
     "output_type": "stream",
     "text": [
      "bats\n",
      "B     1177\n",
      "L     4958\n",
      "R    11783\n",
      "Name: playerID, dtype: int64\n"
     ]
    },
    {
     "data": {
      "image/png": "[encoded data removed]",
      "text/plain": [
       "<matplotlib.figure.Figure at 0x7f30ba7c6a20>"
      ]
     },
     "metadata": {},
     "output_type": "display_data"
    }
   ],
   "source": [
    "# number of batters by hitting hand\n",
    "batters = df.groupby('bats')['playerID'].count()\n",
    "ax = batters.plot.barh()\n",
    "print(batters)"
   ]
  },
  {
   "cell_type": "code",
   "execution_count": 9,
   "metadata": {
    "collapsed": false
   },
   "outputs": [
    {
     "name": "stdout",
     "output_type": "stream",
     "text": [
      "bats\n",
      "B    71.647863\n",
      "L    72.241949\n",
      "R    72.480917\n",
      "Name: height, dtype: float64\n"
     ]
    },
    {
     "data": {
      "image/png": "[encoded data removed]",
      "text/plain": [
       "<matplotlib.figure.Figure at 0x7f30ba789be0>"
      ]
     },
     "metadata": {},
     "output_type": "display_data"
    }
   ],
   "source": [
    "# mean height, grouped by hitting hand\n",
    "batters = df.groupby('bats')['height'].mean()\n",
    "ax = batters.plot.barh()\n",
    "print(batters)"
   ]
  },
  {
   "cell_type": "code",
   "execution_count": 10,
   "metadata": {
    "collapsed": false
   },
   "outputs": [
    {
     "name": "stdout",
     "output_type": "stream",
     "text": [
      "bats\n",
      "B    182.010274\n",
      "L    186.102977\n",
      "R    187.758328\n",
      "Name: weight, dtype: float64\n"
     ]
    },
    {
     "data": {
      "image/png": "[encoded data removed]",
      "text/plain": [
       "<matplotlib.figure.Figure at 0x7f30ba47f390>"
      ]
     },
     "metadata": {},
     "output_type": "display_data"
    }
   ],
   "source": [
    "# mean weight, grouped by hitting hand\n",
    "batters = df.groupby('bats')['weight'].mean()\n",
    "ax = batters.plot.barh()\n",
    "print(batters)"
   ]
  },
  {
   "cell_type": "code",
   "execution_count": 11,
   "metadata": {
    "collapsed": false
   },
   "outputs": [],
   "source": [
    "# ref: http://pandas.pydata.org/pandas-docs/stable/generated/pandas.DataFrame.dropna.html\n",
    "# ref: http://pandas.pydata.org/pandas-docs/stable/generated/pandas.DataFrame.sample.html\n",
    "# ref: http://pandas.pydata.org/pandas-docs/stable/generated/pandas.DataFrame.values.html\n",
    "import random\n",
    "\n",
    "# ensure sampling is consistant betweeen runs\n",
    "seed = 2\n",
    "\n",
    "# create index dataframes\n",
    "l_hitters = df['bats'] == 'L'\n",
    "r_hitters = df['bats'] == 'R'\n",
    "\n",
    "# obtain the heights arrays for left hand hitters, and right hand hitters\n",
    "l_height = df[l_hitters]['height'].dropna().sample(n=250, random_state=seed).values\n",
    "r_height = df[r_hitters]['height'].dropna().sample(n=250, random_state=seed).values\n",
    "\n",
    "# obtain the weights arrays for left hand hitters, and right hand hitters\n",
    "l_weight = df[l_hitters]['weight'].dropna().sample(n=250, random_state=seed).values\n",
    "r_weight = df[r_hitters]['weight'].dropna().sample(n=250, random_state=seed).values"
   ]
  },
  {
   "cell_type": "code",
   "execution_count": 12,
   "metadata": {
    "collapsed": false
   },
   "outputs": [
    {
     "data": {
      "image/png": "[encoded data removed]",
      "text/plain": [
       "<matplotlib.figure.Figure at 0x7f30ba42c6d8>"
      ]
     },
     "metadata": {},
     "output_type": "display_data"
    }
   ],
   "source": [
    "# is there any difference in height?\n",
    "# visual insepection\n",
    "fig, ax = plt.subplots()\n",
    "fig = sns.distplot(l_height, ax=ax, color='blue', kde_kws={\"label\": \"Left Hitters\"})\n",
    "fig = sns.distplot(r_height, ax=ax, color='green', kde_kws={\"label\": \"Right Hitters\"})"
   ]
  },
  {
   "cell_type": "code",
   "execution_count": 13,
   "metadata": {
    "collapsed": false
   },
   "outputs": [
    {
     "name": "stdout",
     "output_type": "stream",
     "text": [
      "P-value\t= 0.972\n",
      "t-stat\t= 0.0347\n",
      "(Failed Test - at the 5% level) Null hypothesis not rejected, therefore we consider the mean heights to be equal\n"
     ]
    }
   ],
   "source": [
    "# t-Test\n",
    "# ref: https://docs.scipy.org/doc/scipy/reference/generated/scipy.stats.ttest_ind.html\n",
    "# ref: https://en.wikipedia.org/wiki/Welch%27s_t-test\n",
    "from scipy import stats\n",
    "\n",
    "# perform Welch's t-Test\n",
    "t, p = stats.ttest_ind(l_height, r_height, equal_var=False)\n",
    "\n",
    "if (p <= 0.05):\n",
    "    outcome = '(Passed Test - at the 5% level) Null hypothesis rejected, therefore the mean heights are different'\n",
    "else:\n",
    "    outcome = '(Failed Test - at the 5% level) Null hypothesis not rejected, therefore we consider the mean heights to be equal'\n",
    "    \n",
    "print(\"P-value\\t= {:5.3}\\nt-stat\\t= {:5.3}\\n{}\".format(p,t,outcome))"
   ]
  },
  {
   "cell_type": "code",
   "execution_count": 14,
   "metadata": {
    "collapsed": false
   },
   "outputs": [
    {
     "data": {
      "image/png": "[encoded data removed]",
      "text/plain": [
       "<matplotlib.figure.Figure at 0x7f30ba334f60>"
      ]
     },
     "metadata": {},
     "output_type": "display_data"
    }
   ],
   "source": [
    "# is there any difference in weight?\n",
    "# visual inspection\n",
    "fig, ax = plt.subplots()\n",
    "fig = sns.distplot(l_weight, ax=ax, color='blue', kde_kws={\"label\": \"Left Hitters\"})\n",
    "fig = sns.distplot(r_weight, ax=ax, color='green', kde_kws={\"label\": \"Right Hitters\"})"
   ]
  },
  {
   "cell_type": "code",
   "execution_count": 15,
   "metadata": {
    "collapsed": false
   },
   "outputs": [
    {
     "name": "stdout",
     "output_type": "stream",
     "text": [
      "P-value\t=  0.36\n",
      "t-stat\t= -0.915\n",
      "(Failed Test - at the 5% level) Null hypothesis not rejected, therefore we consider the mean weights to be equal\n"
     ]
    }
   ],
   "source": [
    "# perform Welch's t-Test\n",
    "t, p = stats.ttest_ind(l_weight, r_weight, equal_var=False)\n",
    "\n",
    "if (p <= 0.05):\n",
    "    outcome = '(Passed Test - at the 5% level) Null hypothesis rejected, therefore the mean weights are different'\n",
    "else:\n",
    "    outcome = '(Failed Test - at the 5% level) Null hypothesis not rejected, therefore we consider the mean weights to be equal'\n",
    "    \n",
    "print(\"P-value\\t= {:5.3}\\nt-stat\\t= {:5.3}\\n{}\".format(p,t,outcome))"
   ]
  }
 ],
 "metadata": {
  "anaconda-cloud": {},
  "kernelspec": {
   "display_name": "Python [conda env:ds_ml_portfolio]",
   "language": "python",
   "name": "conda-env-ds_ml_portfolio-py"
  },
  "language_info": {
   "codemirror_mode": {
    "name": "ipython",
    "version": 3
   },
   "file_extension": ".py",
   "mimetype": "text/x-python",
   "name": "python",
   "nbconvert_exporter": "python",
   "pygments_lexer": "ipython3",
   "version": "3.5.2"
  }
 },
 "nbformat": 4,
 "nbformat_minor": 1
}
