{
 "cells": [
  {
   "cell_type": "markdown",
   "metadata": {},
   "source": [
    "## Summary\n",
    "Part of a series that takes the formulas and MATLAB code found in Ernie Chan's book, Algorithmic Trading: Winning Strategies and Their Rationale (2013)"
   ]
  },
  {
   "cell_type": "markdown",
   "metadata": {},
   "source": [
    "## Version Control"
   ]
  },
  {
   "cell_type": "code",
   "execution_count": 1,
   "metadata": {
    "collapsed": false
   },
   "outputs": [
    {
     "name": "stdout",
     "output_type": "stream",
     "text": [
      "Python: 3.5.2 |Continuum Analytics, Inc.| (default, Jul  2 2016, 17:53:06) \n",
      "[GCC 4.4.7 20120313 (Red Hat 4.4.7-1)]\n",
      "\n",
      "matplotlib:\t2.0.0\n",
      "numpy:\t\t1.11.3\n",
      "pandas:\t\t0.19.2\n",
      "quandl:\t\t3.0.1\n",
      "sklearn:\t0.18.1\n",
      "scipy:\t\t0.18.1\n"
     ]
    }
   ],
   "source": [
    "%run ../../code/version_check.py"
   ]
  },
  {
   "cell_type": "markdown",
   "metadata": {},
   "source": [
    "## Change Log\n",
    "    Date Created: 2016-10-26\n",
    "    \n",
    "    Date of Change    Change Notes\n",
    "    --------------    ----------------------------------------------------------------\n",
    "    2016-10-26        Initial draft\n",
    "    2016-10-27        Fixed formatting\n",
    "    2017-01-20        Layout changes\n",
    "    2017-04-31        * Added versioning of modules\n",
    "                      * Added alignment to table holding critical values for test"
   ]
  },
  {
   "cell_type": "markdown",
   "metadata": {},
   "source": [
    "## 1. General References  \n",
    "  1.1 [Mathjax Basic Tutorial and Quick Reference](http://meta.math.stackexchange.com/questions/5020/mathjax-basic-tutorial-and-quick-reference)  \n",
    "  1.2 [Github Markdown Cheatsheet](https://github.com/adam-p/markdown-here/wiki/Markdown-Cheatsheet#blockquotes)\n",
    "  "
   ]
  },
  {
   "cell_type": "markdown",
   "metadata": {},
   "source": [
    "## 2. Notebook References\n",
    " 2.1 [CAGR](http://www.investopedia.com/terms/c/cagr.asp)  \n",
    " 2.2 [Pandas Time Series Offset Aliases](http://pandas.pydata.org/pandas-docs/stable/timeseries.html#offset-aliases)"
   ]
  },
  {
   "cell_type": "markdown",
   "metadata": {},
   "source": [
    "## 3. Backtesting and its relationship to Hypothesis Testing\n",
    "---\n",
    "\n",
    "The book suggests a general form of backtesting follows the hypothesis testing framework as follows:\n",
    "  1. Compute the test statistic (average daily return for the active period)\n",
    "  2. Assume the average daily return = 0, and call this the **null hypothesis**\n",
    "  3. Assume Gaussian (Normal) Distribution of daily returns with 0 (zero) mean\n",
    "  4. Using the null hypothesis assumed distribution of daily returns, compute the *p*-value. \n",
    "  5. Lookup *p*-value against critical values to determine significance\n",
    "  \n",
    "If *p*-value is less than 0.01 (less than 1% chance), we reject the null hypothesis, meaning the average daily returns from the backtest are statistically significant.\n",
    "\n",
    "  \n",
    "### 3.1 Sharpe Ratio Test Statistic (srt-stat)\n",
    "\n",
    "\n",
    "The book cites a reference, (Bernston, 2002) with the citation stated as: \n",
    "    \n",
    "> ... the standard test statistic for a Gaussian distribution is none other than the average divided by the standard deviation and multiplied by the square root of the number of data points ...\"\n",
    "\n",
    "which when written in equation form looks like:\n",
    "\n",
    "$$\\text{srt-stat} = \\left(\\frac{\\mu}{\\sigma}\\right) \\sqrt{n}$$\n",
    "\n",
    "where:\n",
    "\n",
    "\\begin{align}\n",
    "\\mu  & = \\text{the }\\textbf{mean of the daily returns} \\\\ \n",
    "\\sigma & = \\text{the }\\textbf{standard deviation of the daily returns} \\\\ \n",
    "n & = \\text{the number of data points, also known as the }\\textbf{number of samples}\n",
    "\\end{align}\n",
    "\n",
    "The `srt_stat` is then then compared to a table of critical values to determine statistical significance, with the table again being cited from Bernston (2002) in Chan's book (code below):\n",
    "\n",
    "\n",
    "| p-value   | Critical values |\n",
    "| ---------:| ---------------:|\n",
    "| 0.1       | 1.282           |\n",
    "| 0.05      | 1.645           |\n",
    "| 0.01      | 2.326           |\n",
    "| 0.001     | 3.091           |\n",
    "\n",
    "\n",
    "*Note:*\n",
    "\n",
    "* The smaller the *p*-value (or the larger the `srt_stat`), the better, with respect to being statistically significant.\n",
    "* Because the Gaussian distriution is \"described\" by parameters (mu - $\\mu$, and sigma - $\\sigma$), the test is classified as a **parametric test**\n"
   ]
  },
  {
   "cell_type": "markdown",
   "metadata": {},
   "source": [
    "## 4. Coding the Sharpe Ratio Test Statistic\n",
    "---\n",
    "\n",
    "First we setup the Jupyter Notebook to display charts nicely, followed up by sourcing 11 years of adjusted daily close price data from Yahoo! Finance, and then have a quick look at how to find a single days worth of data.\n",
    "\n",
    "Adjusted closing prices are used as the data has been transformed to adapt for splits, reverse-splits, and dividends. This is important when holding stocks, as these will impact the returns of the strategy employed."
   ]
  },
  {
   "cell_type": "markdown",
   "metadata": {},
   "source": [
    "\n",
    "### 4.1 Setup"
   ]
  },
  {
   "cell_type": "code",
   "execution_count": 2,
   "metadata": {
    "collapsed": false
   },
   "outputs": [],
   "source": [
    "# Settings for plots\n",
    "%matplotlib inline\n",
    "\n",
    "import seaborn as sns  \n",
    "\n",
    "sns.set_style('darkgrid')"
   ]
  },
  {
   "cell_type": "code",
   "execution_count": 3,
   "metadata": {
    "collapsed": false
   },
   "outputs": [
    {
     "data": {
      "text/plain": [
       "count    2769.000000\n",
       "mean      324.799144\n",
       "std       152.879584\n",
       "min        87.582582\n",
       "25%       222.667666\n",
       "50%       281.346348\n",
       "75%       405.560552\n",
       "max       793.960022\n",
       "Name: Adj Close, dtype: float64"
      ]
     },
     "execution_count": 3,
     "metadata": {},
     "output_type": "execute_result"
    }
   ],
   "source": [
    "# Get 11 years worth of daily adjusted prices from Yahoo Finance for Google stock price\n",
    "# \n",
    "# Remote Data Access: Yahoo! Finance\n",
    "#     https://pandas-datareader.readthedocs.io/en/latest/remote_data.html#remote-data-yahoo\n",
    "import pandas as pd\n",
    "import pandas_datareader.data as web\n",
    "from datetime import datetime\n",
    "\n",
    "start = datetime(2005, 1, 1)\n",
    "end = datetime(2015, 12, 31)\n",
    "\n",
    "# Only keep the adjusted closing prices\n",
    "df = web.DataReader(\"GOOGL\", 'yahoo', start=start, end=end)['Adj Close']\n",
    "df.describe()"
   ]
  },
  {
   "cell_type": "code",
   "execution_count": 4,
   "metadata": {
    "collapsed": false
   },
   "outputs": [
    {
     "data": {
      "text/plain": [
       "297.34735499999999"
      ]
     },
     "execution_count": 4,
     "metadata": {},
     "output_type": "execute_result"
    }
   ],
   "source": [
    "# How to index into a particular date's adjusted closing price\n",
    "df.ix['2010-01-07']"
   ]
  },
  {
   "cell_type": "markdown",
   "metadata": {},
   "source": [
    "### 4.2 Compute Returns\n",
    "We will now create a series of daily returns in percent, and view the top 5 records for the series."
   ]
  },
  {
   "cell_type": "code",
   "execution_count": 5,
   "metadata": {
    "collapsed": false
   },
   "outputs": [
    {
     "data": {
      "text/plain": [
       "Date\n",
       "2005-01-04   -0.040501\n",
       "2005-01-05   -0.005090\n",
       "2005-01-06   -0.025632\n",
       "2005-01-07    0.028109\n",
       "2005-01-10    0.006242\n",
       "Name: Adj Close, dtype: float64"
      ]
     },
     "execution_count": 5,
     "metadata": {},
     "output_type": "execute_result"
    }
   ],
   "source": [
    "# Create daily returns\n",
    "# \n",
    "# Calculate Daily Returns with Pandas DataFrame\n",
    "#     http://stackoverflow.com/a/33472722/893766\n",
    "r = df.pct_change(1).dropna()\n",
    "r.head(5)"
   ]
  },
  {
   "cell_type": "markdown",
   "metadata": {},
   "source": [
    "### 4.3 Compute Test Statistic\n",
    "\n",
    "Here we compute the test statistic and review the outcome. The test is performed by the following line in the code below:\n",
    "    \n",
    "    srt_stat = (mu / sigma) * np.sqrt(n)"
   ]
  },
  {
   "cell_type": "code",
   "execution_count": 6,
   "metadata": {
    "collapsed": false
   },
   "outputs": [
    {
     "name": "stdout",
     "output_type": "stream",
     "text": [
      "srt-stat\t2.4804\n",
      "crit\t\t2.326\n",
      "p-value\t\t0.01\n",
      "\n",
      "Significance:\tTest statistic is significant at the 1% level\n",
      "Outcome:\tReject the Null Hypothesis\n"
     ]
    }
   ],
   "source": [
    "# Compute srt-stat\n",
    "# -> assumes a buy and hold strategy from the first date in the time series\n",
    "# \n",
    "# Pandas DataFrame - Find row where values for column is maximal\n",
    "#     http://stackoverflow.com/a/10213167/893766\n",
    "import numpy as np\n",
    "\n",
    "# ensure all numpy exceptions are raised\n",
    "np.seterr(all='raise')\n",
    "\n",
    "# critical values to test against for p-value\n",
    "test_values = pd.DataFrame({\n",
    "        'crits': [1.282, 1.645, 2.326, 3.091, ],\n",
    "        'p_values': [0.1, 0.05, 0.01, 0.001, ]})\n",
    "\n",
    "# test parameters\n",
    "# r = percent daily returns\n",
    "mu = r.mean()\n",
    "sigma = r.std()\n",
    "n = len(r)\n",
    "\n",
    "# run the test\n",
    "srt_stat = (mu / sigma) * np.sqrt(n)\n",
    "\n",
    "# compare to crits\n",
    "i = test_values['crits'] <= srt_stat\n",
    "test_values = test_values[i]\n",
    "\n",
    "# print if there is a significant result\n",
    "if (len(test_values) > 0):\n",
    "    result = test_values.ix[test_values['crits'].idxmax()]\n",
    "    print(\"srt-stat\\t{:.5}\".format(srt_stat))\n",
    "    print(\"crit\\t\\t{:.5}\".format(result[0]))\n",
    "    print(\"p-value\\t\\t{:.5}\".format(result[1]))\n",
    "    print()\n",
    "    print(\"Significance:\\tTest statistic is significant at the {}% level\".format(int(result[1] * 100)))\n",
    "    print(\"Outcome:\\tReject the Null Hypothesis\")\n",
    "else:\n",
    "    print(\"Significance:\\tTest statistic did not pass any critical values\")\n",
    "    print(\"Outcome:\\tFailed to reject the Null Hypothesis\")"
   ]
  },
  {
   "cell_type": "markdown",
   "metadata": {},
   "source": [
    "## 5. Outcome\n",
    "---\n",
    "\n",
    "According to the test the Sharpe Ratio of the average daily returns is statistically significant.\n",
    "\n",
    "Now what does that look like with $10,000 invested?\n"
   ]
  },
  {
   "cell_type": "code",
   "execution_count": 7,
   "metadata": {
    "collapsed": false
   },
   "outputs": [
    {
     "name": "stdout",
     "output_type": "stream",
     "text": [
      "start_value:\t10000\n",
      "end_value:\t35682.23146558856\n"
     ]
    },
    {
     "data": {
      "image/png": "[encoded data removed]",
      "text/plain": [
       "<matplotlib.figure.Figure at 0x7f28a8503b38>"
      ]
     },
     "metadata": {},
     "output_type": "display_data"
    }
   ],
   "source": [
    "# Plot the returns of $10,000\n",
    "# -> ignores transaction costs\n",
    "start_value = 10000\n",
    "actual_returns = (r.cumsum() + 1) * start_value\n",
    "end_value = actual_returns[-1]\n",
    "\n",
    "fig = actual_returns.plot(figsize=(10,4), title=\"Portfolio Vaue ($)\")\n",
    "\n",
    "print(\"start_value:\\t{}\\nend_value:\\t{}\".format(start_value, end_value))"
   ]
  },
  {
   "cell_type": "markdown",
   "metadata": {},
   "source": [
    "## 6. CAGR\n",
    "\n",
    "Investopedia provide the following for CAGR:\n",
    "\n",
    "$$\\text{CAGR} = \\left(\\frac{\\text{End value}}{\\text{Start value}}\\right)^\\left[\\frac{1}{\\text{n years}}\\right]$$\n",
    "\n",
    "Where typically the *n years* is adjusted for the total number of days in the investment period, like so:\n",
    "\n",
    "$$\\text{n years} = \\frac{\\text{Total number of days}}{365}$$\n",
    "\n",
    "In our case this would give us:\n",
    "\n",
    "\\begin{align}\n",
    "\\text{n years} & = \\frac{2769}{365} \\\\\n",
    "& = 7.5863 \\\\\n",
    "& \\approx 7\\frac{1}{2} years\n",
    "\\end{align}\n",
    "\n",
    "However, in our example, because we're using daily data that doesn't trade all year round, we can't just take the number of days and divide ($\\div$) by 365 to get an approximation for the number of years.\n",
    "\n",
    "If we instead use the data to drive our decision we can count the number of days the stock traded each year, and make a decision to adjust the *n years* formula using this information like so:\n",
    "\n",
    "$$\\text{n years} = \\frac{\\text{Total number of days}}{\\text{Average trading days per annum}}$$"
   ]
  },
  {
   "cell_type": "markdown",
   "metadata": {},
   "source": [
    "### 6.1 Finding the average number of trading days per annum\n",
    "The code below shows how to find the number of trading days, for each year (assumes every day that we have an adjusted close price, the market was open and the stock was able to be traded):"
   ]
  },
  {
   "cell_type": "code",
   "execution_count": 8,
   "metadata": {
    "collapsed": false
   },
   "outputs": [
    {
     "data": {
      "text/plain": [
       "Date\n",
       "2005-01-01    252\n",
       "2006-01-01    251\n",
       "2007-01-01    251\n",
       "2008-01-01    253\n",
       "2009-01-01    252\n",
       "2010-01-01    252\n",
       "2011-01-01    252\n",
       "2012-01-01    250\n",
       "2013-01-01    252\n",
       "2014-01-01    252\n",
       "2015-01-01    252\n",
       "Freq: AS-JAN, Name: Adj Close, dtype: int64"
      ]
     },
     "execution_count": 8,
     "metadata": {},
     "output_type": "execute_result"
    }
   ],
   "source": [
    "# Count number of rows in each year. Implicitly we are counting number of days,\n",
    "# as one row exists for each day.\n",
    "years = df.groupby(pd.TimeGrouper(freq=\"AS\")).count()\n",
    "years"
   ]
  },
  {
   "cell_type": "markdown",
   "metadata": {},
   "source": [
    "As we can see from above, the number of days ranged from 250-253, however if we just take the median of these stats we can use this for our calculation."
   ]
  },
  {
   "cell_type": "markdown",
   "metadata": {},
   "source": [
    "### 6.2 Average days traded per year\n",
    "The code for the median is very simple:"
   ]
  },
  {
   "cell_type": "code",
   "execution_count": 9,
   "metadata": {
    "collapsed": false
   },
   "outputs": [
    {
     "data": {
      "text/plain": [
       "252.0"
      ]
     },
     "execution_count": 9,
     "metadata": {},
     "output_type": "execute_result"
    }
   ],
   "source": [
    "avg_annual_days_traded = years.median()\n",
    "avg_annual_days_traded"
   ]
  },
  {
   "cell_type": "markdown",
   "metadata": {},
   "source": [
    "We can use this to adjust the formula used previously to:\n",
    "\n",
    "\\begin{align}\n",
    "\\text{n years} & = \\frac{2769}{252} \\\\\n",
    "& = 10.98809 \\\\\n",
    "& \\approx 11 \\text{years}\n",
    "\\end{align}\n",
    "\n",
    "As can now be seen, there is a vast difference between 7$\\frac{1}{2}$ years and 11 years. This increases the amount of time we held our stocks by $\\approx$ 46%!"
   ]
  },
  {
   "cell_type": "markdown",
   "metadata": {},
   "source": [
    "### 6.3 CAGR with correct `avg_annual_days_traded`\n",
    "We now have enough information to complete the formula, the code:"
   ]
  },
  {
   "cell_type": "code",
   "execution_count": 10,
   "metadata": {
    "collapsed": false
   },
   "outputs": [
    {
     "name": "stdout",
     "output_type": "stream",
     "text": [
      "Compound annual growth rate (CAGR) = 12.28%\n"
     ]
    }
   ],
   "source": [
    "days_traded = len(r)\n",
    "n_years = days_traded / avg_annual_days_traded\n",
    "\n",
    "cagr = (end_value / start_value) ** (1 / n_years)\n",
    "print(\"Compound annual growth rate (CAGR) = {:5.4}%\".format((cagr - 1) * 100))"
   ]
  },
  {
   "cell_type": "markdown",
   "metadata": {},
   "source": [
    "### 6.4 Incorrect `avg_annual_days_traded` and inflated CAGR\n",
    "And the CAGR with the incorrect `n_years` of $\\approx$ 7.5 (instead of the correct $\\approx$ 11):"
   ]
  },
  {
   "cell_type": "code",
   "execution_count": 11,
   "metadata": {
    "collapsed": false
   },
   "outputs": [
    {
     "name": "stdout",
     "output_type": "stream",
     "text": [
      "Compound annual growth rate (CAGR) = 18.26%\n"
     ]
    }
   ],
   "source": [
    "# Note: the n_years calculation is different\n",
    "days_traded = len(r)\n",
    "n_years = days_traded / 365\n",
    "\n",
    "cagr = (end_value / start_value) ** (1 / n_years)\n",
    "print(\"Compound annual growth rate (CAGR) = {:5.4}%\".format((cagr - 1) * 100))"
   ]
  },
  {
   "cell_type": "markdown",
   "metadata": {},
   "source": [
    "The incorrect CAGR of 18.26% is quite impressive for long-term buy-and-hold, unfortunately it is incorrect.\n",
    "\n",
    "This stresses the importance of correctly measuring the performance of any backtests, which is reliant on understanding the data you're working with."
   ]
  }
 ],
 "metadata": {
  "anaconda-cloud": {},
  "kernelspec": {
   "display_name": "Python [conda env:ds_ml_portfolio]",
   "language": "python",
   "name": "conda-env-ds_ml_portfolio-py"
  },
  "language_info": {
   "codemirror_mode": {
    "name": "ipython",
    "version": 3
   },
   "file_extension": ".py",
   "mimetype": "text/x-python",
   "name": "python",
   "nbconvert_exporter": "python",
   "pygments_lexer": "ipython3",
   "version": "3.5.3"
  },
  "toc": {
   "colors": {
    "hover_highlight": "#DAA520",
    "running_highlight": "#FF0000",
    "selected_highlight": "#FFD700"
   },
   "moveMenuLeft": true,
   "nav_menu": {
    "height": "387px",
    "width": "252px"
   },
   "navigate_menu": true,
   "number_sections": true,
   "sideBar": true,
   "threshold": 4,
   "toc_cell": false,
   "toc_section_display": "block",
   "toc_window_display": false
  }
 },
 "nbformat": 4,
 "nbformat_minor": 1
}
